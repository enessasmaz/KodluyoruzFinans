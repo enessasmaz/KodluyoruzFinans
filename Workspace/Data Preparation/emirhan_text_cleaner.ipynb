{
 "cells": [
  {
   "cell_type": "code",
   "execution_count": null,
   "metadata": {
    "id": "8XrDMPo3iQ4q"
   },
   "outputs": [],
   "source": [
    "from os.path import join\n",
    "import jpype\n",
    "from jpype import JClass, JString, getDefaultJVMPath, shutdownJVM, startJVM, isJVMStarted\n",
    "import pandas as pd\n",
    "import numpy as np\n",
    "import re"
   ]
  },
  {
   "cell_type": "code",
   "execution_count": null,
   "metadata": {
    "id": "QDkw6jWOiQ4v"
   },
   "outputs": [],
   "source": [
    "from os.path import join\n",
    "import jpype\n",
    "from jpype import JClass, JString, getDefaultJVMPath, shutdownJVM, startJVM, isJVMStarted\n",
    "import pandas as pd\n",
    "import numpy as np\n",
    "import re\n",
    "\n",
    "class Text_Cleaner:\n",
    "    \n",
    "    def __init__(self,):\n",
    "        self.zemberek() \n",
    "              \n",
    "    def text_cleaner(self,ds): #data_Seri - data.content\n",
    "        # kullanmadan önce dropna yap\n",
    "        array = []\n",
    "        ds = ds.apply(lambda x: self.norm_doc(str(x)))\n",
    "        ds = ds.str.replace(\"I\",\"ı\").str.replace(\"İ\",\"i\").str.lower().str.replace(\"[^\\w\\s]\",\" \")\n",
    "        \n",
    "        for i in ds: #kelime --> zemberek\n",
    "            a =  \"\"\n",
    "            for t in i.split():\n",
    "                try:  \n",
    "                    results: WordAnalysis = self.morphology.analyze(JString(t))\n",
    "                        \n",
    "                    if \"Neg\" in str(list(results)[0].formatLong()):\n",
    "                        wrd = str(list(results)[0].getLemmas()[1])\n",
    "                    else:\n",
    "                        wrd = str(list(results)[0].getStems()[0])\n",
    "                    a +=  wrd + \" \" \n",
    "\n",
    "                except:\n",
    "                    continue\n",
    "            a = re.sub(r'\\b\\w\\b', \"\", a) # tekharfler silindi\n",
    "            array.append(a)\n",
    "            \n",
    "        return array\n",
    "        \n",
    "        \n",
    "    def norm_doc(self,sentence): \n",
    "        sentence = re.sub(\"'[A-Za-z]+\", \"\", sentence) #tırnak eki silindi\n",
    "        \n",
    "        return re.sub(\"\\d+\", \"\", sentence) #sayılar silindi\n",
    "    \n",
    "    \n",
    "    def zemberek(self,):\n",
    "        ZEMBEREK_PATH: str = join('bin', 'zemberek-full.jar')\n",
    "        if not jpype.isJVMStarted():   \n",
    "            startJVM( getDefaultJVMPath(),'-ea',f'-Djava.class.path={ZEMBEREK_PATH}',convertStrings=False)\n",
    "        TurkishMorphology: JClass = JClass('zemberek.morphology.TurkishMorphology') # burada java'da import etmişsin gibi düşün\n",
    "        WordAnalysis: JClass = JClass('zemberek.morphology.analysis.WordAnalysis') # aynı şekilde\n",
    "        self.morphology: TurkishMorphology = TurkishMorphology.createWithDefaults() # burada da o import'u kullanıyorsun\n",
    "            \n",
    "    def zemberek_shutdown(self,):\n",
    "        shutdownJVM()\n",
    "    "
   ]
  },
  {
   "cell_type": "code",
   "execution_count": null,
   "metadata": {
    "id": "bheRxchbiQ4x"
   },
   "outputs": [],
   "source": [
    "data = pd.read_csv(\"ak.csv\")\n",
    "data = data[data['content'].notna()]"
   ]
  },
  {
   "cell_type": "code",
   "execution_count": null,
   "metadata": {
    "id": "2TSxK2vpiQ4z"
   },
   "outputs": [],
   "source": [
    "tc = Text_Cleaner()"
   ]
  },
  {
   "cell_type": "code",
   "execution_count": null,
   "metadata": {
    "id": "2KqQJQrViQ42"
   },
   "outputs": [],
   "source": [
    "data.content = tc.text_cleaner(data.content)"
   ]
  },
  {
   "cell_type": "code",
   "execution_count": null,
   "metadata": {
    "id": "JuCSoT5FiQ44",
    "outputId": "31205231-dbd6-4cae-cad9-8643bb6cd53b"
   },
   "outputs": [
    {
     "data": {
      "text/plain": [
       "['BIST 100, 103 bini aşağı geçtiğinde hedge şart. Ancak 101 bin sağlam destek. Yine de 103 bin geçilmeden iyimserlik zor.',\n",
       " \"BOEING'in üretiminde kusurlu olup olmadığı incelemeye başlanırken dünyadaki havayolu firmaları da bu model uçakların uçuşunu durdurdu. BIST ise bankacılık hisselerinin önderliğinde pozitif seyrini sürdürüyor.\",\n",
       " 'AKBNK, EREGL,THYAO, başta olmak üzere günün önemli şirket haberlerini Ziraat Yatırım analiz etti',\n",
       " 'ALARK,EKGYO,GOLTS başta olmak üzere günün önemli şirket haberlerini Ziraat Yatırım analiz etti.',\n",
       " 'Hazine ve Maliye Bakanlığı 10 milyon TL sermayeli İpotek Finansman Kurumu kuracak',\n",
       " 'Bugün gerçekleşen TCMB, Para Politikası Kurulu toplantısından çıkan faizi sabit tutma kararı sonrası analistlerden yorumlar geldi.',\n",
       " \"Norveç'in 1 trilyon dolarlık devlet varlık fonunun, 2018 sonu itibarıyla 707 milyon dolarını Türkiye'deki farklı şirketlerin hisse senetleriyle değerlendirdiği ortaya çıktı.\\r\\n\",\n",
       " 'İş Yatırım, Akbank için 7,85 TL hedef fiyat verdi',\n",
       " \"Borsa İstanbul'da işlem gören 10  mevduat bankasının aktif büyüklüğü, 2018 yıl sonunda 2,5 trilyon lirayı aştı\",\n",
       " 'ALKIM, BANVT ve CCOLA başta olmak üzere şirket haberleri ve tavsiyeleri']"
      ]
     },
     "execution_count": 27,
     "metadata": {
      "tags": []
     },
     "output_type": "execute_result"
    }
   ],
   "source": [
    "data.content.head(10).tolist()"
   ]
  },
  {
   "cell_type": "code",
   "execution_count": null,
   "metadata": {
    "id": "n3BAdSJwiQ47"
   },
   "outputs": [],
   "source": []
  }
 ],
 "metadata": {
  "colab": {
   "name": "text_cleaner.ipynb",
   "provenance": []
  },
  "kernelspec": {
   "display_name": "Python 3",
   "language": "python",
   "name": "python3"
  },
  "language_info": {
   "codemirror_mode": {
    "name": "ipython",
    "version": 3
   },
   "file_extension": ".py",
   "mimetype": "text/x-python",
   "name": "python",
   "nbconvert_exporter": "python",
   "pygments_lexer": "ipython3",
   "version": "3.7.6"
  }
 },
 "nbformat": 4,
 "nbformat_minor": 1
}
