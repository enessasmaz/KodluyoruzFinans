{
 "cells": [
  {
   "cell_type": "code",
   "execution_count": 1,
   "metadata": {
    "id": "NHi-saK3u9Cw"
   },
   "outputs": [],
   "source": [
    "import requests\n",
    "from bs4 import BeautifulSoup \n",
    "from tqdm import tqdm\n",
    "import pandas as pd"
   ]
  },
  {
   "cell_type": "code",
   "execution_count": null,
   "metadata": {},
   "outputs": [],
   "source": []
  },
  {
   "cell_type": "markdown",
   "metadata": {},
   "source": [
    "## Akbank"
   ]
  },
  {
   "cell_type": "code",
   "execution_count": 2,
   "metadata": {
    "id": "PMAsaAAdu9C3"
   },
   "outputs": [
    {
     "name": "stderr",
     "output_type": "stream",
     "text": [
      "100%|██████████| 63/63 [00:50<00:00,  1.25it/s]\n"
     ]
    }
   ],
   "source": [
    "#BORSAGÜNDEM\n",
    "arra_borsa=[]\n",
    "for i in tqdm(range(1,64)):\n",
    "    page = requests.get(f\"https://www.borsagundem.com/ara/akbank/{i}\")\n",
    "    sp = BeautifulSoup(page.content,\"html.parser\")\n",
    "    liste = sp.find(\"div\",{\"class\":\"srch\"}).find_all(\"li\")\n",
    "    \n",
    "    for l in liste:      \n",
    "        title = l.strong.text\n",
    "        tarih = l.small.text\n",
    "        saat = tarih[tarih.find(\",\")+2:]\n",
    "        tarih = tarih[:tarih.find(\",\")]\n",
    "        icerik = l.span.text\n",
    "        \n",
    "        arra_borsa.append([title,icerik,tarih,saat])"
   ]
  },
  {
   "cell_type": "code",
   "execution_count": 3,
   "metadata": {},
   "outputs": [
    {
     "data": {
      "text/plain": [
       "['Endekste 101.000 sağlam destek',\n",
       " 'BIST 100, 103 bini aşağı geçtiğinde hedge şart. Ancak 101 bin sağlam destek. Yine de 103 bin geçilmeden iyimserlik zor.',\n",
       " '15 Mart 2019',\n",
       " '09:27']"
      ]
     },
     "execution_count": 3,
     "metadata": {},
     "output_type": "execute_result"
    }
   ],
   "source": [
    "arra_borsa[0]"
   ]
  },
  {
   "cell_type": "code",
   "execution_count": null,
   "metadata": {},
   "outputs": [],
   "source": []
  },
  {
   "cell_type": "code",
   "execution_count": 4,
   "metadata": {
    "id": "FJQL17qou9C7"
   },
   "outputs": [
    {
     "name": "stderr",
     "output_type": "stream",
     "text": [
      " 27%|██▋       | 3/11 [00:22<01:02,  7.82s/it]"
     ]
    },
    {
     "name": "stdout",
     "output_type": "stream",
     "text": [
      "http://bigpara.hurriyet.com.tr/haberler/69/haftalik-piyasa-beklentisi_ID986177/\n"
     ]
    },
    {
     "name": "stderr",
     "output_type": "stream",
     "text": [
      " 36%|███▋      | 4/11 [00:30<00:55,  7.90s/it]"
     ]
    },
    {
     "name": "stdout",
     "output_type": "stream",
     "text": [
      "http://bigpara.hurriyet.com.tr/haberler/ekonomi-haberleri/kredi-kuruluslari-piyasalar_ID986143/\n"
     ]
    },
    {
     "name": "stderr",
     "output_type": "stream",
     "text": [
      " 45%|████▌     | 5/11 [00:35<00:42,  7.05s/it]"
     ]
    },
    {
     "name": "stdout",
     "output_type": "stream",
     "text": [
      "http://bigpara.hurriyet.com.tr/haberler/88/odeabank-a-atanamayan-mudur-olayinin-perde-arkasi_ID986070/\n"
     ]
    },
    {
     "name": "stderr",
     "output_type": "stream",
     "text": [
      " 55%|█████▍    | 6/11 [00:41<00:33,  6.70s/it]"
     ]
    },
    {
     "name": "stdout",
     "output_type": "stream",
     "text": [
      "http://bigpara.hurriyet.com.tr/haberler/83/yurticinde-gundem-tcmb-ve-3-ceyrek-finansallari_ID986039/\n",
      "http://bigpara.hurriyet.com.tr/haberler/83/enflasyon-ve-sirket-k-rlari-on-planda-olacak_ID985998/\n"
     ]
    },
    {
     "name": "stderr",
     "output_type": "stream",
     "text": [
      " 64%|██████▎   | 7/11 [00:46<00:24,  6.25s/it]"
     ]
    },
    {
     "name": "stdout",
     "output_type": "stream",
     "text": [
      "http://bigpara.hurriyet.com.tr/haberler/83/1-hisse-bazen-100-hisseden-buyuktur_ID985960/\n"
     ]
    },
    {
     "name": "stderr",
     "output_type": "stream",
     "text": [
      "100%|██████████| 11/11 [01:05<00:00,  5.94s/it]\n"
     ]
    },
    {
     "data": {
      "text/plain": [
       "248"
      ]
     },
     "execution_count": 4,
     "metadata": {},
     "output_type": "execute_result"
    }
   ],
   "source": [
    "#HURRİYET\n",
    "array_hur = []\n",
    "adres = \"http://bigpara.hurriyet.com.tr\"\n",
    "for i in tqdm(range(1,12)):   \n",
    "    page = requests.get(f\"http://bigpara.hurriyet.com.tr/arama/?firstDate=2015-06-01&secondDate=2020-09-28&includeKap=False&page={i}&s=akbank\")\n",
    "    sp = BeautifulSoup(page.content, \"html.parser\")\n",
    "    liste = sp.find(\"div\",{\"class\":\"aramasonuc\"}).find_all(\"li\")\n",
    "    \n",
    "    \n",
    "    for l in liste:\n",
    "        try:\n",
    "            title = l.a.text\n",
    "            icerik = l.find_all(\"a\")[1].text\n",
    "            tarih = l.span.text[1:-1]\n",
    "\n",
    "            link = adres + l.a.get(\"href\")\n",
    "            page_content = requests.get(link)\n",
    "            sp_content = BeautifulSoup(page_content.content, \"html.parser\")\n",
    "            st = sp_content.find(\"div\",{\"class\":\"dtSizeLine\"}).span.text\n",
    "            saat = st[st.find(\"-\")+2:st.find(\"-\")+7]\n",
    "\n",
    "            array_hur.append([title,icerik,tarih,saat])\n",
    "        except:\n",
    "            print(link)\n",
    "            continue\n",
    "len(array_hur)"
   ]
  },
  {
   "cell_type": "code",
   "execution_count": 5,
   "metadata": {
    "id": "CB8NXkQSu9DA"
   },
   "outputs": [
    {
     "name": "stderr",
     "output_type": "stream",
     "text": [
      "100%|██████████| 51/51 [00:25<00:00,  2.01it/s]\n"
     ]
    }
   ],
   "source": [
    "#FİNANS GÜNDEM\n",
    "array_finans = []\n",
    "for i in tqdm(range(1,52)):\n",
    "    page = requests.get(f\"https://www.finansgundem.com/ara/akbank/{i}\")\n",
    "    sp = BeautifulSoup(page.content,\"html.parser\")\n",
    "    liste = sp.find(\"div\",{\"class\":\"srch\"}).find_all(\"li\")\n",
    "    \n",
    "    for l in liste:      \n",
    "        title = l.strong.text\n",
    "        tarih = l.small.text\n",
    "        saat = tarih[tarih.find(\",\")+2:]\n",
    "        tarih = tarih[:tarih.find(\",\")]\n",
    "        icerik = l.span.text\n",
    "        \n",
    "        array_finans.append([title,icerik,tarih,saat])"
   ]
  },
  {
   "cell_type": "code",
   "execution_count": 6,
   "metadata": {
    "id": "y6wlvYTEu9DE"
   },
   "outputs": [],
   "source": [
    "column_names = [\"title\",\"content\",\"date\",\"time\"]\n",
    "data = pd.DataFrame(data=arra_borsa+array_hur+array_finans,columns=column_names)"
   ]
  },
  {
   "cell_type": "code",
   "execution_count": 7,
   "metadata": {},
   "outputs": [
    {
     "data": {
      "text/html": [
       "<div>\n",
       "<style scoped>\n",
       "    .dataframe tbody tr th:only-of-type {\n",
       "        vertical-align: middle;\n",
       "    }\n",
       "\n",
       "    .dataframe tbody tr th {\n",
       "        vertical-align: top;\n",
       "    }\n",
       "\n",
       "    .dataframe thead th {\n",
       "        text-align: right;\n",
       "    }\n",
       "</style>\n",
       "<table border=\"1\" class=\"dataframe\">\n",
       "  <thead>\n",
       "    <tr style=\"text-align: right;\">\n",
       "      <th></th>\n",
       "      <th>title</th>\n",
       "      <th>content</th>\n",
       "      <th>date</th>\n",
       "      <th>time</th>\n",
       "    </tr>\n",
       "  </thead>\n",
       "  <tbody>\n",
       "    <tr>\n",
       "      <th>0</th>\n",
       "      <td>Endekste 101.000 sağlam destek</td>\n",
       "      <td>BIST 100, 103 bini aşağı geçtiğinde hedge şart...</td>\n",
       "      <td>15 Mart 2019</td>\n",
       "      <td>09:27</td>\n",
       "    </tr>\n",
       "    <tr>\n",
       "      <th>1</th>\n",
       "      <td>Analistlerden sanayi verisi yorumları geldi</td>\n",
       "      <td></td>\n",
       "      <td>14 Mart 2019</td>\n",
       "      <td>13:56</td>\n",
       "    </tr>\n",
       "    <tr>\n",
       "      <th>2</th>\n",
       "      <td>Bankalar uçarken havayolları iniyor</td>\n",
       "      <td>BOEING'in üretiminde kusurlu olup olmadığı inc...</td>\n",
       "      <td>14 Mart 2019</td>\n",
       "      <td>10:00</td>\n",
       "    </tr>\n",
       "    <tr>\n",
       "      <th>3</th>\n",
       "      <td>Şirket haberleri ve tavsiyeleri 13/3/2019</td>\n",
       "      <td>AKBNK, EREGL,THYAO, başta olmak üzere günün ön...</td>\n",
       "      <td>13 Mart 2019</td>\n",
       "      <td>08:59</td>\n",
       "    </tr>\n",
       "    <tr>\n",
       "      <th>4</th>\n",
       "      <td>Şirket haberleri ve tavsiyeleri 12/3/2019</td>\n",
       "      <td>ALARK,EKGYO,GOLTS başta olmak üzere günün önem...</td>\n",
       "      <td>12 Mart 2019</td>\n",
       "      <td>09:10</td>\n",
       "    </tr>\n",
       "  </tbody>\n",
       "</table>\n",
       "</div>"
      ],
      "text/plain": [
       "                                         title  \\\n",
       "0               Endekste 101.000 sağlam destek   \n",
       "1  Analistlerden sanayi verisi yorumları geldi   \n",
       "2          Bankalar uçarken havayolları iniyor   \n",
       "3    Şirket haberleri ve tavsiyeleri 13/3/2019   \n",
       "4    Şirket haberleri ve tavsiyeleri 12/3/2019   \n",
       "\n",
       "                                             content          date   time  \n",
       "0  BIST 100, 103 bini aşağı geçtiğinde hedge şart...  15 Mart 2019  09:27  \n",
       "1                                                     14 Mart 2019  13:56  \n",
       "2  BOEING'in üretiminde kusurlu olup olmadığı inc...  14 Mart 2019  10:00  \n",
       "3  AKBNK, EREGL,THYAO, başta olmak üzere günün ön...  13 Mart 2019  08:59  \n",
       "4  ALARK,EKGYO,GOLTS başta olmak üzere günün önem...  12 Mart 2019  09:10  "
      ]
     },
     "execution_count": 7,
     "metadata": {},
     "output_type": "execute_result"
    }
   ],
   "source": [
    "data.head()"
   ]
  },
  {
   "cell_type": "code",
   "execution_count": null,
   "metadata": {},
   "outputs": [],
   "source": []
  },
  {
   "cell_type": "markdown",
   "metadata": {},
   "source": [
    "## HALK BANKASI"
   ]
  },
  {
   "cell_type": "code",
   "execution_count": 14,
   "metadata": {},
   "outputs": [
    {
     "name": "stderr",
     "output_type": "stream",
     "text": [
      "100%|██████████| 63/63 [00:50<00:00,  1.26it/s]"
     ]
    },
    {
     "name": "stdout",
     "output_type": "stream",
     "text": [
      "Başlangıç:  20 Temmuz 2015  \n",
      "Bitiş:      15 Mart 2019  \n",
      "uzunluk:    1000\n"
     ]
    },
    {
     "name": "stderr",
     "output_type": "stream",
     "text": [
      "\n"
     ]
    }
   ],
   "source": [
    "#Borsa Gündem\n",
    "halk_array_borsa=[]\n",
    "for i in tqdm(range(1,64)):\n",
    "    page = requests.get(f\"https://www.borsagundem.com/ara/halkbank/{i}\")\n",
    "    sp = BeautifulSoup(page.content,\"html.parser\")\n",
    "    liste = sp.find(\"div\",{\"class\":\"srch\"}).find_all(\"li\")\n",
    "    \n",
    "    for l in liste:      \n",
    "        title = l.strong.text\n",
    "        tarih = l.small.text\n",
    "        saat = tarih[tarih.find(\",\")+2:]\n",
    "        tarih = tarih[:tarih.find(\",\")]\n",
    "        icerik = l.span.text\n",
    "        \n",
    "        halk_array_borsa.append([title,icerik,tarih,saat])\n",
    "print(\"Başlangıç: \",halk_array_borsa[-1][2],\" \")\n",
    "print(\"Bitiş:     \",halk_array_borsa[0][2],\" \")\n",
    "print(\"uzunluk:   \",len(halk_array_borsa))"
   ]
  },
  {
   "cell_type": "code",
   "execution_count": null,
   "metadata": {},
   "outputs": [],
   "source": []
  },
  {
   "cell_type": "code",
   "execution_count": 15,
   "metadata": {},
   "outputs": [
    {
     "name": "stderr",
     "output_type": "stream",
     "text": [
      " 38%|███▊      | 5/13 [00:27<00:44,  5.54s/it]"
     ]
    },
    {
     "name": "stdout",
     "output_type": "stream",
     "text": [
      "http://bigpara.hurriyet.com.tr/haberler/69/piyasalarda-en-kotu-geride-mi-kaldi_ID986183/\n"
     ]
    },
    {
     "name": "stderr",
     "output_type": "stream",
     "text": [
      " 46%|████▌     | 6/13 [00:32<00:37,  5.35s/it]"
     ]
    },
    {
     "name": "stdout",
     "output_type": "stream",
     "text": [
      "http://bigpara.hurriyet.com.tr/haberler/69/piyasalar-gucunu-koruyor_ID986072/\n",
      "http://bigpara.hurriyet.com.tr/haberler/69/piyasalar-hala-olumlu-ancak-yorgun_ID986063/\n"
     ]
    },
    {
     "name": "stderr",
     "output_type": "stream",
     "text": [
      " 54%|█████▍    | 7/13 [00:37<00:31,  5.25s/it]"
     ]
    },
    {
     "name": "stdout",
     "output_type": "stream",
     "text": [
      "http://bigpara.hurriyet.com.tr/haberler/ekonomi-haberleri/aralik-ayinda-piyasalar_ID986046/\n"
     ]
    },
    {
     "name": "stderr",
     "output_type": "stream",
     "text": [
      " 62%|██████▏   | 8/13 [00:44<00:28,  5.76s/it]"
     ]
    },
    {
     "name": "stdout",
     "output_type": "stream",
     "text": [
      "http://bigpara.hurriyet.com.tr/haberler/ekonomi-haberleri/abidin-e-uc-kotu-bir-iyi-haber_ID986024/\n"
     ]
    },
    {
     "name": "stderr",
     "output_type": "stream",
     "text": [
      " 69%|██████▉   | 9/13 [00:50<00:23,  5.94s/it]"
     ]
    },
    {
     "name": "stdout",
     "output_type": "stream",
     "text": [
      "http://bigpara.hurriyet.com.tr/haberler/ekonomi-haberleri/nisan-ayinda-borsa-istanbul_ID985924/\n"
     ]
    },
    {
     "name": "stderr",
     "output_type": "stream",
     "text": [
      "100%|██████████| 13/13 [01:11<00:00,  5.52s/it]"
     ]
    },
    {
     "name": "stdout",
     "output_type": "stream",
     "text": [
      "Başlangıç:  15.06.2015  \n",
      "Bitiş:      11.09.2020  \n",
      "uzunluk:    311\n"
     ]
    },
    {
     "name": "stderr",
     "output_type": "stream",
     "text": [
      "\n"
     ]
    }
   ],
   "source": [
    "#HURRİYET\n",
    "halk_array_hur = []\n",
    "adres = \"http://bigpara.hurriyet.com.tr\"\n",
    "for i in tqdm(range(1,14)):   \n",
    "    page = requests.get(f\"http://bigpara.hurriyet.com.tr/arama/?firstDate=2015-06-01&secondDate=2020-09-28&includeKap=False&page={i}&s=halkbank\")\n",
    "    sp = BeautifulSoup(page.content, \"html.parser\")\n",
    "    liste = sp.find(\"div\",{\"class\":\"aramasonuc\"}).find_all(\"li\")\n",
    "    \n",
    "    \n",
    "    for l in liste:\n",
    "        try:\n",
    "            title = l.a.text\n",
    "            icerik = l.find_all(\"a\")[1].text\n",
    "            tarih = l.span.text[1:-1]\n",
    "\n",
    "            link = adres + l.a.get(\"href\")\n",
    "            page_content = requests.get(link)\n",
    "            sp_content = BeautifulSoup(page_content.content, \"html.parser\")\n",
    "            st = sp_content.find(\"div\",{\"class\":\"dtSizeLine\"}).span.text\n",
    "            saat = st[st.find(\"-\")+2:st.find(\"-\")+7]\n",
    "\n",
    "            halk_array_hur.append([title,icerik,tarih,saat])\n",
    "        except:\n",
    "            print(link)\n",
    "            continue\n",
    "print(\"Başlangıç: \",halk_array_hur[-1][2],\" \")\n",
    "print(\"Bitiş:     \",halk_array_hur[0][2],\" \")\n",
    "print(\"uzunluk:   \",len(halk_array_hur))"
   ]
  },
  {
   "cell_type": "code",
   "execution_count": null,
   "metadata": {},
   "outputs": [],
   "source": []
  },
  {
   "cell_type": "code",
   "execution_count": 16,
   "metadata": {},
   "outputs": [
    {
     "name": "stderr",
     "output_type": "stream",
     "text": [
      "100%|██████████| 63/63 [00:28<00:00,  2.19it/s]"
     ]
    },
    {
     "name": "stdout",
     "output_type": "stream",
     "text": [
      "Başlangıç:  07 Temmuz 2014  \n",
      "Bitiş:      14 Mart 2019  \n",
      "uzunluk:    1000\n"
     ]
    },
    {
     "name": "stderr",
     "output_type": "stream",
     "text": [
      "\n"
     ]
    }
   ],
   "source": [
    "#FİNANS GÜNDEM\n",
    "halk_array_finans = []\n",
    "for i in tqdm(range(1,64)):\n",
    "    page = requests.get(f\"https://www.finansgundem.com/ara/halkbank/{i}\")\n",
    "    sp = BeautifulSoup(page.content,\"html.parser\")\n",
    "    liste = sp.find(\"div\",{\"class\":\"srch\"}).find_all(\"li\")\n",
    "    \n",
    "    for l in liste:      \n",
    "        title = l.strong.text\n",
    "        tarih = l.small.text\n",
    "        saat = tarih[tarih.find(\",\")+2:]\n",
    "        tarih = tarih[:tarih.find(\",\")]\n",
    "        icerik = l.span.text\n",
    "        \n",
    "        halk_array_finans.append([title,icerik,tarih,saat])\n",
    "print(\"Başlangıç: \",halk_array_finans[-1][2],\" \")\n",
    "print(\"Bitiş:     \",halk_array_finans[0][2],\" \")\n",
    "print(\"uzunluk:   \",len(halk_array_finans))"
   ]
  },
  {
   "cell_type": "code",
   "execution_count": null,
   "metadata": {},
   "outputs": [],
   "source": []
  },
  {
   "cell_type": "markdown",
   "metadata": {},
   "source": [
    "## İş Bankası"
   ]
  },
  {
   "cell_type": "code",
   "execution_count": 17,
   "metadata": {},
   "outputs": [
    {
     "name": "stderr",
     "output_type": "stream",
     "text": [
      "100%|██████████| 63/63 [01:02<00:00,  1.01it/s]"
     ]
    },
    {
     "name": "stdout",
     "output_type": "stream",
     "text": [
      "Başlangıç:  20 Temmuz 2015  \n",
      "Bitiş:      15 Mart 2019  \n",
      "uzunluk:    1000\n"
     ]
    },
    {
     "name": "stderr",
     "output_type": "stream",
     "text": [
      "\n"
     ]
    }
   ],
   "source": [
    "#Borsa Gündem\n",
    "is_array_borsa=[]\n",
    "for i in tqdm(range(1,64)):\n",
    "    page = requests.get(f\"https://www.borsagundem.com/ara/iş%20bankası/{i}\")\n",
    "    sp = BeautifulSoup(page.content,\"html.parser\")\n",
    "    liste = sp.find(\"div\",{\"class\":\"srch\"}).find_all(\"li\")\n",
    "    \n",
    "    for l in liste:      \n",
    "        title = l.strong.text\n",
    "        tarih = l.small.text\n",
    "        saat = tarih[tarih.find(\",\")+2:]\n",
    "        tarih = tarih[:tarih.find(\",\")]\n",
    "        icerik = l.span.text\n",
    "        \n",
    "        is_array_borsa.append([title,icerik,tarih,saat])\n",
    "        \n",
    "print(\"Başlangıç: \",halk_array_borsa[-1][2],\" \")\n",
    "print(\"Bitiş:     \",halk_array_borsa[0][2],\" \")\n",
    "print(\"uzunluk:   \",len(halk_array_borsa))"
   ]
  },
  {
   "cell_type": "code",
   "execution_count": null,
   "metadata": {},
   "outputs": [],
   "source": []
  },
  {
   "cell_type": "code",
   "execution_count": 18,
   "metadata": {},
   "outputs": [
    {
     "name": "stderr",
     "output_type": "stream",
     "text": [
      "100%|██████████| 4/4 [00:16<00:00,  4.10s/it]"
     ]
    },
    {
     "name": "stdout",
     "output_type": "stream",
     "text": [
      "Başlangıç:  02.08.2018  \n",
      "Bitiş:      27.08.2020  \n",
      "uzunluk:    47\n"
     ]
    },
    {
     "name": "stderr",
     "output_type": "stream",
     "text": [
      "\n"
     ]
    }
   ],
   "source": [
    "#HURRİYET\n",
    "is_array_hur = []\n",
    "adres = \"http://bigpara.hurriyet.com.tr\"\n",
    "for i in tqdm(range(1,5)):   \n",
    "    page = requests.get(f\"http://bigpara.hurriyet.com.tr/arama/?firstDate=2015-06-01&secondDate=2020-09-28&includeKap=False&page={i}&s=is%20bankasi\")\n",
    "    sp = BeautifulSoup(page.content, \"html.parser\")\n",
    "    liste = sp.find(\"div\",{\"class\":\"aramasonuc\"}).find_all(\"li\")\n",
    "    \n",
    "    \n",
    "    for l in liste:\n",
    "        try:\n",
    "            title = l.a.text\n",
    "            icerik = l.find_all(\"a\")[1].text\n",
    "            tarih = l.span.text[1:-1]\n",
    "\n",
    "            link = adres + l.a.get(\"href\")\n",
    "            page_content = requests.get(link)\n",
    "            sp_content = BeautifulSoup(page_content.content, \"html.parser\")\n",
    "            st = sp_content.find(\"div\",{\"class\":\"dtSizeLine\"}).span.text\n",
    "            saat = st[st.find(\"-\")+2:st.find(\"-\")+7]\n",
    "\n",
    "            is_array_hur.append([title,icerik,tarih,saat])\n",
    "        except:\n",
    "            print(link)\n",
    "            continue\n",
    "print(\"Başlangıç: \",is_array_hur[-1][2],\" \")\n",
    "print(\"Bitiş:     \",is_array_hur[0][2],\" \")\n",
    "print(\"uzunluk:   \",len(is_array_hur))"
   ]
  },
  {
   "cell_type": "code",
   "execution_count": null,
   "metadata": {},
   "outputs": [],
   "source": []
  },
  {
   "cell_type": "code",
   "execution_count": 19,
   "metadata": {},
   "outputs": [
    {
     "name": "stderr",
     "output_type": "stream",
     "text": [
      "100%|██████████| 63/63 [00:29<00:00,  2.15it/s]"
     ]
    },
    {
     "name": "stdout",
     "output_type": "stream",
     "text": [
      "Başlangıç:  25 Ekim 2017  \n",
      "Bitiş:      14 Mart 2019  \n",
      "uzunluk:    1000\n"
     ]
    },
    {
     "name": "stderr",
     "output_type": "stream",
     "text": [
      "\n"
     ]
    }
   ],
   "source": [
    "#FİNANS GÜNDEM\n",
    "is_array_finans = []\n",
    "for i in tqdm(range(1,64)):\n",
    "    page = requests.get(f\"https://www.finansgundem.com/ara/iş%20bankası/{i}\")\n",
    "    sp = BeautifulSoup(page.content,\"html.parser\")\n",
    "    liste = sp.find(\"div\",{\"class\":\"srch\"}).find_all(\"li\")\n",
    "    \n",
    "    for l in liste:      \n",
    "        title = l.strong.text\n",
    "        tarih = l.small.text\n",
    "        saat = tarih[tarih.find(\",\")+2:]\n",
    "        tarih = tarih[:tarih.find(\",\")]\n",
    "        icerik = l.span.text\n",
    "        \n",
    "        is_array_finans.append([title,icerik,tarih,saat])\n",
    "print(\"Başlangıç: \",is_array_finans[-1][2],\" \")\n",
    "print(\"Bitiş:     \",is_array_finans[0][2],\" \")\n",
    "print(\"uzunluk:   \",len(is_array_finans))"
   ]
  },
  {
   "cell_type": "code",
   "execution_count": null,
   "metadata": {},
   "outputs": [],
   "source": []
  },
  {
   "cell_type": "markdown",
   "metadata": {},
   "source": [
    "## YAPI KREDİ"
   ]
  },
  {
   "cell_type": "code",
   "execution_count": 20,
   "metadata": {},
   "outputs": [
    {
     "name": "stderr",
     "output_type": "stream",
     "text": [
      "100%|██████████| 63/63 [00:40<00:00,  1.57it/s]"
     ]
    },
    {
     "name": "stdout",
     "output_type": "stream",
     "text": [
      "Başlangıç:  06 Aralık 2013  \n",
      "Bitiş:      08 Mart 2019  \n",
      "uzunluk:    1000\n"
     ]
    },
    {
     "name": "stderr",
     "output_type": "stream",
     "text": [
      "\n"
     ]
    }
   ],
   "source": [
    "#Borsa Gündem\n",
    "yapiK_array_borsa=[]\n",
    "for i in tqdm(range(1,64)):\n",
    "    page = requests.get(f\"https://www.borsagundem.com/ara/yapı%20kredi/{i}\")\n",
    "    sp = BeautifulSoup(page.content,\"html.parser\")\n",
    "    liste = sp.find(\"div\",{\"class\":\"srch\"}).find_all(\"li\")\n",
    "    \n",
    "    for l in liste:      \n",
    "        title = l.strong.text\n",
    "        tarih = l.small.text\n",
    "        saat = tarih[tarih.find(\",\")+2:]\n",
    "        tarih = tarih[:tarih.find(\",\")]\n",
    "        icerik = l.span.text\n",
    "        \n",
    "        yapiK_array_borsa.append([title,icerik,tarih,saat])\n",
    "        \n",
    "print(\"Başlangıç: \",yapiK_array_borsa[-1][2],\" \")\n",
    "print(\"Bitiş:     \",yapiK_array_borsa[0][2],\" \")\n",
    "print(\"uzunluk:   \",len(yapiK_array_borsa))"
   ]
  },
  {
   "cell_type": "code",
   "execution_count": null,
   "metadata": {},
   "outputs": [],
   "source": []
  },
  {
   "cell_type": "code",
   "execution_count": 21,
   "metadata": {},
   "outputs": [
    {
     "name": "stderr",
     "output_type": "stream",
     "text": [
      "100%|██████████| 3/3 [00:11<00:00,  3.79s/it]"
     ]
    },
    {
     "name": "stdout",
     "output_type": "stream",
     "text": [
      "Başlangıç:  31.07.2015  \n",
      "Bitiş:      14.08.2020  \n",
      "uzunluk:    53\n"
     ]
    },
    {
     "name": "stderr",
     "output_type": "stream",
     "text": [
      "\n"
     ]
    }
   ],
   "source": [
    "#HURRİYET\n",
    "yapiK_array_hur = []\n",
    "adres = \"http://bigpara.hurriyet.com.tr\"\n",
    "for i in tqdm(range(1,4)):   \n",
    "    page = requests.get(f\"http://bigpara.hurriyet.com.tr/arama/?firstDate=2015-06-01&secondDate=2020-09-28&includeKap=False&page={i}&s=yapi%20kredi\")\n",
    "    sp = BeautifulSoup(page.content, \"html.parser\")\n",
    "    liste = sp.find(\"div\",{\"class\":\"aramasonuc\"}).find_all(\"li\")\n",
    "    \n",
    "    \n",
    "    for l in liste:\n",
    "        try:\n",
    "            title = l.a.text\n",
    "            icerik = l.find_all(\"a\")[1].text\n",
    "            tarih = l.span.text[1:-1]\n",
    "\n",
    "            link = adres + l.a.get(\"href\")\n",
    "            page_content = requests.get(link)\n",
    "            sp_content = BeautifulSoup(page_content.content, \"html.parser\")\n",
    "            st = sp_content.find(\"div\",{\"class\":\"dtSizeLine\"}).span.text\n",
    "            saat = st[st.find(\"-\")+2:st.find(\"-\")+7]\n",
    "\n",
    "            yapiK_array_hur.append([title,icerik,tarih,saat])\n",
    "        except:\n",
    "            print(link)\n",
    "            continue\n",
    "print(\"Başlangıç: \",yapiK_array_hur[-1][2],\" \")\n",
    "print(\"Bitiş:     \",yapiK_array_hur[0][2],\" \")\n",
    "print(\"uzunluk:   \",len(yapiK_array_hur))"
   ]
  },
  {
   "cell_type": "code",
   "execution_count": null,
   "metadata": {},
   "outputs": [],
   "source": []
  },
  {
   "cell_type": "code",
   "execution_count": 22,
   "metadata": {},
   "outputs": [
    {
     "name": "stderr",
     "output_type": "stream",
     "text": [
      "100%|██████████| 63/63 [00:30<00:00,  2.05it/s]"
     ]
    },
    {
     "name": "stdout",
     "output_type": "stream",
     "text": [
      "Başlangıç:  10 Eylül 2014  \n",
      "Bitiş:      08 Mart 2019  \n",
      "uzunluk:    1000\n"
     ]
    },
    {
     "name": "stderr",
     "output_type": "stream",
     "text": [
      "\n"
     ]
    }
   ],
   "source": [
    "#FİNANS GÜNDEM\n",
    "yapiK_array_finans = []\n",
    "for i in tqdm(range(1,64)):\n",
    "    page = requests.get(f\"https://www.finansgundem.com/ara/yapı%20kredi/{i}\")\n",
    "    sp = BeautifulSoup(page.content,\"html.parser\")\n",
    "    liste = sp.find(\"div\",{\"class\":\"srch\"}).find_all(\"li\")\n",
    "    \n",
    "    for l in liste:      \n",
    "        title = l.strong.text\n",
    "        tarih = l.small.text\n",
    "        saat = tarih[tarih.find(\",\")+2:]\n",
    "        tarih = tarih[:tarih.find(\",\")]\n",
    "        icerik = l.span.text\n",
    "        \n",
    "        yapiK_array_finans.append([title,icerik,tarih,saat])\n",
    "print(\"Başlangıç: \",yapiK_array_finans[-1][2],\" \")\n",
    "print(\"Bitiş:     \",yapiK_array_finans[0][2],\" \")\n",
    "print(\"uzunluk:   \",len(yapiK_array_finans))"
   ]
  },
  {
   "cell_type": "code",
   "execution_count": null,
   "metadata": {},
   "outputs": [],
   "source": []
  },
  {
   "cell_type": "markdown",
   "metadata": {},
   "source": [
    "## VAKIFBANK"
   ]
  },
  {
   "cell_type": "code",
   "execution_count": 23,
   "metadata": {},
   "outputs": [
    {
     "name": "stderr",
     "output_type": "stream",
     "text": [
      "100%|██████████| 63/63 [00:18<00:00,  3.36it/s]"
     ]
    },
    {
     "name": "stdout",
     "output_type": "stream",
     "text": [
      "Başlangıç:  06 Aralık 2013  \n",
      "Bitiş:      08 Mart 2019  \n",
      "uzunluk:    1000\n"
     ]
    },
    {
     "name": "stderr",
     "output_type": "stream",
     "text": [
      "\n"
     ]
    }
   ],
   "source": [
    "#Borsa Gündem\n",
    "vakif_array_borsa=[]\n",
    "for i in tqdm(range(1,64)):\n",
    "    page = requests.get(f\"https://www.borsagundem.com/ara/yapı%20kredi/{i}\")\n",
    "    sp = BeautifulSoup(page.content,\"html.parser\")\n",
    "    liste = sp.find(\"div\",{\"class\":\"srch\"}).find_all(\"li\")\n",
    "    \n",
    "    for l in liste:      \n",
    "        title = l.strong.text\n",
    "        tarih = l.small.text\n",
    "        saat = tarih[tarih.find(\",\")+2:]\n",
    "        tarih = tarih[:tarih.find(\",\")]\n",
    "        icerik = l.span.text\n",
    "        \n",
    "        vakif_array_borsa.append([title,icerik,tarih,saat])\n",
    "        \n",
    "print(\"Başlangıç: \",vakif_array_borsa[-1][2],\" \")\n",
    "print(\"Bitiş:     \",vakif_array_borsa[0][2],\" \")\n",
    "print(\"uzunluk:   \",len(vakif_array_borsa))"
   ]
  },
  {
   "cell_type": "code",
   "execution_count": null,
   "metadata": {},
   "outputs": [],
   "source": []
  },
  {
   "cell_type": "code",
   "execution_count": 24,
   "metadata": {},
   "outputs": [
    {
     "name": "stderr",
     "output_type": "stream",
     "text": [
      "100%|██████████| 3/3 [00:10<00:00,  3.39s/it]"
     ]
    },
    {
     "name": "stdout",
     "output_type": "stream",
     "text": [
      "Başlangıç:  26.06.2015  \n",
      "Bitiş:      18.10.2018  \n",
      "uzunluk:    75\n"
     ]
    },
    {
     "name": "stderr",
     "output_type": "stream",
     "text": [
      "\n"
     ]
    }
   ],
   "source": [
    "#HURRİYET\n",
    "vakif_array_hur = []\n",
    "adres = \"http://bigpara.hurriyet.com.tr\"\n",
    "for i in tqdm(range(1,4)):   \n",
    "    page = requests.get(f\"http://bigpara.hurriyet.com.tr/arama/?firstDate=2015-06-1&secondDate=2020-09-28&includeKap=False&page=3&s=vakifbank\")\n",
    "    sp = BeautifulSoup(page.content, \"html.parser\")\n",
    "    liste = sp.find(\"div\",{\"class\":\"aramasonuc\"}).find_all(\"li\")\n",
    "    \n",
    "    \n",
    "    for l in liste:\n",
    "        try:\n",
    "            title = l.a.text\n",
    "            icerik = l.find_all(\"a\")[1].text\n",
    "            tarih = l.span.text[1:-1]\n",
    "\n",
    "            link = adres + l.a.get(\"href\")\n",
    "            page_content = requests.get(link)\n",
    "            sp_content = BeautifulSoup(page_content.content, \"html.parser\")\n",
    "            st = sp_content.find(\"div\",{\"class\":\"dtSizeLine\"}).span.text\n",
    "            saat = st[st.find(\"-\")+2:st.find(\"-\")+7]\n",
    "\n",
    "            vakif_array_hur.append([title,icerik,tarih,saat])\n",
    "        except:\n",
    "            print(link)\n",
    "            continue\n",
    "print(\"Başlangıç: \",vakif_array_hur[-1][2],\" \")\n",
    "print(\"Bitiş:     \",vakif_array_hur[0][2],\" \")\n",
    "print(\"uzunluk:   \",len(vakif_array_hur))"
   ]
  },
  {
   "cell_type": "code",
   "execution_count": null,
   "metadata": {},
   "outputs": [],
   "source": []
  },
  {
   "cell_type": "code",
   "execution_count": 25,
   "metadata": {},
   "outputs": [
    {
     "name": "stderr",
     "output_type": "stream",
     "text": [
      "100%|██████████| 63/63 [00:04<00:00, 12.77it/s]"
     ]
    },
    {
     "name": "stdout",
     "output_type": "stream",
     "text": [
      "Başlangıç:  10 Eylül 2014  \n",
      "Bitiş:      08 Mart 2019  \n",
      "uzunluk:    1000\n"
     ]
    },
    {
     "name": "stderr",
     "output_type": "stream",
     "text": [
      "\n"
     ]
    }
   ],
   "source": [
    "#FİNANS GÜNDEM\n",
    "vakif_array_finans = []\n",
    "for i in tqdm(range(1,64)):\n",
    "    page = requests.get(f\"https://www.finansgundem.com/ara/yapı%20kredi/{i}\")\n",
    "    sp = BeautifulSoup(page.content,\"html.parser\")\n",
    "    liste = sp.find(\"div\",{\"class\":\"srch\"}).find_all(\"li\")\n",
    "    \n",
    "    for l in liste:      \n",
    "        title = l.strong.text\n",
    "        tarih = l.small.text\n",
    "        saat = tarih[tarih.find(\",\")+2:]\n",
    "        tarih = tarih[:tarih.find(\",\")]\n",
    "        icerik = l.span.text\n",
    "        \n",
    "        vakif_array_finans.append([title,icerik,tarih,saat])\n",
    "print(\"Başlangıç: \",vakif_array_finans[-1][2],\" \")\n",
    "print(\"Bitiş:     \",vakif_array_finans[0][2],\" \")\n",
    "print(\"uzunluk:   \",len(vakif_array_finans))"
   ]
  },
  {
   "cell_type": "code",
   "execution_count": null,
   "metadata": {},
   "outputs": [],
   "source": []
  },
  {
   "cell_type": "markdown",
   "metadata": {},
   "source": [
    "## GARANTİ"
   ]
  },
  {
   "cell_type": "code",
   "execution_count": 26,
   "metadata": {},
   "outputs": [
    {
     "name": "stderr",
     "output_type": "stream",
     "text": [
      "100%|██████████| 63/63 [00:40<00:00,  1.56it/s]"
     ]
    },
    {
     "name": "stdout",
     "output_type": "stream",
     "text": [
      "Başlangıç:  13 Haziran 2017  \n",
      "Bitiş:      15 Mart 2019  \n",
      "uzunluk:    1000\n"
     ]
    },
    {
     "name": "stderr",
     "output_type": "stream",
     "text": [
      "\n"
     ]
    }
   ],
   "source": [
    "#Borsa Gündem\n",
    "garanti_array_borsa=[]\n",
    "for i in tqdm(range(1,64)):\n",
    "    page = requests.get(f\"https://www.borsagundem.com/ara/garanti/{i}\")\n",
    "    sp = BeautifulSoup(page.content,\"html.parser\")\n",
    "    liste = sp.find(\"div\",{\"class\":\"srch\"}).find_all(\"li\")\n",
    "    \n",
    "    for l in liste:      \n",
    "        title = l.strong.text\n",
    "        tarih = l.small.text\n",
    "        saat = tarih[tarih.find(\",\")+2:]\n",
    "        tarih = tarih[:tarih.find(\",\")]\n",
    "        icerik = l.span.text\n",
    "        \n",
    "        garanti_array_borsa.append([title,icerik,tarih,saat])\n",
    "        \n",
    "print(\"Başlangıç: \",garanti_array_borsa[-1][2],\" \")\n",
    "print(\"Bitiş:     \",garanti_array_borsa[0][2],\" \")\n",
    "print(\"uzunluk:   \",len(garanti_array_borsa))"
   ]
  },
  {
   "cell_type": "code",
   "execution_count": null,
   "metadata": {},
   "outputs": [],
   "source": []
  },
  {
   "cell_type": "code",
   "execution_count": 27,
   "metadata": {},
   "outputs": [
    {
     "name": "stderr",
     "output_type": "stream",
     "text": [
      "  0%|          | 0/36 [00:00<?, ?it/s]"
     ]
    },
    {
     "name": "stdout",
     "output_type": "stream",
     "text": [
      "http://bigpara.hurriyet.com.tr/haberler/ekonomi-haberleri/trend-degisikligi-yasanabilir_ID986360/\n"
     ]
    },
    {
     "name": "stderr",
     "output_type": "stream",
     "text": [
      "  3%|▎         | 1/36 [00:06<03:37,  6.20s/it]"
     ]
    },
    {
     "name": "stdout",
     "output_type": "stream",
     "text": [
      "http://bigpara.hurriyet.com.tr/haberler/64/piyasada-yon-var-mi_ID986328/\n"
     ]
    },
    {
     "name": "stderr",
     "output_type": "stream",
     "text": [
      "  6%|▌         | 2/36 [00:10<03:14,  5.73s/it]"
     ]
    },
    {
     "name": "stdout",
     "output_type": "stream",
     "text": [
      "http://bigpara.hurriyet.com.tr/haberler/kredi-haberleri/avrupa-birligi-ve-corona_ID986294/\n",
      "http://bigpara.hurriyet.com.tr/haberler/ekonomi-haberleri/piyasalar-araf-ta_ID986286/\n"
     ]
    },
    {
     "name": "stderr",
     "output_type": "stream",
     "text": [
      "  8%|▊         | 3/36 [00:16<03:11,  5.79s/it]"
     ]
    },
    {
     "name": "stdout",
     "output_type": "stream",
     "text": [
      "http://bigpara.hurriyet.com.tr/haberler/93/ihracatci-icin-firsat-eximbank-faiz-indirimi_ID986275/\n"
     ]
    },
    {
     "name": "stderr",
     "output_type": "stream",
     "text": [
      " 14%|█▍        | 5/36 [00:28<02:57,  5.72s/it]"
     ]
    },
    {
     "name": "stdout",
     "output_type": "stream",
     "text": [
      "http://bigpara.hurriyet.com.tr/haberler/kredi-haberleri/yeni-ekonomi-programi-uzerine_ID986247/\n"
     ]
    },
    {
     "name": "stderr",
     "output_type": "stream",
     "text": [
      " 22%|██▏       | 8/36 [00:46<02:47,  5.99s/it]"
     ]
    },
    {
     "name": "stdout",
     "output_type": "stream",
     "text": [
      "http://bigpara.hurriyet.com.tr/haberler/93/dunyadan-kaynak-getiren-yedinci-buyuk-banka-turk-eximbank_ID986224/\n"
     ]
    },
    {
     "name": "stderr",
     "output_type": "stream",
     "text": [
      " 25%|██▌       | 9/36 [00:53<02:47,  6.22s/it]"
     ]
    },
    {
     "name": "stdout",
     "output_type": "stream",
     "text": [
      "http://bigpara.hurriyet.com.tr/haberler/ekonomi-haberleri/ucuncu-perde-uzun-surecek_ID986222/\n"
     ]
    },
    {
     "name": "stderr",
     "output_type": "stream",
     "text": [
      " 31%|███       | 11/36 [01:06<02:41,  6.45s/it]"
     ]
    },
    {
     "name": "stdout",
     "output_type": "stream",
     "text": [
      "http://bigpara.hurriyet.com.tr/haberler/ekonomi-haberleri/gec-olsun-guc-olmasin_ID986197/\n"
     ]
    },
    {
     "name": "stderr",
     "output_type": "stream",
     "text": [
      " 33%|███▎      | 12/36 [01:13<02:33,  6.41s/it]"
     ]
    },
    {
     "name": "stdout",
     "output_type": "stream",
     "text": [
      "http://bigpara.hurriyet.com.tr/haberler/69/haftalik-piyasa-beklentisi_ID986177/\n",
      "http://bigpara.hurriyet.com.tr/haberler/ekonomi-haberleri/borsa-taban-olusturuyor_ID986175/\n"
     ]
    },
    {
     "name": "stderr",
     "output_type": "stream",
     "text": [
      " 36%|███▌      | 13/36 [01:18<02:18,  6.04s/it]"
     ]
    },
    {
     "name": "stdout",
     "output_type": "stream",
     "text": [
      "http://bigpara.hurriyet.com.tr/haberler/ekonomi-haberleri/ekim-surpriz-yapabilir_ID986172/\n",
      "http://bigpara.hurriyet.com.tr/haberler/93/gelecegin-kadin-girisimcileri-icin-en-onemli-ihtiyac-destek-ve-tesvikler_ID986166/\n"
     ]
    },
    {
     "name": "stderr",
     "output_type": "stream",
     "text": [
      " 42%|████▏     | 15/36 [01:29<02:01,  5.80s/it]"
     ]
    },
    {
     "name": "stdout",
     "output_type": "stream",
     "text": [
      "http://bigpara.hurriyet.com.tr/haberler/69/piyasalarda-haftaya-bakis_ID986144/\n",
      "http://bigpara.hurriyet.com.tr/haberler/ekonomi-haberleri/kredi-kuruluslari-piyasalar_ID986143/\n"
     ]
    },
    {
     "name": "stderr",
     "output_type": "stream",
     "text": [
      " 53%|█████▎    | 19/36 [01:54<01:44,  6.16s/it]"
     ]
    },
    {
     "name": "stdout",
     "output_type": "stream",
     "text": [
      "http://bigpara.hurriyet.com.tr/haberler/ekonomi-haberleri/yeni-firsatlar-olusabilir_ID986058/\n"
     ]
    },
    {
     "name": "stderr",
     "output_type": "stream",
     "text": [
      " 56%|█████▌    | 20/36 [01:59<01:32,  5.77s/it]"
     ]
    },
    {
     "name": "stdout",
     "output_type": "stream",
     "text": [
      "http://bigpara.hurriyet.com.tr/haberler/83/tcmb-enflasyon-raporu-bilgilendirme-toplantisindan-notlar-erol-gurcan-yazdi_ID986044/\n"
     ]
    },
    {
     "name": "stderr",
     "output_type": "stream",
     "text": [
      " 58%|█████▊    | 21/36 [02:05<01:27,  5.83s/it]"
     ]
    },
    {
     "name": "stdout",
     "output_type": "stream",
     "text": [
      "http://bigpara.hurriyet.com.tr/haberler/83/yurticinde-gundem-tcmb-ve-3-ceyrek-finansallari_ID986039/\n",
      "http://bigpara.hurriyet.com.tr/haberler/ekonomi-haberleri/altinda-tarih-tekerrur-edebilir_ID986036/\n"
     ]
    },
    {
     "name": "stderr",
     "output_type": "stream",
     "text": [
      " 61%|██████    | 22/36 [02:09<01:17,  5.51s/it]"
     ]
    },
    {
     "name": "stdout",
     "output_type": "stream",
     "text": [
      "http://bigpara.hurriyet.com.tr/haberler/ekonomi-haberleri/ekim-ayinda-piyasalar_ID986035/\n"
     ]
    },
    {
     "name": "stderr",
     "output_type": "stream",
     "text": [
      " 64%|██████▍   | 23/36 [02:15<01:10,  5.40s/it]"
     ]
    },
    {
     "name": "stdout",
     "output_type": "stream",
     "text": [
      "http://bigpara.hurriyet.com.tr/haberler/ekonomi-haberleri/seytan-ayrintida-sakli_ID986014/\n",
      "http://bigpara.hurriyet.com.tr/haberler/83/yilin-geri-kalaninda-nelere-bakacagiz_ID986002/\n",
      "http://bigpara.hurriyet.com.tr/haberler/83/enflasyon-ve-sirket-k-rlari-on-planda-olacak_ID985998/\n"
     ]
    },
    {
     "name": "stderr",
     "output_type": "stream",
     "text": [
      " 67%|██████▋   | 24/36 [02:19<01:01,  5.13s/it]"
     ]
    },
    {
     "name": "stdout",
     "output_type": "stream",
     "text": [
      "http://bigpara.hurriyet.com.tr/haberler/85/fitch-ten-surpriz-cikmaz_ID985996/\n",
      "http://bigpara.hurriyet.com.tr/haberler/83/temmuz-un-kalani-virajlarla-dolu_ID985991/\n"
     ]
    },
    {
     "name": "stderr",
     "output_type": "stream",
     "text": [
      " 69%|██████▉   | 25/36 [02:24<00:54,  4.95s/it]"
     ]
    },
    {
     "name": "stdout",
     "output_type": "stream",
     "text": [
      "http://bigpara.hurriyet.com.tr/haberler/kobi-kategorisi-haberleri/faizler-ne-zaman-duser_ID985978/\n",
      "http://bigpara.hurriyet.com.tr/haberler/ekonomi-haberleri/altin-firsat-sunabilir_ID985969/\n"
     ]
    },
    {
     "name": "stderr",
     "output_type": "stream",
     "text": [
      " 72%|███████▏  | 26/36 [02:29<00:50,  5.01s/it]"
     ]
    },
    {
     "name": "stdout",
     "output_type": "stream",
     "text": [
      "http://bigpara.hurriyet.com.tr/haberler/ekonomi-haberleri/borsada-rayic-degisti_ID985949/\n",
      "http://bigpara.hurriyet.com.tr/haberler/69/borsa-sirket-karlari-ile-zirveye-kosuyor_ID985947/\n"
     ]
    },
    {
     "name": "stderr",
     "output_type": "stream",
     "text": [
      " 78%|███████▊  | 28/36 [02:39<00:40,  5.08s/it]"
     ]
    },
    {
     "name": "stdout",
     "output_type": "stream",
     "text": [
      "http://bigpara.hurriyet.com.tr/haberler/68/kuresel-britanya-nin-12-onceligi_ID985885/\n",
      "http://bigpara.hurriyet.com.tr/haberler/ekonomi-haberleri/cikmaz-sokak_ID985833/\n"
     ]
    },
    {
     "name": "stderr",
     "output_type": "stream",
     "text": [
      " 81%|████████  | 29/36 [02:45<00:37,  5.31s/it]"
     ]
    },
    {
     "name": "stdout",
     "output_type": "stream",
     "text": [
      "http://bigpara.hurriyet.com.tr/haberler/ekonomi-haberleri/perde-ne-zaman-kapanacak_ID985812/\n"
     ]
    },
    {
     "name": "stderr",
     "output_type": "stream",
     "text": [
      " 83%|████████▎ | 30/36 [02:51<00:33,  5.52s/it]"
     ]
    },
    {
     "name": "stdout",
     "output_type": "stream",
     "text": [
      "http://bigpara.hurriyet.com.tr/haberler/ekonomi-haberleri/agustos-ayinda-piyasalar_ID985753/\n",
      "http://bigpara.hurriyet.com.tr/haberler/ekonomi-haberleri/safak-vakti_ID985747/\n",
      "http://bigpara.hurriyet.com.tr/haberler/ekonomi-haberleri/kartlar-yeniden-dagildi_ID985691/\n"
     ]
    },
    {
     "name": "stderr",
     "output_type": "stream",
     "text": [
      " 86%|████████▌ | 31/36 [02:56<00:27,  5.54s/it]"
     ]
    },
    {
     "name": "stdout",
     "output_type": "stream",
     "text": [
      "http://bigpara.hurriyet.com.tr/haberler/ekonomi-haberleri/kabine-sonrasi-piyasalar_ID985677/\n",
      "http://bigpara.hurriyet.com.tr/haberler/59/faiz-indirimi-ne-getirecek_ID985656/\n"
     ]
    },
    {
     "name": "stderr",
     "output_type": "stream",
     "text": [
      " 92%|█████████▏| 33/36 [03:08<00:17,  5.71s/it]"
     ]
    },
    {
     "name": "stdout",
     "output_type": "stream",
     "text": [
      "http://bigpara.hurriyet.com.tr/haberler/67/2016-da-brexit-i-daha-cok-konusabiliriz_ID985561/\n",
      "http://bigpara.hurriyet.com.tr/haberler/61/alim-satim-stratejilerinde-dogru-bilinen-yanlislar-1_ID985513/\n"
     ]
    },
    {
     "name": "stderr",
     "output_type": "stream",
     "text": [
      " 94%|█████████▍| 34/36 [03:15<00:12,  6.08s/it]"
     ]
    },
    {
     "name": "stdout",
     "output_type": "stream",
     "text": [
      "http://bigpara.hurriyet.com.tr/doviz/haber/secim-oncesi-usdtry-son-durum_ID985497/\n"
     ]
    },
    {
     "name": "stderr",
     "output_type": "stream",
     "text": [
      " 97%|█████████▋| 35/36 [03:20<00:05,  5.77s/it]"
     ]
    },
    {
     "name": "stdout",
     "output_type": "stream",
     "text": [
      "http://bigpara.hurriyet.com.tr/haberler/ekonomi-haberleri/turkiye-ekonomisi-nereye-kosuyor_ID985455/\n",
      "http://bigpara.hurriyet.com.tr/haberler/ekonomi-haberleri/piyasalarda-ruzgar-nereden-esecek_ID985445/\n"
     ]
    },
    {
     "name": "stderr",
     "output_type": "stream",
     "text": [
      "100%|██████████| 36/36 [03:26<00:00,  5.74s/it]"
     ]
    },
    {
     "name": "stdout",
     "output_type": "stream",
     "text": [
      "Başlangıç:  20.07.2015  \n",
      "Bitiş:      12.09.2020  \n",
      "uzunluk:    858\n"
     ]
    },
    {
     "name": "stderr",
     "output_type": "stream",
     "text": [
      "\n"
     ]
    }
   ],
   "source": [
    "#HURRİYET\n",
    "garanti_array_hur = []\n",
    "adres = \"http://bigpara.hurriyet.com.tr\"\n",
    "for i in tqdm(range(1,37)):   \n",
    "    page = requests.get(f\"http://bigpara.hurriyet.com.tr/arama/?firstDate=2015-06-1&secondDate=2020-09-28&includeKap=False&page={i}&s=garanti\")\n",
    "    sp = BeautifulSoup(page.content, \"html.parser\")\n",
    "    liste = sp.find(\"div\",{\"class\":\"aramasonuc\"}).find_all(\"li\")\n",
    "    \n",
    "    \n",
    "    for l in liste:\n",
    "        try:\n",
    "            title = l.a.text\n",
    "            icerik = l.find_all(\"a\")[1].text\n",
    "            tarih = l.span.text[1:-1]\n",
    "\n",
    "            link = adres + l.a.get(\"href\")\n",
    "            page_content = requests.get(link)\n",
    "            sp_content = BeautifulSoup(page_content.content, \"html.parser\")\n",
    "            st = sp_content.find(\"div\",{\"class\":\"dtSizeLine\"}).span.text\n",
    "            saat = st[st.find(\"-\")+2:st.find(\"-\")+7]\n",
    "\n",
    "            garanti_array_hur.append([title,icerik,tarih,saat])\n",
    "        except:\n",
    "            print(link)\n",
    "            continue\n",
    "print(\"Başlangıç: \",garanti_array_hur[-1][2],\" \")\n",
    "print(\"Bitiş:     \",garanti_array_hur[0][2],\" \")\n",
    "print(\"uzunluk:   \",len(garanti_array_hur))"
   ]
  },
  {
   "cell_type": "code",
   "execution_count": null,
   "metadata": {},
   "outputs": [],
   "source": []
  },
  {
   "cell_type": "code",
   "execution_count": 28,
   "metadata": {},
   "outputs": [
    {
     "name": "stderr",
     "output_type": "stream",
     "text": [
      "100%|██████████| 63/63 [00:30<00:00,  2.04it/s]"
     ]
    },
    {
     "name": "stdout",
     "output_type": "stream",
     "text": [
      "Başlangıç:  12 Haziran 2017  \n",
      "Bitiş:      14 Mart 2019  \n",
      "uzunluk:    1000\n"
     ]
    },
    {
     "name": "stderr",
     "output_type": "stream",
     "text": [
      "\n"
     ]
    }
   ],
   "source": [
    "#FİNANS GÜNDEM\n",
    "finans_array_finans = []\n",
    "for i in tqdm(range(1,64)):\n",
    "    page = requests.get(f\"https://www.finansgundem.com/ara/garanti/{i}\")\n",
    "    sp = BeautifulSoup(page.content,\"html.parser\")\n",
    "    liste = sp.find(\"div\",{\"class\":\"srch\"}).find_all(\"li\")\n",
    "    \n",
    "    for l in liste:      \n",
    "        title = l.strong.text\n",
    "        tarih = l.small.text\n",
    "        saat = tarih[tarih.find(\",\")+2:]\n",
    "        tarih = tarih[:tarih.find(\",\")]\n",
    "        icerik = l.span.text\n",
    "        \n",
    "        finans_array_finans.append([title,icerik,tarih,saat])\n",
    "print(\"Başlangıç: \",finans_array_finans[-1][2],\" \")\n",
    "print(\"Bitiş:     \",finans_array_finans[0][2],\" \")\n",
    "print(\"uzunluk:   \",len(finans_array_finans))"
   ]
  },
  {
   "cell_type": "code",
   "execution_count": null,
   "metadata": {},
   "outputs": [],
   "source": []
  },
  {
   "cell_type": "markdown",
   "metadata": {},
   "source": [
    "## Denizbank"
   ]
  },
  {
   "cell_type": "code",
   "execution_count": 29,
   "metadata": {},
   "outputs": [
    {
     "name": "stderr",
     "output_type": "stream",
     "text": [
      "100%|██████████| 23/23 [00:18<00:00,  1.25it/s]"
     ]
    },
    {
     "name": "stdout",
     "output_type": "stream",
     "text": [
      "Başlangıç:  07 Ekim 2014  \n",
      "Bitiş:      15 Mart 2019  \n",
      "uzunluk:    367\n"
     ]
    },
    {
     "name": "stderr",
     "output_type": "stream",
     "text": [
      "\n"
     ]
    }
   ],
   "source": [
    "#Borsa Gündem\n",
    "#63.sayfaya kadar gidiyor ama 2011 yılı oluyor\n",
    "deniz_array_borsa=[]\n",
    "for i in tqdm(range(1,24)):\n",
    "    page = requests.get(f\"https://www.borsagundem.com/ara/denizbank/{i}\")\n",
    "    sp = BeautifulSoup(page.content,\"html.parser\")\n",
    "    liste = sp.find(\"div\",{\"class\":\"srch\"}).find_all(\"li\")\n",
    "    \n",
    "    for l in liste:      \n",
    "        title = l.strong.text\n",
    "        tarih = l.small.text\n",
    "        saat = tarih[tarih.find(\",\")+2:]\n",
    "        tarih = tarih[:tarih.find(\",\")]\n",
    "        icerik = l.span.text\n",
    "        \n",
    "        deniz_array_borsa.append([title,icerik,tarih,saat])\n",
    "        \n",
    "print(\"Başlangıç: \",deniz_array_borsa[-1][2],\" \")\n",
    "print(\"Bitiş:     \",deniz_array_borsa[0][2],\" \")\n",
    "print(\"uzunluk:   \",len(deniz_array_borsa))"
   ]
  },
  {
   "cell_type": "code",
   "execution_count": null,
   "metadata": {},
   "outputs": [],
   "source": []
  },
  {
   "cell_type": "code",
   "execution_count": 2,
   "metadata": {},
   "outputs": [
    {
     "name": "stderr",
     "output_type": "stream",
     "text": [
      "  0%|          | 0/36 [00:00<?, ?it/s]"
     ]
    },
    {
     "name": "stdout",
     "output_type": "stream",
     "text": [
      "http://bigpara.hurriyet.com.tr/haberler/ekonomi-haberleri/trend-degisikligi-yasanabilir_ID986360/\n"
     ]
    },
    {
     "name": "stderr",
     "output_type": "stream",
     "text": [
      "  3%|▎         | 1/36 [00:04<02:36,  4.47s/it]"
     ]
    },
    {
     "name": "stdout",
     "output_type": "stream",
     "text": [
      "http://bigpara.hurriyet.com.tr/haberler/64/piyasada-yon-var-mi_ID986328/\n"
     ]
    },
    {
     "name": "stderr",
     "output_type": "stream",
     "text": [
      "  6%|▌         | 2/36 [00:12<03:13,  5.69s/it]"
     ]
    },
    {
     "name": "stdout",
     "output_type": "stream",
     "text": [
      "http://bigpara.hurriyet.com.tr/haberler/kredi-haberleri/avrupa-birligi-ve-corona_ID986294/\n",
      "http://bigpara.hurriyet.com.tr/haberler/ekonomi-haberleri/piyasalar-araf-ta_ID986286/\n"
     ]
    },
    {
     "name": "stderr",
     "output_type": "stream",
     "text": [
      "  8%|▊         | 3/36 [00:18<03:02,  5.52s/it]"
     ]
    },
    {
     "name": "stdout",
     "output_type": "stream",
     "text": [
      "http://bigpara.hurriyet.com.tr/haberler/93/ihracatci-icin-firsat-eximbank-faiz-indirimi_ID986275/\n"
     ]
    },
    {
     "name": "stderr",
     "output_type": "stream",
     "text": [
      " 14%|█▍        | 5/36 [00:30<02:58,  5.76s/it]"
     ]
    },
    {
     "name": "stdout",
     "output_type": "stream",
     "text": [
      "http://bigpara.hurriyet.com.tr/haberler/kredi-haberleri/yeni-ekonomi-programi-uzerine_ID986247/\n"
     ]
    },
    {
     "name": "stderr",
     "output_type": "stream",
     "text": [
      " 22%|██▏       | 8/36 [00:47<02:39,  5.71s/it]"
     ]
    },
    {
     "name": "stdout",
     "output_type": "stream",
     "text": [
      "http://bigpara.hurriyet.com.tr/haberler/93/dunyadan-kaynak-getiren-yedinci-buyuk-banka-turk-eximbank_ID986224/\n"
     ]
    },
    {
     "name": "stderr",
     "output_type": "stream",
     "text": [
      " 25%|██▌       | 9/36 [00:53<02:42,  6.02s/it]"
     ]
    },
    {
     "name": "stdout",
     "output_type": "stream",
     "text": [
      "http://bigpara.hurriyet.com.tr/haberler/ekonomi-haberleri/ucuncu-perde-uzun-surecek_ID986222/\n"
     ]
    },
    {
     "name": "stderr",
     "output_type": "stream",
     "text": [
      " 31%|███       | 11/36 [01:08<02:43,  6.55s/it]"
     ]
    },
    {
     "name": "stdout",
     "output_type": "stream",
     "text": [
      "http://bigpara.hurriyet.com.tr/haberler/ekonomi-haberleri/gec-olsun-guc-olmasin_ID986197/\n"
     ]
    },
    {
     "name": "stderr",
     "output_type": "stream",
     "text": [
      " 33%|███▎      | 12/36 [01:15<02:42,  6.77s/it]"
     ]
    },
    {
     "name": "stdout",
     "output_type": "stream",
     "text": [
      "http://bigpara.hurriyet.com.tr/haberler/69/haftalik-piyasa-beklentisi_ID986177/\n",
      "http://bigpara.hurriyet.com.tr/haberler/ekonomi-haberleri/borsa-taban-olusturuyor_ID986175/\n"
     ]
    },
    {
     "name": "stderr",
     "output_type": "stream",
     "text": [
      " 36%|███▌      | 13/36 [01:22<02:36,  6.82s/it]"
     ]
    },
    {
     "name": "stdout",
     "output_type": "stream",
     "text": [
      "http://bigpara.hurriyet.com.tr/haberler/ekonomi-haberleri/ekim-surpriz-yapabilir_ID986172/\n",
      "http://bigpara.hurriyet.com.tr/haberler/93/gelecegin-kadin-girisimcileri-icin-en-onemli-ihtiyac-destek-ve-tesvikler_ID986166/\n"
     ]
    },
    {
     "name": "stderr",
     "output_type": "stream",
     "text": [
      " 42%|████▏     | 15/36 [01:39<02:46,  7.92s/it]"
     ]
    },
    {
     "name": "stdout",
     "output_type": "stream",
     "text": [
      "http://bigpara.hurriyet.com.tr/haberler/69/piyasalarda-haftaya-bakis_ID986144/\n",
      "http://bigpara.hurriyet.com.tr/haberler/ekonomi-haberleri/kredi-kuruluslari-piyasalar_ID986143/\n"
     ]
    },
    {
     "name": "stderr",
     "output_type": "stream",
     "text": [
      " 53%|█████▎    | 19/36 [02:09<02:09,  7.60s/it]"
     ]
    },
    {
     "name": "stdout",
     "output_type": "stream",
     "text": [
      "http://bigpara.hurriyet.com.tr/haberler/ekonomi-haberleri/yeni-firsatlar-olusabilir_ID986058/\n"
     ]
    },
    {
     "name": "stderr",
     "output_type": "stream",
     "text": [
      " 56%|█████▌    | 20/36 [02:16<02:00,  7.50s/it]"
     ]
    },
    {
     "name": "stdout",
     "output_type": "stream",
     "text": [
      "http://bigpara.hurriyet.com.tr/haberler/83/tcmb-enflasyon-raporu-bilgilendirme-toplantisindan-notlar-erol-gurcan-yazdi_ID986044/\n"
     ]
    },
    {
     "name": "stderr",
     "output_type": "stream",
     "text": [
      " 58%|█████▊    | 21/36 [02:23<01:49,  7.28s/it]"
     ]
    },
    {
     "name": "stdout",
     "output_type": "stream",
     "text": [
      "http://bigpara.hurriyet.com.tr/haberler/83/yurticinde-gundem-tcmb-ve-3-ceyrek-finansallari_ID986039/\n",
      "http://bigpara.hurriyet.com.tr/haberler/ekonomi-haberleri/altinda-tarih-tekerrur-edebilir_ID986036/\n"
     ]
    },
    {
     "name": "stderr",
     "output_type": "stream",
     "text": [
      " 61%|██████    | 22/36 [02:31<01:45,  7.51s/it]"
     ]
    },
    {
     "name": "stdout",
     "output_type": "stream",
     "text": [
      "http://bigpara.hurriyet.com.tr/haberler/ekonomi-haberleri/ekim-ayinda-piyasalar_ID986035/\n"
     ]
    },
    {
     "name": "stderr",
     "output_type": "stream",
     "text": [
      " 64%|██████▍   | 23/36 [02:38<01:35,  7.36s/it]"
     ]
    },
    {
     "name": "stdout",
     "output_type": "stream",
     "text": [
      "http://bigpara.hurriyet.com.tr/haberler/ekonomi-haberleri/seytan-ayrintida-sakli_ID986014/\n",
      "http://bigpara.hurriyet.com.tr/haberler/83/yilin-geri-kalaninda-nelere-bakacagiz_ID986002/\n",
      "http://bigpara.hurriyet.com.tr/haberler/83/enflasyon-ve-sirket-k-rlari-on-planda-olacak_ID985998/\n"
     ]
    },
    {
     "name": "stderr",
     "output_type": "stream",
     "text": [
      " 67%|██████▋   | 24/36 [02:45<01:25,  7.12s/it]"
     ]
    },
    {
     "name": "stdout",
     "output_type": "stream",
     "text": [
      "http://bigpara.hurriyet.com.tr/haberler/85/fitch-ten-surpriz-cikmaz_ID985996/\n",
      "http://bigpara.hurriyet.com.tr/haberler/83/temmuz-un-kalani-virajlarla-dolu_ID985991/\n"
     ]
    },
    {
     "name": "stderr",
     "output_type": "stream",
     "text": [
      " 69%|██████▉   | 25/36 [02:51<01:16,  6.96s/it]"
     ]
    },
    {
     "name": "stdout",
     "output_type": "stream",
     "text": [
      "http://bigpara.hurriyet.com.tr/haberler/kobi-kategorisi-haberleri/faizler-ne-zaman-duser_ID985978/\n",
      "http://bigpara.hurriyet.com.tr/haberler/ekonomi-haberleri/altin-firsat-sunabilir_ID985969/\n"
     ]
    },
    {
     "name": "stderr",
     "output_type": "stream",
     "text": [
      " 72%|███████▏  | 26/36 [02:59<01:11,  7.11s/it]"
     ]
    },
    {
     "name": "stdout",
     "output_type": "stream",
     "text": [
      "http://bigpara.hurriyet.com.tr/haberler/ekonomi-haberleri/borsada-rayic-degisti_ID985949/\n",
      "http://bigpara.hurriyet.com.tr/haberler/69/borsa-sirket-karlari-ile-zirveye-kosuyor_ID985947/\n"
     ]
    },
    {
     "name": "stderr",
     "output_type": "stream",
     "text": [
      " 78%|███████▊  | 28/36 [03:12<00:54,  6.80s/it]"
     ]
    },
    {
     "name": "stdout",
     "output_type": "stream",
     "text": [
      "http://bigpara.hurriyet.com.tr/haberler/68/kuresel-britanya-nin-12-onceligi_ID985885/\n",
      "http://bigpara.hurriyet.com.tr/haberler/ekonomi-haberleri/cikmaz-sokak_ID985833/\n"
     ]
    },
    {
     "name": "stderr",
     "output_type": "stream",
     "text": [
      " 81%|████████  | 29/36 [03:18<00:47,  6.79s/it]"
     ]
    },
    {
     "name": "stdout",
     "output_type": "stream",
     "text": [
      "http://bigpara.hurriyet.com.tr/haberler/ekonomi-haberleri/perde-ne-zaman-kapanacak_ID985812/\n"
     ]
    },
    {
     "name": "stderr",
     "output_type": "stream",
     "text": [
      " 83%|████████▎ | 30/36 [03:55<01:34, 15.77s/it]"
     ]
    },
    {
     "name": "stdout",
     "output_type": "stream",
     "text": [
      "http://bigpara.hurriyet.com.tr/haberler/ekonomi-haberleri/agustos-ayinda-piyasalar_ID985753/\n",
      "http://bigpara.hurriyet.com.tr/haberler/ekonomi-haberleri/safak-vakti_ID985747/\n",
      "http://bigpara.hurriyet.com.tr/haberler/ekonomi-haberleri/kartlar-yeniden-dagildi_ID985691/\n"
     ]
    },
    {
     "name": "stderr",
     "output_type": "stream",
     "text": [
      " 86%|████████▌ | 31/36 [04:06<01:11, 14.30s/it]"
     ]
    },
    {
     "name": "stdout",
     "output_type": "stream",
     "text": [
      "http://bigpara.hurriyet.com.tr/haberler/ekonomi-haberleri/kabine-sonrasi-piyasalar_ID985677/\n",
      "http://bigpara.hurriyet.com.tr/haberler/59/faiz-indirimi-ne-getirecek_ID985656/\n"
     ]
    },
    {
     "name": "stderr",
     "output_type": "stream",
     "text": [
      " 92%|█████████▏| 33/36 [04:22<00:33, 11.06s/it]"
     ]
    },
    {
     "name": "stdout",
     "output_type": "stream",
     "text": [
      "http://bigpara.hurriyet.com.tr/haberler/67/2016-da-brexit-i-daha-cok-konusabiliriz_ID985561/\n",
      "http://bigpara.hurriyet.com.tr/haberler/61/alim-satim-stratejilerinde-dogru-bilinen-yanlislar-1_ID985513/\n"
     ]
    },
    {
     "name": "stderr",
     "output_type": "stream",
     "text": [
      " 94%|█████████▍| 34/36 [04:28<00:19,  9.64s/it]"
     ]
    },
    {
     "name": "stdout",
     "output_type": "stream",
     "text": [
      "http://bigpara.hurriyet.com.tr/doviz/haber/secim-oncesi-usdtry-son-durum_ID985497/\n"
     ]
    },
    {
     "name": "stderr",
     "output_type": "stream",
     "text": [
      " 97%|█████████▋| 35/36 [04:35<00:08,  8.72s/it]"
     ]
    },
    {
     "name": "stdout",
     "output_type": "stream",
     "text": [
      "http://bigpara.hurriyet.com.tr/haberler/ekonomi-haberleri/turkiye-ekonomisi-nereye-kosuyor_ID985455/\n",
      "http://bigpara.hurriyet.com.tr/haberler/ekonomi-haberleri/piyasalarda-ruzgar-nereden-esecek_ID985445/\n"
     ]
    },
    {
     "name": "stderr",
     "output_type": "stream",
     "text": [
      "100%|██████████| 36/36 [04:41<00:00,  7.82s/it]"
     ]
    },
    {
     "name": "stdout",
     "output_type": "stream",
     "text": [
      "Başlangıç:  20.07.2015  \n",
      "Bitiş:      12.09.2020  \n",
      "uzunluk:    858\n"
     ]
    },
    {
     "name": "stderr",
     "output_type": "stream",
     "text": [
      "\n"
     ]
    }
   ],
   "source": [
    "#HURRİYET\n",
    "# Bu bazen takılıp kalıyor. \n",
    "deniz_array_hur = []\n",
    "adres = \"http://bigpara.hurriyet.com.tr\"\n",
    "for i in tqdm(range(1,37)):   \n",
    "    page = requests.get(f\"http://bigpara.hurriyet.com.tr/arama/?firstDate=2015-06-01&secondDate=2020-09-28&includeKap=False&page={i}&s=garanti\")\n",
    "    sp = BeautifulSoup(page.content, \"html.parser\")\n",
    "    liste = sp.find(\"div\",{\"class\":\"aramasonuc\"}).find_all(\"li\")\n",
    "    \n",
    "    \n",
    "    for l in liste:\n",
    "        try:\n",
    "            title = l.a.text\n",
    "            icerik = l.find_all(\"a\")[1].text\n",
    "            tarih = l.span.text[1:-1]\n",
    "\n",
    "            link = adres + l.a.get(\"href\")\n",
    "            page_content = requests.get(link)\n",
    "            sp_content = BeautifulSoup(page_content.content, \"html.parser\")\n",
    "            st = sp_content.find(\"div\",{\"class\":\"dtSizeLine\"}).span.text\n",
    "            saat = st[st.find(\"-\")+2:st.find(\"-\")+7]\n",
    "\n",
    "            deniz_array_hur.append([title,icerik,tarih,saat])\n",
    "        except:\n",
    "            print(link)\n",
    "            continue\n",
    "print(\"Başlangıç: \",deniz_array_hur[-1][2],\" \")\n",
    "print(\"Bitiş:     \",deniz_array_hur[0][2],\" \")\n",
    "print(\"uzunluk:   \",len(deniz_array_hur))"
   ]
  },
  {
   "cell_type": "code",
   "execution_count": null,
   "metadata": {},
   "outputs": [],
   "source": []
  },
  {
   "cell_type": "code",
   "execution_count": 3,
   "metadata": {},
   "outputs": [
    {
     "name": "stderr",
     "output_type": "stream",
     "text": [
      "100%|██████████| 63/63 [00:31<00:00,  2.02it/s]"
     ]
    },
    {
     "name": "stdout",
     "output_type": "stream",
     "text": [
      "Başlangıç:  19 Aralık 2012  \n",
      "Bitiş:      12 Mart 2019  \n",
      "uzunluk:    999\n"
     ]
    },
    {
     "name": "stderr",
     "output_type": "stream",
     "text": [
      "\n"
     ]
    }
   ],
   "source": [
    "#FİNANS GÜNDEM\n",
    "deniz_array_finans = []\n",
    "for i in tqdm(range(1,64)):\n",
    "    page = requests.get(f\"https://www.finansgundem.com/ara/denizbank/{i}\")\n",
    "    sp = BeautifulSoup(page.content,\"html.parser\")\n",
    "    liste = sp.find(\"div\",{\"class\":\"srch\"}).find_all(\"li\")\n",
    "    \n",
    "    for l in liste:      \n",
    "        title = l.strong.text\n",
    "        tarih = l.small.text\n",
    "        saat = tarih[tarih.find(\",\")+2:]\n",
    "        tarih = tarih[:tarih.find(\",\")]\n",
    "        icerik = l.span.text\n",
    "        \n",
    "        deniz_array_finans.append([title,icerik,tarih,saat])\n",
    "print(\"Başlangıç: \",deniz_array_finans[-1][2],\" \")\n",
    "print(\"Bitiş:     \",deniz_array_finans[0][2],\" \")\n",
    "print(\"uzunluk:   \",len(deniz_array_finans))"
   ]
  },
  {
   "cell_type": "code",
   "execution_count": null,
   "metadata": {},
   "outputs": [],
   "source": []
  },
  {
   "cell_type": "code",
   "execution_count": null,
   "metadata": {},
   "outputs": [],
   "source": []
  },
  {
   "cell_type": "code",
   "execution_count": null,
   "metadata": {},
   "outputs": [],
   "source": []
  },
  {
   "cell_type": "code",
   "execution_count": null,
   "metadata": {},
   "outputs": [],
   "source": []
  },
  {
   "cell_type": "code",
   "execution_count": null,
   "metadata": {},
   "outputs": [],
   "source": []
  },
  {
   "cell_type": "code",
   "execution_count": null,
   "metadata": {},
   "outputs": [],
   "source": []
  },
  {
   "cell_type": "code",
   "execution_count": null,
   "metadata": {},
   "outputs": [],
   "source": []
  },
  {
   "cell_type": "code",
   "execution_count": null,
   "metadata": {},
   "outputs": [],
   "source": []
  },
  {
   "cell_type": "code",
   "execution_count": null,
   "metadata": {},
   "outputs": [],
   "source": []
  },
  {
   "cell_type": "code",
   "execution_count": null,
   "metadata": {},
   "outputs": [],
   "source": []
  },
  {
   "cell_type": "code",
   "execution_count": null,
   "metadata": {},
   "outputs": [],
   "source": []
  }
 ],
 "metadata": {
  "colab": {
   "name": "news_scraping.ipynb",
   "provenance": []
  },
  "kernelspec": {
   "display_name": "Python 3",
   "language": "python",
   "name": "python3"
  },
  "language_info": {
   "codemirror_mode": {
    "name": "ipython",
    "version": 3
   },
   "file_extension": ".py",
   "mimetype": "text/x-python",
   "name": "python",
   "nbconvert_exporter": "python",
   "pygments_lexer": "ipython3",
   "version": "3.7.6"
  }
 },
 "nbformat": 4,
 "nbformat_minor": 4
}
