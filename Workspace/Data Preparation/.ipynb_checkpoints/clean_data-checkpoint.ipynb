{
 "cells": [
  {
   "cell_type": "code",
   "execution_count": 16,
   "metadata": {},
   "outputs": [],
   "source": [
    "import pandas as pd\n",
    "import numpy as np"
   ]
  },
  {
   "cell_type": "code",
   "execution_count": 17,
   "metadata": {
    "id": "y6wlvYTEu9DE"
   },
   "outputs": [],
   "source": [
    "haber = pd.read_csv(\"../Data/banks.csv\")\n"
   ]
  },
  {
   "cell_type": "code",
   "execution_count": 18,
   "metadata": {},
   "outputs": [
    {
     "data": {
      "text/html": [
       "<div>\n",
       "<style scoped>\n",
       "    .dataframe tbody tr th:only-of-type {\n",
       "        vertical-align: middle;\n",
       "    }\n",
       "\n",
       "    .dataframe tbody tr th {\n",
       "        vertical-align: top;\n",
       "    }\n",
       "\n",
       "    .dataframe thead th {\n",
       "        text-align: right;\n",
       "    }\n",
       "</style>\n",
       "<table border=\"1\" class=\"dataframe\">\n",
       "  <thead>\n",
       "    <tr style=\"text-align: right;\">\n",
       "      <th></th>\n",
       "      <th>Unnamed: 0</th>\n",
       "      <th>title</th>\n",
       "      <th>content</th>\n",
       "      <th>date</th>\n",
       "      <th>bank</th>\n",
       "    </tr>\n",
       "  </thead>\n",
       "  <tbody>\n",
       "    <tr>\n",
       "      <th>12390</th>\n",
       "      <td>12390</td>\n",
       "      <td>Köymen'den farklı yorumlar!</td>\n",
       "      <td>Haute Couture’nin ustası; Türkiye’nin yetiştir...</td>\n",
       "      <td>28 Mart 2013</td>\n",
       "      <td>denizbank</td>\n",
       "    </tr>\n",
       "    <tr>\n",
       "      <th>12391</th>\n",
       "      <td>12391</td>\n",
       "      <td>O'na ne önerdi?</td>\n",
       "      <td>Haute Couture’nin ustası; Türkiye’nin yetiştir...</td>\n",
       "      <td>27 Mart 2013</td>\n",
       "      <td>denizbank</td>\n",
       "    </tr>\n",
       "    <tr>\n",
       "      <th>12392</th>\n",
       "      <td>12392</td>\n",
       "      <td>'Yüz hatları çok karizmatik'</td>\n",
       "      <td>Haute Couture’nin ustası; özgür giyimin markas...</td>\n",
       "      <td>26 Mart 2013</td>\n",
       "      <td>denizbank</td>\n",
       "    </tr>\n",
       "    <tr>\n",
       "      <th>12393</th>\n",
       "      <td>12393</td>\n",
       "      <td>Aracı kurumlar da yabancılaşıyor</td>\n",
       "      <td>Yabancı sermayenin Türkiye’ye olan ilgisi sade...</td>\n",
       "      <td>05 Mart 2013</td>\n",
       "      <td>denizbank</td>\n",
       "    </tr>\n",
       "    <tr>\n",
       "      <th>12394</th>\n",
       "      <td>12394</td>\n",
       "      <td>Bankacıların iddialı 2013 hedefleri</td>\n",
       "      <td>Bütün bankacılar aslında hem fikir. Hepsine gö...</td>\n",
       "      <td>09 Ocak 2013</td>\n",
       "      <td>denizbank</td>\n",
       "    </tr>\n",
       "  </tbody>\n",
       "</table>\n",
       "</div>"
      ],
      "text/plain": [
       "       Unnamed: 0                                title  \\\n",
       "12390       12390          Köymen'den farklı yorumlar!   \n",
       "12391       12391                      O'na ne önerdi?   \n",
       "12392       12392         'Yüz hatları çok karizmatik'   \n",
       "12393       12393     Aracı kurumlar da yabancılaşıyor   \n",
       "12394       12394  Bankacıların iddialı 2013 hedefleri   \n",
       "\n",
       "                                                 content          date  \\\n",
       "12390  Haute Couture’nin ustası; Türkiye’nin yetiştir...  28 Mart 2013   \n",
       "12391  Haute Couture’nin ustası; Türkiye’nin yetiştir...  27 Mart 2013   \n",
       "12392  Haute Couture’nin ustası; özgür giyimin markas...  26 Mart 2013   \n",
       "12393  Yabancı sermayenin Türkiye’ye olan ilgisi sade...  05 Mart 2013   \n",
       "12394  Bütün bankacılar aslında hem fikir. Hepsine gö...  09 Ocak 2013   \n",
       "\n",
       "            bank  \n",
       "12390  denizbank  \n",
       "12391  denizbank  \n",
       "12392  denizbank  \n",
       "12393  denizbank  \n",
       "12394  denizbank  "
      ]
     },
     "execution_count": 18,
     "metadata": {},
     "output_type": "execute_result"
    }
   ],
   "source": [
    "haber.tail()"
   ]
  },
  {
   "cell_type": "code",
   "execution_count": 19,
   "metadata": {
    "id": "y6wlvYTEu9DE"
   },
   "outputs": [],
   "source": [
    "months = [\"ocak\",\"şubat\",\"mart\",\"nisan\",\"mayıs\",\"haziran\",\"temmuz\",\"ağustos\",\"eylül\",\"ekim\",\"kasım\",\"aralık\"]\n",
    "months_dict = {months[i] : i+1 for i in range(0,12)}"
   ]
  },
  {
   "cell_type": "code",
   "execution_count": 20,
   "metadata": {
    "id": "y6wlvYTEu9DE"
   },
   "outputs": [
    {
     "name": "stderr",
     "output_type": "stream",
     "text": [
      "D:\\ProgramData\\Anaconda3\\lib\\site-packages\\ipykernel_launcher.py:4: SettingWithCopyWarning: \n",
      "A value is trying to be set on a copy of a slice from a DataFrame\n",
      "\n",
      "See the caveats in the documentation: https://pandas.pydata.org/pandas-docs/stable/user_guide/indexing.html#returning-a-view-versus-a-copy\n",
      "  after removing the cwd from sys.path.\n"
     ]
    }
   ],
   "source": [
    "for i in range(len(haber.date)):\n",
    "    try:\n",
    "        ay = str(haber.date[i].split()[1].lower())\n",
    "        haber.date[i] = f\"{haber.date[i].split()[0]}.{months_dict[ay]}.{haber.date[i].split()[2]}\"\n",
    "    except Exception as e:\n",
    "        pass\n"
   ]
  },
  {
   "cell_type": "code",
   "execution_count": 21,
   "metadata": {},
   "outputs": [
    {
     "data": {
      "text/html": [
       "<div>\n",
       "<style scoped>\n",
       "    .dataframe tbody tr th:only-of-type {\n",
       "        vertical-align: middle;\n",
       "    }\n",
       "\n",
       "    .dataframe tbody tr th {\n",
       "        vertical-align: top;\n",
       "    }\n",
       "\n",
       "    .dataframe thead th {\n",
       "        text-align: right;\n",
       "    }\n",
       "</style>\n",
       "<table border=\"1\" class=\"dataframe\">\n",
       "  <thead>\n",
       "    <tr style=\"text-align: right;\">\n",
       "      <th></th>\n",
       "      <th>Unnamed: 0</th>\n",
       "      <th>title</th>\n",
       "      <th>content</th>\n",
       "      <th>date</th>\n",
       "      <th>bank</th>\n",
       "    </tr>\n",
       "  </thead>\n",
       "  <tbody>\n",
       "    <tr>\n",
       "      <th>12390</th>\n",
       "      <td>12390</td>\n",
       "      <td>Köymen'den farklı yorumlar!</td>\n",
       "      <td>Haute Couture’nin ustası; Türkiye’nin yetiştir...</td>\n",
       "      <td>28.3.2013</td>\n",
       "      <td>denizbank</td>\n",
       "    </tr>\n",
       "    <tr>\n",
       "      <th>12391</th>\n",
       "      <td>12391</td>\n",
       "      <td>O'na ne önerdi?</td>\n",
       "      <td>Haute Couture’nin ustası; Türkiye’nin yetiştir...</td>\n",
       "      <td>27.3.2013</td>\n",
       "      <td>denizbank</td>\n",
       "    </tr>\n",
       "    <tr>\n",
       "      <th>12392</th>\n",
       "      <td>12392</td>\n",
       "      <td>'Yüz hatları çok karizmatik'</td>\n",
       "      <td>Haute Couture’nin ustası; özgür giyimin markas...</td>\n",
       "      <td>26.3.2013</td>\n",
       "      <td>denizbank</td>\n",
       "    </tr>\n",
       "    <tr>\n",
       "      <th>12393</th>\n",
       "      <td>12393</td>\n",
       "      <td>Aracı kurumlar da yabancılaşıyor</td>\n",
       "      <td>Yabancı sermayenin Türkiye’ye olan ilgisi sade...</td>\n",
       "      <td>05.3.2013</td>\n",
       "      <td>denizbank</td>\n",
       "    </tr>\n",
       "    <tr>\n",
       "      <th>12394</th>\n",
       "      <td>12394</td>\n",
       "      <td>Bankacıların iddialı 2013 hedefleri</td>\n",
       "      <td>Bütün bankacılar aslında hem fikir. Hepsine gö...</td>\n",
       "      <td>09.1.2013</td>\n",
       "      <td>denizbank</td>\n",
       "    </tr>\n",
       "  </tbody>\n",
       "</table>\n",
       "</div>"
      ],
      "text/plain": [
       "       Unnamed: 0                                title  \\\n",
       "12390       12390          Köymen'den farklı yorumlar!   \n",
       "12391       12391                      O'na ne önerdi?   \n",
       "12392       12392         'Yüz hatları çok karizmatik'   \n",
       "12393       12393     Aracı kurumlar da yabancılaşıyor   \n",
       "12394       12394  Bankacıların iddialı 2013 hedefleri   \n",
       "\n",
       "                                                 content       date       bank  \n",
       "12390  Haute Couture’nin ustası; Türkiye’nin yetiştir...  28.3.2013  denizbank  \n",
       "12391  Haute Couture’nin ustası; Türkiye’nin yetiştir...  27.3.2013  denizbank  \n",
       "12392  Haute Couture’nin ustası; özgür giyimin markas...  26.3.2013  denizbank  \n",
       "12393  Yabancı sermayenin Türkiye’ye olan ilgisi sade...  05.3.2013  denizbank  \n",
       "12394  Bütün bankacılar aslında hem fikir. Hepsine gö...  09.1.2013  denizbank  "
      ]
     },
     "execution_count": 21,
     "metadata": {},
     "output_type": "execute_result"
    }
   ],
   "source": [
    "haber.tail()"
   ]
  },
  {
   "cell_type": "code",
   "execution_count": 22,
   "metadata": {},
   "outputs": [],
   "source": [
    "haber.date = pd.to_datetime(haber[\"date\"]).dt.strftime('%d.%m.%Y')\n"
   ]
  },
  {
   "cell_type": "code",
   "execution_count": 23,
   "metadata": {},
   "outputs": [],
   "source": [
    "haber.drop(\"Unnamed: 0\",axis=1,inplace=True)"
   ]
  },
  {
   "cell_type": "code",
   "execution_count": 24,
   "metadata": {},
   "outputs": [
    {
     "data": {
      "text/html": [
       "<div>\n",
       "<style scoped>\n",
       "    .dataframe tbody tr th:only-of-type {\n",
       "        vertical-align: middle;\n",
       "    }\n",
       "\n",
       "    .dataframe tbody tr th {\n",
       "        vertical-align: top;\n",
       "    }\n",
       "\n",
       "    .dataframe thead th {\n",
       "        text-align: right;\n",
       "    }\n",
       "</style>\n",
       "<table border=\"1\" class=\"dataframe\">\n",
       "  <thead>\n",
       "    <tr style=\"text-align: right;\">\n",
       "      <th></th>\n",
       "      <th>title</th>\n",
       "      <th>content</th>\n",
       "      <th>date</th>\n",
       "      <th>bank</th>\n",
       "    </tr>\n",
       "  </thead>\n",
       "  <tbody>\n",
       "    <tr>\n",
       "      <th>12390</th>\n",
       "      <td>Köymen'den farklı yorumlar!</td>\n",
       "      <td>Haute Couture’nin ustası; Türkiye’nin yetiştir...</td>\n",
       "      <td>28.03.2013</td>\n",
       "      <td>denizbank</td>\n",
       "    </tr>\n",
       "    <tr>\n",
       "      <th>12391</th>\n",
       "      <td>O'na ne önerdi?</td>\n",
       "      <td>Haute Couture’nin ustası; Türkiye’nin yetiştir...</td>\n",
       "      <td>27.03.2013</td>\n",
       "      <td>denizbank</td>\n",
       "    </tr>\n",
       "    <tr>\n",
       "      <th>12392</th>\n",
       "      <td>'Yüz hatları çok karizmatik'</td>\n",
       "      <td>Haute Couture’nin ustası; özgür giyimin markas...</td>\n",
       "      <td>26.03.2013</td>\n",
       "      <td>denizbank</td>\n",
       "    </tr>\n",
       "    <tr>\n",
       "      <th>12393</th>\n",
       "      <td>Aracı kurumlar da yabancılaşıyor</td>\n",
       "      <td>Yabancı sermayenin Türkiye’ye olan ilgisi sade...</td>\n",
       "      <td>03.05.2013</td>\n",
       "      <td>denizbank</td>\n",
       "    </tr>\n",
       "    <tr>\n",
       "      <th>12394</th>\n",
       "      <td>Bankacıların iddialı 2013 hedefleri</td>\n",
       "      <td>Bütün bankacılar aslında hem fikir. Hepsine gö...</td>\n",
       "      <td>01.09.2013</td>\n",
       "      <td>denizbank</td>\n",
       "    </tr>\n",
       "  </tbody>\n",
       "</table>\n",
       "</div>"
      ],
      "text/plain": [
       "                                     title  \\\n",
       "12390          Köymen'den farklı yorumlar!   \n",
       "12391                      O'na ne önerdi?   \n",
       "12392         'Yüz hatları çok karizmatik'   \n",
       "12393     Aracı kurumlar da yabancılaşıyor   \n",
       "12394  Bankacıların iddialı 2013 hedefleri   \n",
       "\n",
       "                                                 content        date  \\\n",
       "12390  Haute Couture’nin ustası; Türkiye’nin yetiştir...  28.03.2013   \n",
       "12391  Haute Couture’nin ustası; Türkiye’nin yetiştir...  27.03.2013   \n",
       "12392  Haute Couture’nin ustası; özgür giyimin markas...  26.03.2013   \n",
       "12393  Yabancı sermayenin Türkiye’ye olan ilgisi sade...  03.05.2013   \n",
       "12394  Bütün bankacılar aslında hem fikir. Hepsine gö...  01.09.2013   \n",
       "\n",
       "            bank  \n",
       "12390  denizbank  \n",
       "12391  denizbank  \n",
       "12392  denizbank  \n",
       "12393  denizbank  \n",
       "12394  denizbank  "
      ]
     },
     "execution_count": 24,
     "metadata": {},
     "output_type": "execute_result"
    }
   ],
   "source": [
    "haber.tail()"
   ]
  },
  {
   "cell_type": "code",
   "execution_count": 25,
   "metadata": {},
   "outputs": [],
   "source": [
    "haber.dropna(inplace=True)"
   ]
  },
  {
   "cell_type": "code",
   "execution_count": 29,
   "metadata": {},
   "outputs": [],
   "source": [
    "haber.reset_index(drop=True,inplace=True)"
   ]
  },
  {
   "cell_type": "markdown",
   "metadata": {},
   "source": [
    "## Hisse Oranları"
   ]
  },
  {
   "cell_type": "code",
   "execution_count": 31,
   "metadata": {},
   "outputs": [
    {
     "data": {
      "text/plain": [
       "['.ipynb_checkpoints',\n",
       " 'ak.csv',\n",
       " 'deniz.csv',\n",
       " 'garanti.csv',\n",
       " 'halk.csv',\n",
       " 'is.csv',\n",
       " 'test exceli.xlsx',\n",
       " 'vakif.csv',\n",
       " 'yapi.csv']"
      ]
     },
     "execution_count": 31,
     "metadata": {},
     "output_type": "execute_result"
    }
   ],
   "source": [
    "import os\n",
    "os.listdir(\"../Data/hisseler\")"
   ]
  },
  {
   "cell_type": "code",
   "execution_count": 35,
   "metadata": {},
   "outputs": [],
   "source": [
    "banks = [\"akbank\",\"denizbank\",\"garanti\",\"halkbank\",\"is%20bankasi\",\"vakifbank\",\"yapi%20kredi\"]\n",
    "banks_dict = {}\n",
    "path = \"../Data/hisseler/\"\n",
    "index = 0\n",
    "for i in os.listdir(\"../Data/hisseler\")[1:]:\n",
    "    banks_dict[banks[index]] =  pd.read_csv(path+i)\n",
    "    banks_dict[banks[index]].rename(columns={\"Tarih\":\"date\"},inplace=True)\n",
    "    banks_dict[banks[index]].date = pd.to_datetime(banks_dict[banks[index]][\"date\"])\n",
    "    banks_dict[banks[index]].set_index(\"date\",inplace=True)\n",
    "    index +=1"
   ]
  },
  {
   "cell_type": "code",
   "execution_count": 36,
   "metadata": {},
   "outputs": [],
   "source": [
    "haber.date = pd.to_datetime(haber[\"date\"])"
   ]
  },
  {
   "cell_type": "markdown",
   "metadata": {},
   "source": [
    "## Günleri Eşleştirme"
   ]
  },
  {
   "cell_type": "code",
   "execution_count": 46,
   "metadata": {},
   "outputs": [
    {
     "name": "stdout",
     "output_type": "stream",
     "text": [
      "1698\n",
      "1453\n",
      "2654\n",
      "1878\n",
      "2187\n",
      "1048\n",
      "1428\n"
     ]
    }
   ],
   "source": [
    "\n",
    "hs = {}\n",
    "for b in banks: \n",
    "    liste = []\n",
    "    liste_date = []\n",
    "    a  = 0\n",
    "    for i in haber[haber.bank==b].date:\n",
    "        tarih = i + pd.Timedelta(days=1)  \n",
    "        try:\n",
    "\n",
    "            liste.append(banks_dict[b].loc[tarih,col].values)\n",
    "            liste_date.append(tarih)\n",
    "        except:\n",
    "            try:\n",
    "                liste.append(banks_dict[b].loc[tarih + pd.Timedelta(days=1),col].values)\n",
    "                liste_date.append(tarih)\n",
    "            except:\n",
    "                try:\n",
    "                    liste.append(banks_dict[b].loc[tarih + pd.Timedelta(days=2),col].values)\n",
    "                    liste_date.append(tarih)\n",
    "                except:\n",
    "                    liste.append([np.nan,np.nan,np.nan,np.nan])\n",
    "                    liste_date.append(np.nan)\n",
    "                    a +=1\n",
    "    #                 try:\n",
    "    #                     liste.append(banks_dict[\"akbank\"].loc[tarih + pd.Timedelta(days=3),col].values)\n",
    "    #                 except:\n",
    "    #                     try:\n",
    "    #                         liste.append(banks_dict[\"akbank\"].loc[tarih + pd.Timedelta(days=4),col].values)\n",
    "    #                     except:\n",
    "    #                         liste.append(np.nan)\n",
    "    hs[b] = [liste,liste_date]\n",
    "    print(a)"
   ]
  },
  {
   "cell_type": "code",
   "execution_count": 38,
   "metadata": {},
   "outputs": [
    {
     "data": {
      "text/plain": [
       "12346"
      ]
     },
     "execution_count": 38,
     "metadata": {},
     "output_type": "execute_result"
    }
   ],
   "source": [
    "len(haber)"
   ]
  },
  {
   "cell_type": "markdown",
   "metadata": {},
   "source": [
    "## Haber ve Günleri Eşleştirme"
   ]
  },
  {
   "cell_type": "code",
   "execution_count": 40,
   "metadata": {},
   "outputs": [
    {
     "ename": "ValueError",
     "evalue": "3 columns passed, passed data had 4 columns",
     "output_type": "error",
     "traceback": [
      "\u001b[1;31m---------------------------------------------------------------------------\u001b[0m",
      "\u001b[1;31mAssertionError\u001b[0m                            Traceback (most recent call last)",
      "\u001b[1;32mD:\\ProgramData\\Anaconda3\\lib\\site-packages\\pandas\\core\\internals\\construction.py\u001b[0m in \u001b[0;36m_list_to_arrays\u001b[1;34m(data, columns, coerce_float, dtype)\u001b[0m\n\u001b[0;32m    563\u001b[0m     \u001b[1;32mtry\u001b[0m\u001b[1;33m:\u001b[0m\u001b[1;33m\u001b[0m\u001b[1;33m\u001b[0m\u001b[0m\n\u001b[1;32m--> 564\u001b[1;33m         \u001b[0mcolumns\u001b[0m \u001b[1;33m=\u001b[0m \u001b[0m_validate_or_indexify_columns\u001b[0m\u001b[1;33m(\u001b[0m\u001b[0mcontent\u001b[0m\u001b[1;33m,\u001b[0m \u001b[0mcolumns\u001b[0m\u001b[1;33m)\u001b[0m\u001b[1;33m\u001b[0m\u001b[1;33m\u001b[0m\u001b[0m\n\u001b[0m\u001b[0;32m    565\u001b[0m         \u001b[0mresult\u001b[0m \u001b[1;33m=\u001b[0m \u001b[0m_convert_object_array\u001b[0m\u001b[1;33m(\u001b[0m\u001b[0mcontent\u001b[0m\u001b[1;33m,\u001b[0m \u001b[0mdtype\u001b[0m\u001b[1;33m=\u001b[0m\u001b[0mdtype\u001b[0m\u001b[1;33m,\u001b[0m \u001b[0mcoerce_float\u001b[0m\u001b[1;33m=\u001b[0m\u001b[0mcoerce_float\u001b[0m\u001b[1;33m)\u001b[0m\u001b[1;33m\u001b[0m\u001b[1;33m\u001b[0m\u001b[0m\n",
      "\u001b[1;32mD:\\ProgramData\\Anaconda3\\lib\\site-packages\\pandas\\core\\internals\\construction.py\u001b[0m in \u001b[0;36m_validate_or_indexify_columns\u001b[1;34m(content, columns)\u001b[0m\n\u001b[0;32m    688\u001b[0m             raise AssertionError(\n\u001b[1;32m--> 689\u001b[1;33m                 \u001b[1;34mf\"{len(columns)} columns passed, passed data had \"\u001b[0m\u001b[1;33m\u001b[0m\u001b[1;33m\u001b[0m\u001b[0m\n\u001b[0m\u001b[0;32m    690\u001b[0m                 \u001b[1;34mf\"{len(content)} columns\"\u001b[0m\u001b[1;33m\u001b[0m\u001b[1;33m\u001b[0m\u001b[0m\n",
      "\u001b[1;31mAssertionError\u001b[0m: 3 columns passed, passed data had 4 columns",
      "\nThe above exception was the direct cause of the following exception:\n",
      "\u001b[1;31mValueError\u001b[0m                                Traceback (most recent call last)",
      "\u001b[1;32m<ipython-input-40-5ad73e3ead8d>\u001b[0m in \u001b[0;36m<module>\u001b[1;34m\u001b[0m\n\u001b[0;32m      2\u001b[0m \u001b[1;32mfor\u001b[0m \u001b[0mb\u001b[0m \u001b[1;32min\u001b[0m \u001b[0mbanks\u001b[0m\u001b[1;33m:\u001b[0m\u001b[1;33m\u001b[0m\u001b[1;33m\u001b[0m\u001b[0m\n\u001b[0;32m      3\u001b[0m     \u001b[0mba\u001b[0m \u001b[1;33m=\u001b[0m \u001b[0mhaber\u001b[0m\u001b[1;33m[\u001b[0m\u001b[0mhaber\u001b[0m\u001b[1;33m.\u001b[0m\u001b[0mbank\u001b[0m\u001b[1;33m==\u001b[0m\u001b[0mb\u001b[0m\u001b[1;33m]\u001b[0m\u001b[1;33m.\u001b[0m\u001b[0mreset_index\u001b[0m\u001b[1;33m(\u001b[0m\u001b[0mdrop\u001b[0m\u001b[1;33m=\u001b[0m\u001b[1;32mTrue\u001b[0m\u001b[1;33m)\u001b[0m\u001b[1;33m\u001b[0m\u001b[1;33m\u001b[0m\u001b[0m\n\u001b[1;32m----> 4\u001b[1;33m     \u001b[0mdata\u001b[0m \u001b[1;33m=\u001b[0m \u001b[0mpd\u001b[0m\u001b[1;33m.\u001b[0m\u001b[0mDataFrame\u001b[0m\u001b[1;33m(\u001b[0m\u001b[0mdata\u001b[0m\u001b[1;33m=\u001b[0m\u001b[0mhs\u001b[0m\u001b[1;33m[\u001b[0m\u001b[0mb\u001b[0m\u001b[1;33m]\u001b[0m\u001b[1;33m[\u001b[0m\u001b[1;36m0\u001b[0m\u001b[1;33m]\u001b[0m\u001b[1;33m,\u001b[0m\u001b[0mcolumns\u001b[0m\u001b[1;33m=\u001b[0m\u001b[1;34m\"col\"\u001b[0m\u001b[1;33m)\u001b[0m\u001b[1;33m\u001b[0m\u001b[1;33m\u001b[0m\u001b[0m\n\u001b[0m\u001b[0;32m      5\u001b[0m     \u001b[0mtarih\u001b[0m \u001b[1;33m=\u001b[0m \u001b[0mpd\u001b[0m\u001b[1;33m.\u001b[0m\u001b[0mDataFrame\u001b[0m\u001b[1;33m(\u001b[0m\u001b[0mdata\u001b[0m\u001b[1;33m=\u001b[0m\u001b[0mhs\u001b[0m\u001b[1;33m[\u001b[0m\u001b[0mb\u001b[0m\u001b[1;33m]\u001b[0m\u001b[1;33m[\u001b[0m\u001b[1;36m1\u001b[0m\u001b[1;33m]\u001b[0m\u001b[1;33m,\u001b[0m\u001b[0mcolumns\u001b[0m\u001b[1;33m=\u001b[0m\u001b[1;33m[\u001b[0m\u001b[1;34m\"next_date\"\u001b[0m\u001b[1;33m]\u001b[0m\u001b[1;33m)\u001b[0m\u001b[1;33m\u001b[0m\u001b[1;33m\u001b[0m\u001b[0m\n\u001b[0;32m      6\u001b[0m     \u001b[0mconct\u001b[0m \u001b[1;33m=\u001b[0m \u001b[0mpd\u001b[0m\u001b[1;33m.\u001b[0m\u001b[0mconcat\u001b[0m\u001b[1;33m(\u001b[0m\u001b[1;33m[\u001b[0m\u001b[0mba\u001b[0m\u001b[1;33m,\u001b[0m\u001b[0mtarih\u001b[0m\u001b[1;33m,\u001b[0m\u001b[0mdata\u001b[0m\u001b[1;33m]\u001b[0m\u001b[1;33m,\u001b[0m\u001b[0maxis\u001b[0m\u001b[1;33m=\u001b[0m\u001b[1;36m1\u001b[0m\u001b[1;33m)\u001b[0m\u001b[1;33m.\u001b[0m\u001b[0mreset_index\u001b[0m\u001b[1;33m(\u001b[0m\u001b[0mdrop\u001b[0m\u001b[1;33m=\u001b[0m\u001b[1;32mTrue\u001b[0m\u001b[1;33m)\u001b[0m\u001b[1;33m\u001b[0m\u001b[1;33m\u001b[0m\u001b[0m\n",
      "\u001b[1;32mD:\\ProgramData\\Anaconda3\\lib\\site-packages\\pandas\\core\\frame.py\u001b[0m in \u001b[0;36m__init__\u001b[1;34m(self, data, index, columns, dtype, copy)\u001b[0m\n\u001b[0;32m    507\u001b[0m                     \u001b[1;32mif\u001b[0m \u001b[0mis_named_tuple\u001b[0m\u001b[1;33m(\u001b[0m\u001b[0mdata\u001b[0m\u001b[1;33m[\u001b[0m\u001b[1;36m0\u001b[0m\u001b[1;33m]\u001b[0m\u001b[1;33m)\u001b[0m \u001b[1;32mand\u001b[0m \u001b[0mcolumns\u001b[0m \u001b[1;32mis\u001b[0m \u001b[1;32mNone\u001b[0m\u001b[1;33m:\u001b[0m\u001b[1;33m\u001b[0m\u001b[1;33m\u001b[0m\u001b[0m\n\u001b[0;32m    508\u001b[0m                         \u001b[0mcolumns\u001b[0m \u001b[1;33m=\u001b[0m \u001b[0mdata\u001b[0m\u001b[1;33m[\u001b[0m\u001b[1;36m0\u001b[0m\u001b[1;33m]\u001b[0m\u001b[1;33m.\u001b[0m\u001b[0m_fields\u001b[0m\u001b[1;33m\u001b[0m\u001b[1;33m\u001b[0m\u001b[0m\n\u001b[1;32m--> 509\u001b[1;33m                     \u001b[0marrays\u001b[0m\u001b[1;33m,\u001b[0m \u001b[0mcolumns\u001b[0m \u001b[1;33m=\u001b[0m \u001b[0mto_arrays\u001b[0m\u001b[1;33m(\u001b[0m\u001b[0mdata\u001b[0m\u001b[1;33m,\u001b[0m \u001b[0mcolumns\u001b[0m\u001b[1;33m,\u001b[0m \u001b[0mdtype\u001b[0m\u001b[1;33m=\u001b[0m\u001b[0mdtype\u001b[0m\u001b[1;33m)\u001b[0m\u001b[1;33m\u001b[0m\u001b[1;33m\u001b[0m\u001b[0m\n\u001b[0m\u001b[0;32m    510\u001b[0m                     \u001b[0mcolumns\u001b[0m \u001b[1;33m=\u001b[0m \u001b[0mensure_index\u001b[0m\u001b[1;33m(\u001b[0m\u001b[0mcolumns\u001b[0m\u001b[1;33m)\u001b[0m\u001b[1;33m\u001b[0m\u001b[1;33m\u001b[0m\u001b[0m\n\u001b[0;32m    511\u001b[0m \u001b[1;33m\u001b[0m\u001b[0m\n",
      "\u001b[1;32mD:\\ProgramData\\Anaconda3\\lib\\site-packages\\pandas\\core\\internals\\construction.py\u001b[0m in \u001b[0;36mto_arrays\u001b[1;34m(data, columns, coerce_float, dtype)\u001b[0m\n\u001b[0;32m    522\u001b[0m         \u001b[1;32mreturn\u001b[0m \u001b[1;33m[\u001b[0m\u001b[1;33m]\u001b[0m\u001b[1;33m,\u001b[0m \u001b[1;33m[\u001b[0m\u001b[1;33m]\u001b[0m  \u001b[1;31m# columns if columns is not None else []\u001b[0m\u001b[1;33m\u001b[0m\u001b[1;33m\u001b[0m\u001b[0m\n\u001b[0;32m    523\u001b[0m     \u001b[1;32mif\u001b[0m \u001b[0misinstance\u001b[0m\u001b[1;33m(\u001b[0m\u001b[0mdata\u001b[0m\u001b[1;33m[\u001b[0m\u001b[1;36m0\u001b[0m\u001b[1;33m]\u001b[0m\u001b[1;33m,\u001b[0m \u001b[1;33m(\u001b[0m\u001b[0mlist\u001b[0m\u001b[1;33m,\u001b[0m \u001b[0mtuple\u001b[0m\u001b[1;33m)\u001b[0m\u001b[1;33m)\u001b[0m\u001b[1;33m:\u001b[0m\u001b[1;33m\u001b[0m\u001b[1;33m\u001b[0m\u001b[0m\n\u001b[1;32m--> 524\u001b[1;33m         \u001b[1;32mreturn\u001b[0m \u001b[0m_list_to_arrays\u001b[0m\u001b[1;33m(\u001b[0m\u001b[0mdata\u001b[0m\u001b[1;33m,\u001b[0m \u001b[0mcolumns\u001b[0m\u001b[1;33m,\u001b[0m \u001b[0mcoerce_float\u001b[0m\u001b[1;33m=\u001b[0m\u001b[0mcoerce_float\u001b[0m\u001b[1;33m,\u001b[0m \u001b[0mdtype\u001b[0m\u001b[1;33m=\u001b[0m\u001b[0mdtype\u001b[0m\u001b[1;33m)\u001b[0m\u001b[1;33m\u001b[0m\u001b[1;33m\u001b[0m\u001b[0m\n\u001b[0m\u001b[0;32m    525\u001b[0m     \u001b[1;32melif\u001b[0m \u001b[0misinstance\u001b[0m\u001b[1;33m(\u001b[0m\u001b[0mdata\u001b[0m\u001b[1;33m[\u001b[0m\u001b[1;36m0\u001b[0m\u001b[1;33m]\u001b[0m\u001b[1;33m,\u001b[0m \u001b[0mabc\u001b[0m\u001b[1;33m.\u001b[0m\u001b[0mMapping\u001b[0m\u001b[1;33m)\u001b[0m\u001b[1;33m:\u001b[0m\u001b[1;33m\u001b[0m\u001b[1;33m\u001b[0m\u001b[0m\n\u001b[0;32m    526\u001b[0m         return _list_of_dict_to_arrays(\n",
      "\u001b[1;32mD:\\ProgramData\\Anaconda3\\lib\\site-packages\\pandas\\core\\internals\\construction.py\u001b[0m in \u001b[0;36m_list_to_arrays\u001b[1;34m(data, columns, coerce_float, dtype)\u001b[0m\n\u001b[0;32m    565\u001b[0m         \u001b[0mresult\u001b[0m \u001b[1;33m=\u001b[0m \u001b[0m_convert_object_array\u001b[0m\u001b[1;33m(\u001b[0m\u001b[0mcontent\u001b[0m\u001b[1;33m,\u001b[0m \u001b[0mdtype\u001b[0m\u001b[1;33m=\u001b[0m\u001b[0mdtype\u001b[0m\u001b[1;33m,\u001b[0m \u001b[0mcoerce_float\u001b[0m\u001b[1;33m=\u001b[0m\u001b[0mcoerce_float\u001b[0m\u001b[1;33m)\u001b[0m\u001b[1;33m\u001b[0m\u001b[1;33m\u001b[0m\u001b[0m\n\u001b[0;32m    566\u001b[0m     \u001b[1;32mexcept\u001b[0m \u001b[0mAssertionError\u001b[0m \u001b[1;32mas\u001b[0m \u001b[0me\u001b[0m\u001b[1;33m:\u001b[0m\u001b[1;33m\u001b[0m\u001b[1;33m\u001b[0m\u001b[0m\n\u001b[1;32m--> 567\u001b[1;33m         \u001b[1;32mraise\u001b[0m \u001b[0mValueError\u001b[0m\u001b[1;33m(\u001b[0m\u001b[0me\u001b[0m\u001b[1;33m)\u001b[0m \u001b[1;32mfrom\u001b[0m \u001b[0me\u001b[0m\u001b[1;33m\u001b[0m\u001b[1;33m\u001b[0m\u001b[0m\n\u001b[0m\u001b[0;32m    568\u001b[0m     \u001b[1;32mreturn\u001b[0m \u001b[0mresult\u001b[0m\u001b[1;33m,\u001b[0m \u001b[0mcolumns\u001b[0m\u001b[1;33m\u001b[0m\u001b[1;33m\u001b[0m\u001b[0m\n\u001b[0;32m    569\u001b[0m \u001b[1;33m\u001b[0m\u001b[0m\n",
      "\u001b[1;31mValueError\u001b[0m: 3 columns passed, passed data had 4 columns"
     ]
    }
   ],
   "source": [
    "result = pd.DataFrame()\n",
    "for b in banks:\n",
    "    ba = haber[haber.bank==b].reset_index(drop=True)\n",
    "    data = pd.DataFrame(data=hs[b][0],columns=col)\n",
    "    tarih = pd.DataFrame(data=hs[b][1],columns=[\"next_date\"])\n",
    "    conct = pd.concat([ba,tarih,data],axis=1).reset_index(drop=True)\n",
    "    result = pd.concat([result,conct],axis=0).reset_index(drop=True)"
   ]
  },
  {
   "cell_type": "code",
   "execution_count": 409,
   "metadata": {},
   "outputs": [],
   "source": [
    "result.dropna(inplace=True)"
   ]
  },
  {
   "cell_type": "code",
   "execution_count": 410,
   "metadata": {},
   "outputs": [
    {
     "data": {
      "text/plain": [
       "11577"
      ]
     },
     "execution_count": 410,
     "metadata": {},
     "output_type": "execute_result"
    }
   ],
   "source": [
    "len(result)"
   ]
  },
  {
   "cell_type": "code",
   "execution_count": 419,
   "metadata": {},
   "outputs": [],
   "source": [
    "result.to_csv(\"../Data/Labelsız eşleştirilmiş data.csv\",index=False)"
   ]
  },
  {
   "cell_type": "code",
   "execution_count": 412,
   "metadata": {},
   "outputs": [
    {
     "data": {
      "text/html": [
       "<div>\n",
       "<style scoped>\n",
       "    .dataframe tbody tr th:only-of-type {\n",
       "        vertical-align: middle;\n",
       "    }\n",
       "\n",
       "    .dataframe tbody tr th {\n",
       "        vertical-align: top;\n",
       "    }\n",
       "\n",
       "    .dataframe thead th {\n",
       "        text-align: right;\n",
       "    }\n",
       "</style>\n",
       "<table border=\"1\" class=\"dataframe\">\n",
       "  <thead>\n",
       "    <tr style=\"text-align: right;\">\n",
       "      <th></th>\n",
       "      <th>title</th>\n",
       "      <th>content</th>\n",
       "      <th>date</th>\n",
       "      <th>bank</th>\n",
       "      <th>next_date</th>\n",
       "      <th>Şimdi</th>\n",
       "      <th>Açılış</th>\n",
       "      <th>Yüksek</th>\n",
       "      <th>Fark %</th>\n",
       "    </tr>\n",
       "  </thead>\n",
       "  <tbody>\n",
       "    <tr>\n",
       "      <th>0</th>\n",
       "      <td>Endekste 101.000 sağlam destek</td>\n",
       "      <td>\"BIST 100 Endeksi, dünü % 0.23 artışla, 102,43...</td>\n",
       "      <td>2019-03-15</td>\n",
       "      <td>akbank</td>\n",
       "      <td>2019-03-16</td>\n",
       "      <td>6,88</td>\n",
       "      <td>6,73</td>\n",
       "      <td>6,92</td>\n",
       "      <td>2,84%</td>\n",
       "    </tr>\n",
       "    <tr>\n",
       "      <th>1</th>\n",
       "      <td>Bankalar uçarken havayolları iniyor</td>\n",
       "      <td>\"Bankalar uçarken havayolları iniyor Dolar güç...</td>\n",
       "      <td>2019-03-14</td>\n",
       "      <td>akbank</td>\n",
       "      <td>2019-03-15</td>\n",
       "      <td>6,69</td>\n",
       "      <td>6,60</td>\n",
       "      <td>6,72</td>\n",
       "      <td>1,83%</td>\n",
       "    </tr>\n",
       "    <tr>\n",
       "      <th>2</th>\n",
       "      <td>Şirket haberleri ve tavsiyeleri 13/3/2019</td>\n",
       "      <td>Akbank (AKBNK, Öneri \"EKLE\", Nötr):   Banka ta...</td>\n",
       "      <td>2019-03-13</td>\n",
       "      <td>akbank</td>\n",
       "      <td>2019-03-14</td>\n",
       "      <td>6,57</td>\n",
       "      <td>6,61</td>\n",
       "      <td>6,70</td>\n",
       "      <td>-0,61%</td>\n",
       "    </tr>\n",
       "    <tr>\n",
       "      <th>3</th>\n",
       "      <td>Şirket haberleri ve tavsiyeleri 12/3/2019</td>\n",
       "      <td>Alarko Holding (ALARK, Sınırlı Pozitif): Alark...</td>\n",
       "      <td>2019-03-12</td>\n",
       "      <td>akbank</td>\n",
       "      <td>2019-03-13</td>\n",
       "      <td>6,61</td>\n",
       "      <td>6,45</td>\n",
       "      <td>6,66</td>\n",
       "      <td>2,32%</td>\n",
       "    </tr>\n",
       "    <tr>\n",
       "      <th>4</th>\n",
       "      <td>Hazine'nin yeni projesine 12 banka ortak oluyor</td>\n",
       "      <td>Hazine ve Maliye Bakanlığı 10 milyon TL sermay...</td>\n",
       "      <td>2019-03-08</td>\n",
       "      <td>akbank</td>\n",
       "      <td>2019-03-09</td>\n",
       "      <td>7,27</td>\n",
       "      <td>7,15</td>\n",
       "      <td>7,34</td>\n",
       "      <td>1,39%</td>\n",
       "    </tr>\n",
       "  </tbody>\n",
       "</table>\n",
       "</div>"
      ],
      "text/plain": [
       "                                             title  \\\n",
       "0                   Endekste 101.000 sağlam destek   \n",
       "1              Bankalar uçarken havayolları iniyor   \n",
       "2        Şirket haberleri ve tavsiyeleri 13/3/2019   \n",
       "3        Şirket haberleri ve tavsiyeleri 12/3/2019   \n",
       "4  Hazine'nin yeni projesine 12 banka ortak oluyor   \n",
       "\n",
       "                                             content       date    bank  \\\n",
       "0  \"BIST 100 Endeksi, dünü % 0.23 artışla, 102,43... 2019-03-15  akbank   \n",
       "1  \"Bankalar uçarken havayolları iniyor Dolar güç... 2019-03-14  akbank   \n",
       "2  Akbank (AKBNK, Öneri \"EKLE\", Nötr):   Banka ta... 2019-03-13  akbank   \n",
       "3  Alarko Holding (ALARK, Sınırlı Pozitif): Alark... 2019-03-12  akbank   \n",
       "4  Hazine ve Maliye Bakanlığı 10 milyon TL sermay... 2019-03-08  akbank   \n",
       "\n",
       "   next_date Şimdi Açılış Yüksek  Fark %  \n",
       "0 2019-03-16  6,88   6,73   6,92   2,84%  \n",
       "1 2019-03-15  6,69   6,60   6,72   1,83%  \n",
       "2 2019-03-14  6,57   6,61   6,70  -0,61%  \n",
       "3 2019-03-13  6,61   6,45   6,66   2,32%  \n",
       "4 2019-03-09  7,27   7,15   7,34   1,39%  "
      ]
     },
     "execution_count": 412,
     "metadata": {},
     "output_type": "execute_result"
    }
   ],
   "source": [
    "result.head()"
   ]
  },
  {
   "cell_type": "markdown",
   "metadata": {},
   "source": [
    "## Label"
   ]
  },
  {
   "cell_type": "code",
   "execution_count": 413,
   "metadata": {},
   "outputs": [],
   "source": [
    "result[\"Fark %\"]=result[\"Fark %\"].str.replace(\"%\",\"\")\n",
    "result[\"Fark %\"]=result[\"Fark %\"].str.replace(\",\",\".\")"
   ]
  },
  {
   "cell_type": "code",
   "execution_count": 414,
   "metadata": {},
   "outputs": [
    {
     "data": {
      "text/html": [
       "<div>\n",
       "<style scoped>\n",
       "    .dataframe tbody tr th:only-of-type {\n",
       "        vertical-align: middle;\n",
       "    }\n",
       "\n",
       "    .dataframe tbody tr th {\n",
       "        vertical-align: top;\n",
       "    }\n",
       "\n",
       "    .dataframe thead th {\n",
       "        text-align: right;\n",
       "    }\n",
       "</style>\n",
       "<table border=\"1\" class=\"dataframe\">\n",
       "  <thead>\n",
       "    <tr style=\"text-align: right;\">\n",
       "      <th></th>\n",
       "      <th>title</th>\n",
       "      <th>content</th>\n",
       "      <th>date</th>\n",
       "      <th>bank</th>\n",
       "      <th>next_date</th>\n",
       "      <th>Şimdi</th>\n",
       "      <th>Açılış</th>\n",
       "      <th>Yüksek</th>\n",
       "      <th>Fark %</th>\n",
       "    </tr>\n",
       "  </thead>\n",
       "  <tbody>\n",
       "    <tr>\n",
       "      <th>0</th>\n",
       "      <td>Endekste 101.000 sağlam destek</td>\n",
       "      <td>\"BIST 100 Endeksi, dünü % 0.23 artışla, 102,43...</td>\n",
       "      <td>2019-03-15</td>\n",
       "      <td>akbank</td>\n",
       "      <td>2019-03-16</td>\n",
       "      <td>6,88</td>\n",
       "      <td>6,73</td>\n",
       "      <td>6,92</td>\n",
       "      <td>2.84</td>\n",
       "    </tr>\n",
       "    <tr>\n",
       "      <th>1</th>\n",
       "      <td>Bankalar uçarken havayolları iniyor</td>\n",
       "      <td>\"Bankalar uçarken havayolları iniyor Dolar güç...</td>\n",
       "      <td>2019-03-14</td>\n",
       "      <td>akbank</td>\n",
       "      <td>2019-03-15</td>\n",
       "      <td>6,69</td>\n",
       "      <td>6,60</td>\n",
       "      <td>6,72</td>\n",
       "      <td>1.83</td>\n",
       "    </tr>\n",
       "    <tr>\n",
       "      <th>2</th>\n",
       "      <td>Şirket haberleri ve tavsiyeleri 13/3/2019</td>\n",
       "      <td>Akbank (AKBNK, Öneri \"EKLE\", Nötr):   Banka ta...</td>\n",
       "      <td>2019-03-13</td>\n",
       "      <td>akbank</td>\n",
       "      <td>2019-03-14</td>\n",
       "      <td>6,57</td>\n",
       "      <td>6,61</td>\n",
       "      <td>6,70</td>\n",
       "      <td>-0.61</td>\n",
       "    </tr>\n",
       "    <tr>\n",
       "      <th>3</th>\n",
       "      <td>Şirket haberleri ve tavsiyeleri 12/3/2019</td>\n",
       "      <td>Alarko Holding (ALARK, Sınırlı Pozitif): Alark...</td>\n",
       "      <td>2019-03-12</td>\n",
       "      <td>akbank</td>\n",
       "      <td>2019-03-13</td>\n",
       "      <td>6,61</td>\n",
       "      <td>6,45</td>\n",
       "      <td>6,66</td>\n",
       "      <td>2.32</td>\n",
       "    </tr>\n",
       "    <tr>\n",
       "      <th>4</th>\n",
       "      <td>Hazine'nin yeni projesine 12 banka ortak oluyor</td>\n",
       "      <td>Hazine ve Maliye Bakanlığı 10 milyon TL sermay...</td>\n",
       "      <td>2019-03-08</td>\n",
       "      <td>akbank</td>\n",
       "      <td>2019-03-09</td>\n",
       "      <td>7,27</td>\n",
       "      <td>7,15</td>\n",
       "      <td>7,34</td>\n",
       "      <td>1.39</td>\n",
       "    </tr>\n",
       "  </tbody>\n",
       "</table>\n",
       "</div>"
      ],
      "text/plain": [
       "                                             title  \\\n",
       "0                   Endekste 101.000 sağlam destek   \n",
       "1              Bankalar uçarken havayolları iniyor   \n",
       "2        Şirket haberleri ve tavsiyeleri 13/3/2019   \n",
       "3        Şirket haberleri ve tavsiyeleri 12/3/2019   \n",
       "4  Hazine'nin yeni projesine 12 banka ortak oluyor   \n",
       "\n",
       "                                             content       date    bank  \\\n",
       "0  \"BIST 100 Endeksi, dünü % 0.23 artışla, 102,43... 2019-03-15  akbank   \n",
       "1  \"Bankalar uçarken havayolları iniyor Dolar güç... 2019-03-14  akbank   \n",
       "2  Akbank (AKBNK, Öneri \"EKLE\", Nötr):   Banka ta... 2019-03-13  akbank   \n",
       "3  Alarko Holding (ALARK, Sınırlı Pozitif): Alark... 2019-03-12  akbank   \n",
       "4  Hazine ve Maliye Bakanlığı 10 milyon TL sermay... 2019-03-08  akbank   \n",
       "\n",
       "   next_date Şimdi Açılış Yüksek Fark %  \n",
       "0 2019-03-16  6,88   6,73   6,92   2.84  \n",
       "1 2019-03-15  6,69   6,60   6,72   1.83  \n",
       "2 2019-03-14  6,57   6,61   6,70  -0.61  \n",
       "3 2019-03-13  6,61   6,45   6,66   2.32  \n",
       "4 2019-03-09  7,27   7,15   7,34   1.39  "
      ]
     },
     "execution_count": 414,
     "metadata": {},
     "output_type": "execute_result"
    }
   ],
   "source": [
    "result.head()"
   ]
  },
  {
   "cell_type": "code",
   "execution_count": 416,
   "metadata": {},
   "outputs": [],
   "source": [
    "result['Fark %'] = result['Fark %'].astype(float)\n",
    "def classify(fark):\n",
    "    if fark > 1:\n",
    "        return 1\n",
    "    elif fark < -1:\n",
    "        return -1\n",
    "    elif -1< fark < 1:\n",
    "        return 0"
   ]
  },
  {
   "cell_type": "code",
   "execution_count": null,
   "metadata": {},
   "outputs": [],
   "source": [
    "result.describe(include=[\"bank\"])"
   ]
  },
  {
   "cell_type": "code",
   "execution_count": null,
   "metadata": {},
   "outputs": [],
   "source": [
    "result[\"label\"] = result.apply(lambda x:classify(x[\"Fark %\"]),axis=1)"
   ]
  },
  {
   "cell_type": "code",
   "execution_count": 417,
   "metadata": {},
   "outputs": [
    {
     "data": {
      "text/html": [
       "<div>\n",
       "<style scoped>\n",
       "    .dataframe tbody tr th:only-of-type {\n",
       "        vertical-align: middle;\n",
       "    }\n",
       "\n",
       "    .dataframe tbody tr th {\n",
       "        vertical-align: top;\n",
       "    }\n",
       "\n",
       "    .dataframe thead th {\n",
       "        text-align: right;\n",
       "    }\n",
       "</style>\n",
       "<table border=\"1\" class=\"dataframe\">\n",
       "  <thead>\n",
       "    <tr style=\"text-align: right;\">\n",
       "      <th></th>\n",
       "      <th>title</th>\n",
       "      <th>content</th>\n",
       "      <th>date</th>\n",
       "      <th>bank</th>\n",
       "      <th>next_date</th>\n",
       "      <th>Şimdi</th>\n",
       "      <th>Açılış</th>\n",
       "      <th>Yüksek</th>\n",
       "      <th>Fark %</th>\n",
       "      <th>label</th>\n",
       "    </tr>\n",
       "  </thead>\n",
       "  <tbody>\n",
       "    <tr>\n",
       "      <th>0</th>\n",
       "      <td>Endekste 101.000 sağlam destek</td>\n",
       "      <td>\"BIST 100 Endeksi, dünü % 0.23 artışla, 102,43...</td>\n",
       "      <td>2019-03-15</td>\n",
       "      <td>akbank</td>\n",
       "      <td>2019-03-16</td>\n",
       "      <td>6,88</td>\n",
       "      <td>6,73</td>\n",
       "      <td>6,92</td>\n",
       "      <td>2.84</td>\n",
       "      <td>1.0</td>\n",
       "    </tr>\n",
       "    <tr>\n",
       "      <th>1</th>\n",
       "      <td>Bankalar uçarken havayolları iniyor</td>\n",
       "      <td>\"Bankalar uçarken havayolları iniyor Dolar güç...</td>\n",
       "      <td>2019-03-14</td>\n",
       "      <td>akbank</td>\n",
       "      <td>2019-03-15</td>\n",
       "      <td>6,69</td>\n",
       "      <td>6,60</td>\n",
       "      <td>6,72</td>\n",
       "      <td>1.83</td>\n",
       "      <td>1.0</td>\n",
       "    </tr>\n",
       "    <tr>\n",
       "      <th>2</th>\n",
       "      <td>Şirket haberleri ve tavsiyeleri 13/3/2019</td>\n",
       "      <td>Akbank (AKBNK, Öneri \"EKLE\", Nötr):   Banka ta...</td>\n",
       "      <td>2019-03-13</td>\n",
       "      <td>akbank</td>\n",
       "      <td>2019-03-14</td>\n",
       "      <td>6,57</td>\n",
       "      <td>6,61</td>\n",
       "      <td>6,70</td>\n",
       "      <td>-0.61</td>\n",
       "      <td>0.0</td>\n",
       "    </tr>\n",
       "    <tr>\n",
       "      <th>3</th>\n",
       "      <td>Şirket haberleri ve tavsiyeleri 12/3/2019</td>\n",
       "      <td>Alarko Holding (ALARK, Sınırlı Pozitif): Alark...</td>\n",
       "      <td>2019-03-12</td>\n",
       "      <td>akbank</td>\n",
       "      <td>2019-03-13</td>\n",
       "      <td>6,61</td>\n",
       "      <td>6,45</td>\n",
       "      <td>6,66</td>\n",
       "      <td>2.32</td>\n",
       "      <td>1.0</td>\n",
       "    </tr>\n",
       "    <tr>\n",
       "      <th>4</th>\n",
       "      <td>Hazine'nin yeni projesine 12 banka ortak oluyor</td>\n",
       "      <td>Hazine ve Maliye Bakanlığı 10 milyon TL sermay...</td>\n",
       "      <td>2019-03-08</td>\n",
       "      <td>akbank</td>\n",
       "      <td>2019-03-09</td>\n",
       "      <td>7,27</td>\n",
       "      <td>7,15</td>\n",
       "      <td>7,34</td>\n",
       "      <td>1.39</td>\n",
       "      <td>1.0</td>\n",
       "    </tr>\n",
       "  </tbody>\n",
       "</table>\n",
       "</div>"
      ],
      "text/plain": [
       "                                             title  \\\n",
       "0                   Endekste 101.000 sağlam destek   \n",
       "1              Bankalar uçarken havayolları iniyor   \n",
       "2        Şirket haberleri ve tavsiyeleri 13/3/2019   \n",
       "3        Şirket haberleri ve tavsiyeleri 12/3/2019   \n",
       "4  Hazine'nin yeni projesine 12 banka ortak oluyor   \n",
       "\n",
       "                                             content       date    bank  \\\n",
       "0  \"BIST 100 Endeksi, dünü % 0.23 artışla, 102,43... 2019-03-15  akbank   \n",
       "1  \"Bankalar uçarken havayolları iniyor Dolar güç... 2019-03-14  akbank   \n",
       "2  Akbank (AKBNK, Öneri \"EKLE\", Nötr):   Banka ta... 2019-03-13  akbank   \n",
       "3  Alarko Holding (ALARK, Sınırlı Pozitif): Alark... 2019-03-12  akbank   \n",
       "4  Hazine ve Maliye Bakanlığı 10 milyon TL sermay... 2019-03-08  akbank   \n",
       "\n",
       "   next_date Şimdi Açılış Yüksek  Fark %  label  \n",
       "0 2019-03-16  6,88   6,73   6,92    2.84    1.0  \n",
       "1 2019-03-15  6,69   6,60   6,72    1.83    1.0  \n",
       "2 2019-03-14  6,57   6,61   6,70   -0.61    0.0  \n",
       "3 2019-03-13  6,61   6,45   6,66    2.32    1.0  \n",
       "4 2019-03-09  7,27   7,15   7,34    1.39    1.0  "
      ]
     },
     "execution_count": 417,
     "metadata": {},
     "output_type": "execute_result"
    }
   ],
   "source": [
    "result.head()"
   ]
  },
  {
   "cell_type": "code",
   "execution_count": 422,
   "metadata": {},
   "outputs": [],
   "source": [
    "result.drop([\"title\",\"date\",\"next_date\",\"Şimdi\",\"Açılış\",\"Yüksek\",\"Fark %\"],axis=1,inplace=True)"
   ]
  },
  {
   "cell_type": "code",
   "execution_count": 424,
   "metadata": {},
   "outputs": [],
   "source": [
    "result.to_csv(\"../Data/Labelled_news.csv\",index=False)"
   ]
  },
  {
   "cell_type": "code",
   "execution_count": 423,
   "metadata": {},
   "outputs": [
    {
     "data": {
      "text/html": [
       "<div>\n",
       "<style scoped>\n",
       "    .dataframe tbody tr th:only-of-type {\n",
       "        vertical-align: middle;\n",
       "    }\n",
       "\n",
       "    .dataframe tbody tr th {\n",
       "        vertical-align: top;\n",
       "    }\n",
       "\n",
       "    .dataframe thead th {\n",
       "        text-align: right;\n",
       "    }\n",
       "</style>\n",
       "<table border=\"1\" class=\"dataframe\">\n",
       "  <thead>\n",
       "    <tr style=\"text-align: right;\">\n",
       "      <th></th>\n",
       "      <th>content</th>\n",
       "      <th>bank</th>\n",
       "      <th>label</th>\n",
       "    </tr>\n",
       "  </thead>\n",
       "  <tbody>\n",
       "    <tr>\n",
       "      <th>0</th>\n",
       "      <td>\"BIST 100 Endeksi, dünü % 0.23 artışla, 102,43...</td>\n",
       "      <td>akbank</td>\n",
       "      <td>1.0</td>\n",
       "    </tr>\n",
       "    <tr>\n",
       "      <th>1</th>\n",
       "      <td>\"Bankalar uçarken havayolları iniyor Dolar güç...</td>\n",
       "      <td>akbank</td>\n",
       "      <td>1.0</td>\n",
       "    </tr>\n",
       "    <tr>\n",
       "      <th>2</th>\n",
       "      <td>Akbank (AKBNK, Öneri \"EKLE\", Nötr):   Banka ta...</td>\n",
       "      <td>akbank</td>\n",
       "      <td>0.0</td>\n",
       "    </tr>\n",
       "    <tr>\n",
       "      <th>3</th>\n",
       "      <td>Alarko Holding (ALARK, Sınırlı Pozitif): Alark...</td>\n",
       "      <td>akbank</td>\n",
       "      <td>1.0</td>\n",
       "    </tr>\n",
       "    <tr>\n",
       "      <th>4</th>\n",
       "      <td>Hazine ve Maliye Bakanlığı 10 milyon TL sermay...</td>\n",
       "      <td>akbank</td>\n",
       "      <td>1.0</td>\n",
       "    </tr>\n",
       "    <tr>\n",
       "      <th>...</th>\n",
       "      <td>...</td>\n",
       "      <td>...</td>\n",
       "      <td>...</td>\n",
       "    </tr>\n",
       "    <tr>\n",
       "      <th>12341</th>\n",
       "      <td>Ziraat Yatırım, Yapı Kredi Bankası hedef fiyat...</td>\n",
       "      <td>yapi%20kredi</td>\n",
       "      <td>0.0</td>\n",
       "    </tr>\n",
       "    <tr>\n",
       "      <th>12342</th>\n",
       "      <td>Ziraat Yatırım, ( www.ziraatyatirim.com.tr ) k...</td>\n",
       "      <td>yapi%20kredi</td>\n",
       "      <td>0.0</td>\n",
       "    </tr>\n",
       "    <tr>\n",
       "      <th>12343</th>\n",
       "      <td>Türk banka hisselerinin dün yüzde 7,4 değer ka...</td>\n",
       "      <td>yapi%20kredi</td>\n",
       "      <td>0.0</td>\n",
       "    </tr>\n",
       "    <tr>\n",
       "      <th>12344</th>\n",
       "      <td>Bugünlerde tüm bankalar yeni yılı planlama tel...</td>\n",
       "      <td>yapi%20kredi</td>\n",
       "      <td>0.0</td>\n",
       "    </tr>\n",
       "    <tr>\n",
       "      <th>12345</th>\n",
       "      <td>Borsadaki BIST 100 firmalarına bakıldığında is...</td>\n",
       "      <td>yapi%20kredi</td>\n",
       "      <td>0.0</td>\n",
       "    </tr>\n",
       "  </tbody>\n",
       "</table>\n",
       "<p>11577 rows × 3 columns</p>\n",
       "</div>"
      ],
      "text/plain": [
       "                                                 content          bank  label\n",
       "0      \"BIST 100 Endeksi, dünü % 0.23 artışla, 102,43...        akbank    1.0\n",
       "1      \"Bankalar uçarken havayolları iniyor Dolar güç...        akbank    1.0\n",
       "2      Akbank (AKBNK, Öneri \"EKLE\", Nötr):   Banka ta...        akbank    0.0\n",
       "3      Alarko Holding (ALARK, Sınırlı Pozitif): Alark...        akbank    1.0\n",
       "4      Hazine ve Maliye Bakanlığı 10 milyon TL sermay...        akbank    1.0\n",
       "...                                                  ...           ...    ...\n",
       "12341  Ziraat Yatırım, Yapı Kredi Bankası hedef fiyat...  yapi%20kredi    0.0\n",
       "12342  Ziraat Yatırım, ( www.ziraatyatirim.com.tr ) k...  yapi%20kredi    0.0\n",
       "12343  Türk banka hisselerinin dün yüzde 7,4 değer ka...  yapi%20kredi    0.0\n",
       "12344  Bugünlerde tüm bankalar yeni yılı planlama tel...  yapi%20kredi    0.0\n",
       "12345  Borsadaki BIST 100 firmalarına bakıldığında is...  yapi%20kredi    0.0\n",
       "\n",
       "[11577 rows x 3 columns]"
      ]
     },
     "execution_count": 423,
     "metadata": {},
     "output_type": "execute_result"
    }
   ],
   "source": [
    "result"
   ]
  },
  {
   "cell_type": "code",
   "execution_count": null,
   "metadata": {},
   "outputs": [],
   "source": []
  }
 ],
 "metadata": {
  "kernelspec": {
   "display_name": "Python 3",
   "language": "python",
   "name": "python3"
  },
  "language_info": {
   "codemirror_mode": {
    "name": "ipython",
    "version": 3
   },
   "file_extension": ".py",
   "mimetype": "text/x-python",
   "name": "python",
   "nbconvert_exporter": "python",
   "pygments_lexer": "ipython3",
   "version": "3.7.6"
  }
 },
 "nbformat": 4,
 "nbformat_minor": 4
}
