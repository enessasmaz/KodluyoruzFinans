{
 "cells": [
  {
   "cell_type": "code",
   "execution_count": 2,
   "metadata": {},
   "outputs": [],
   "source": [
    "import pandas as pd\n",
    "import numpy as np"
   ]
  },
  {
   "cell_type": "code",
   "execution_count": 33,
   "metadata": {
    "id": "y6wlvYTEu9DE"
   },
   "outputs": [],
   "source": [
    "haber = pd.read_csv(\"../Data/banks.csv\")\n"
   ]
  },
  {
   "cell_type": "code",
   "execution_count": 34,
   "metadata": {},
   "outputs": [
    {
     "data": {
      "text/html": [
       "<div>\n",
       "<style scoped>\n",
       "    .dataframe tbody tr th:only-of-type {\n",
       "        vertical-align: middle;\n",
       "    }\n",
       "\n",
       "    .dataframe tbody tr th {\n",
       "        vertical-align: top;\n",
       "    }\n",
       "\n",
       "    .dataframe thead th {\n",
       "        text-align: right;\n",
       "    }\n",
       "</style>\n",
       "<table border=\"1\" class=\"dataframe\">\n",
       "  <thead>\n",
       "    <tr style=\"text-align: right;\">\n",
       "      <th></th>\n",
       "      <th>Unnamed: 0</th>\n",
       "      <th>title</th>\n",
       "      <th>content</th>\n",
       "      <th>date</th>\n",
       "      <th>bank</th>\n",
       "    </tr>\n",
       "  </thead>\n",
       "  <tbody>\n",
       "    <tr>\n",
       "      <th>0</th>\n",
       "      <td>0</td>\n",
       "      <td>Endekste 101.000 sağlam destek</td>\n",
       "      <td>\"BIST 100 Endeksi, dünü % 0.23 artışla, 102,43...</td>\n",
       "      <td>15 Mart 2019</td>\n",
       "      <td>akbank</td>\n",
       "    </tr>\n",
       "    <tr>\n",
       "      <th>1</th>\n",
       "      <td>1</td>\n",
       "      <td>Bankalar uçarken havayolları iniyor</td>\n",
       "      <td>\"Bankalar uçarken havayolları iniyor Dolar güç...</td>\n",
       "      <td>14 Mart 2019</td>\n",
       "      <td>akbank</td>\n",
       "    </tr>\n",
       "    <tr>\n",
       "      <th>2</th>\n",
       "      <td>2</td>\n",
       "      <td>Şirket haberleri ve tavsiyeleri 13/3/2019</td>\n",
       "      <td>Akbank (AKBNK, Öneri \"EKLE\", Nötr):   Banka ta...</td>\n",
       "      <td>13 Mart 2019</td>\n",
       "      <td>akbank</td>\n",
       "    </tr>\n",
       "    <tr>\n",
       "      <th>3</th>\n",
       "      <td>3</td>\n",
       "      <td>Şirket haberleri ve tavsiyeleri 12/3/2019</td>\n",
       "      <td>Alarko Holding (ALARK, Sınırlı Pozitif): Alark...</td>\n",
       "      <td>12 Mart 2019</td>\n",
       "      <td>akbank</td>\n",
       "    </tr>\n",
       "    <tr>\n",
       "      <th>4</th>\n",
       "      <td>4</td>\n",
       "      <td>Hazine'nin yeni projesine 12 banka ortak oluyor</td>\n",
       "      <td>Hazine ve Maliye Bakanlığı 10 milyon TL sermay...</td>\n",
       "      <td>08 Mart 2019</td>\n",
       "      <td>akbank</td>\n",
       "    </tr>\n",
       "  </tbody>\n",
       "</table>\n",
       "</div>"
      ],
      "text/plain": [
       "   Unnamed: 0                                            title  \\\n",
       "0           0                   Endekste 101.000 sağlam destek   \n",
       "1           1              Bankalar uçarken havayolları iniyor   \n",
       "2           2        Şirket haberleri ve tavsiyeleri 13/3/2019   \n",
       "3           3        Şirket haberleri ve tavsiyeleri 12/3/2019   \n",
       "4           4  Hazine'nin yeni projesine 12 banka ortak oluyor   \n",
       "\n",
       "                                             content          date    bank  \n",
       "0  \"BIST 100 Endeksi, dünü % 0.23 artışla, 102,43...  15 Mart 2019  akbank  \n",
       "1  \"Bankalar uçarken havayolları iniyor Dolar güç...  14 Mart 2019  akbank  \n",
       "2  Akbank (AKBNK, Öneri \"EKLE\", Nötr):   Banka ta...  13 Mart 2019  akbank  \n",
       "3  Alarko Holding (ALARK, Sınırlı Pozitif): Alark...  12 Mart 2019  akbank  \n",
       "4  Hazine ve Maliye Bakanlığı 10 milyon TL sermay...  08 Mart 2019  akbank  "
      ]
     },
     "execution_count": 34,
     "metadata": {},
     "output_type": "execute_result"
    }
   ],
   "source": [
    "haber.head()"
   ]
  },
  {
   "cell_type": "code",
   "execution_count": 35,
   "metadata": {
    "id": "y6wlvYTEu9DE"
   },
   "outputs": [],
   "source": [
    "months = [\"ocak\",\"şubat\",\"mart\",\"nisan\",\"mayıs\",\"haziran\",\"temmuz\",\"ağustos\",\"eylül\",\"ekim\",\"kasım\",\"aralık\"]\n",
    "months_dict = {months[i] : i+1 for i in range(0,12)}"
   ]
  },
  {
   "cell_type": "code",
   "execution_count": 36,
   "metadata": {
    "id": "y6wlvYTEu9DE"
   },
   "outputs": [
    {
     "name": "stderr",
     "output_type": "stream",
     "text": [
      "C:\\Users\\Emirhan\\anaconda3\\envs\\myenv\\lib\\site-packages\\ipykernel_launcher.py:4: SettingWithCopyWarning: \n",
      "A value is trying to be set on a copy of a slice from a DataFrame\n",
      "\n",
      "See the caveats in the documentation: https://pandas.pydata.org/pandas-docs/stable/user_guide/indexing.html#returning-a-view-versus-a-copy\n",
      "  after removing the cwd from sys.path.\n"
     ]
    }
   ],
   "source": [
    "for i in range(len(haber.date)):\n",
    "    try:\n",
    "        ay = str(haber.date[i].split()[1].lower())\n",
    "        haber.date[i] = f\"{haber.date[i].split()[0]}.{months_dict[ay]}.{haber.date[i].split()[2]}\"\n",
    "    except Exception as e:\n",
    "        pass\n"
   ]
  },
  {
   "cell_type": "code",
   "execution_count": 283,
   "metadata": {},
   "outputs": [
    {
     "data": {
      "text/html": [
       "<div>\n",
       "<style scoped>\n",
       "    .dataframe tbody tr th:only-of-type {\n",
       "        vertical-align: middle;\n",
       "    }\n",
       "\n",
       "    .dataframe tbody tr th {\n",
       "        vertical-align: top;\n",
       "    }\n",
       "\n",
       "    .dataframe thead th {\n",
       "        text-align: right;\n",
       "    }\n",
       "</style>\n",
       "<table border=\"1\" class=\"dataframe\">\n",
       "  <thead>\n",
       "    <tr style=\"text-align: right;\">\n",
       "      <th></th>\n",
       "      <th>title</th>\n",
       "      <th>content</th>\n",
       "      <th>date</th>\n",
       "      <th>bank</th>\n",
       "    </tr>\n",
       "  </thead>\n",
       "  <tbody>\n",
       "    <tr>\n",
       "      <th>12341</th>\n",
       "      <td>Köymen'den farklı yorumlar!</td>\n",
       "      <td>Haute Couture’nin ustası; Türkiye’nin yetiştir...</td>\n",
       "      <td>2013-03-28</td>\n",
       "      <td>denizbank</td>\n",
       "    </tr>\n",
       "    <tr>\n",
       "      <th>12342</th>\n",
       "      <td>O'na ne önerdi?</td>\n",
       "      <td>Haute Couture’nin ustası; Türkiye’nin yetiştir...</td>\n",
       "      <td>2013-03-27</td>\n",
       "      <td>denizbank</td>\n",
       "    </tr>\n",
       "    <tr>\n",
       "      <th>12343</th>\n",
       "      <td>'Yüz hatları çok karizmatik'</td>\n",
       "      <td>Haute Couture’nin ustası; özgür giyimin markas...</td>\n",
       "      <td>2013-03-26</td>\n",
       "      <td>denizbank</td>\n",
       "    </tr>\n",
       "    <tr>\n",
       "      <th>12344</th>\n",
       "      <td>Aracı kurumlar da yabancılaşıyor</td>\n",
       "      <td>Yabancı sermayenin Türkiye’ye olan ilgisi sade...</td>\n",
       "      <td>2013-03-05</td>\n",
       "      <td>denizbank</td>\n",
       "    </tr>\n",
       "    <tr>\n",
       "      <th>12345</th>\n",
       "      <td>Bankacıların iddialı 2013 hedefleri</td>\n",
       "      <td>Bütün bankacılar aslında hem fikir. Hepsine gö...</td>\n",
       "      <td>2013-01-09</td>\n",
       "      <td>denizbank</td>\n",
       "    </tr>\n",
       "  </tbody>\n",
       "</table>\n",
       "</div>"
      ],
      "text/plain": [
       "                                     title  \\\n",
       "12341          Köymen'den farklı yorumlar!   \n",
       "12342                      O'na ne önerdi?   \n",
       "12343         'Yüz hatları çok karizmatik'   \n",
       "12344     Aracı kurumlar da yabancılaşıyor   \n",
       "12345  Bankacıların iddialı 2013 hedefleri   \n",
       "\n",
       "                                                 content       date       bank  \n",
       "12341  Haute Couture’nin ustası; Türkiye’nin yetiştir... 2013-03-28  denizbank  \n",
       "12342  Haute Couture’nin ustası; Türkiye’nin yetiştir... 2013-03-27  denizbank  \n",
       "12343  Haute Couture’nin ustası; özgür giyimin markas... 2013-03-26  denizbank  \n",
       "12344  Yabancı sermayenin Türkiye’ye olan ilgisi sade... 2013-03-05  denizbank  \n",
       "12345  Bütün bankacılar aslında hem fikir. Hepsine gö... 2013-01-09  denizbank  "
      ]
     },
     "execution_count": 283,
     "metadata": {},
     "output_type": "execute_result"
    }
   ],
   "source": [
    "haber.tail()"
   ]
  },
  {
   "cell_type": "code",
   "execution_count": 38,
   "metadata": {},
   "outputs": [],
   "source": [
    "haber.date = pd.to_datetime(haber[\"date\"]).dt.strftime('%d.%m.%Y')\n"
   ]
  },
  {
   "cell_type": "code",
   "execution_count": 40,
   "metadata": {},
   "outputs": [],
   "source": [
    "haber.to_csv(\"banks.csv\",index=False)"
   ]
  },
  {
   "cell_type": "code",
   "execution_count": null,
   "metadata": {},
   "outputs": [],
   "source": []
  },
  {
   "cell_type": "code",
   "execution_count": 45,
   "metadata": {},
   "outputs": [],
   "source": [
    "haber.drop(\"Unnamed: 0\",axis=1,inplace=True)"
   ]
  },
  {
   "cell_type": "code",
   "execution_count": 47,
   "metadata": {},
   "outputs": [
    {
     "data": {
      "text/html": [
       "<div>\n",
       "<style scoped>\n",
       "    .dataframe tbody tr th:only-of-type {\n",
       "        vertical-align: middle;\n",
       "    }\n",
       "\n",
       "    .dataframe tbody tr th {\n",
       "        vertical-align: top;\n",
       "    }\n",
       "\n",
       "    .dataframe thead th {\n",
       "        text-align: right;\n",
       "    }\n",
       "</style>\n",
       "<table border=\"1\" class=\"dataframe\">\n",
       "  <thead>\n",
       "    <tr style=\"text-align: right;\">\n",
       "      <th></th>\n",
       "      <th>title</th>\n",
       "      <th>content</th>\n",
       "      <th>date</th>\n",
       "      <th>bank</th>\n",
       "    </tr>\n",
       "  </thead>\n",
       "  <tbody>\n",
       "    <tr>\n",
       "      <th>12390</th>\n",
       "      <td>Köymen'den farklı yorumlar!</td>\n",
       "      <td>Haute Couture’nin ustası; Türkiye’nin yetiştir...</td>\n",
       "      <td>28.03.2013</td>\n",
       "      <td>denizbank</td>\n",
       "    </tr>\n",
       "    <tr>\n",
       "      <th>12391</th>\n",
       "      <td>O'na ne önerdi?</td>\n",
       "      <td>Haute Couture’nin ustası; Türkiye’nin yetiştir...</td>\n",
       "      <td>27.03.2013</td>\n",
       "      <td>denizbank</td>\n",
       "    </tr>\n",
       "    <tr>\n",
       "      <th>12392</th>\n",
       "      <td>'Yüz hatları çok karizmatik'</td>\n",
       "      <td>Haute Couture’nin ustası; özgür giyimin markas...</td>\n",
       "      <td>26.03.2013</td>\n",
       "      <td>denizbank</td>\n",
       "    </tr>\n",
       "    <tr>\n",
       "      <th>12393</th>\n",
       "      <td>Aracı kurumlar da yabancılaşıyor</td>\n",
       "      <td>Yabancı sermayenin Türkiye’ye olan ilgisi sade...</td>\n",
       "      <td>03.05.2013</td>\n",
       "      <td>denizbank</td>\n",
       "    </tr>\n",
       "    <tr>\n",
       "      <th>12394</th>\n",
       "      <td>Bankacıların iddialı 2013 hedefleri</td>\n",
       "      <td>Bütün bankacılar aslında hem fikir. Hepsine gö...</td>\n",
       "      <td>01.09.2013</td>\n",
       "      <td>denizbank</td>\n",
       "    </tr>\n",
       "  </tbody>\n",
       "</table>\n",
       "</div>"
      ],
      "text/plain": [
       "                                     title  \\\n",
       "12390          Köymen'den farklı yorumlar!   \n",
       "12391                      O'na ne önerdi?   \n",
       "12392         'Yüz hatları çok karizmatik'   \n",
       "12393     Aracı kurumlar da yabancılaşıyor   \n",
       "12394  Bankacıların iddialı 2013 hedefleri   \n",
       "\n",
       "                                                 content        date  \\\n",
       "12390  Haute Couture’nin ustası; Türkiye’nin yetiştir...  28.03.2013   \n",
       "12391  Haute Couture’nin ustası; Türkiye’nin yetiştir...  27.03.2013   \n",
       "12392  Haute Couture’nin ustası; özgür giyimin markas...  26.03.2013   \n",
       "12393  Yabancı sermayenin Türkiye’ye olan ilgisi sade...  03.05.2013   \n",
       "12394  Bütün bankacılar aslında hem fikir. Hepsine gö...  01.09.2013   \n",
       "\n",
       "            bank  \n",
       "12390  denizbank  \n",
       "12391  denizbank  \n",
       "12392  denizbank  \n",
       "12393  denizbank  \n",
       "12394  denizbank  "
      ]
     },
     "execution_count": 47,
     "metadata": {},
     "output_type": "execute_result"
    }
   ],
   "source": [
    "haber.tail()"
   ]
  },
  {
   "cell_type": "code",
   "execution_count": 51,
   "metadata": {},
   "outputs": [],
   "source": [
    "haber.dropna(inplace=True)"
   ]
  },
  {
   "cell_type": "code",
   "execution_count": 49,
   "metadata": {},
   "outputs": [
    {
     "data": {
      "text/plain": [
       "title      29\n",
       "content    20\n",
       "date        0\n",
       "bank        0\n",
       "dtype: int64"
      ]
     },
     "execution_count": 49,
     "metadata": {},
     "output_type": "execute_result"
    }
   ],
   "source": [
    "haber.dropna()"
   ]
  },
  {
   "cell_type": "code",
   "execution_count": 61,
   "metadata": {},
   "outputs": [],
   "source": [
    "haber.reset_index(drop=True,inplace=True)"
   ]
  },
  {
   "cell_type": "code",
   "execution_count": 66,
   "metadata": {},
   "outputs": [],
   "source": [
    "haber.drop(\"index\",axis=1,inplace=True)"
   ]
  },
  {
   "cell_type": "code",
   "execution_count": 68,
   "metadata": {},
   "outputs": [],
   "source": [
    "haber.to_csv(\"banks.csv\",index=False)"
   ]
  },
  {
   "cell_type": "markdown",
   "metadata": {},
   "source": [
    "## Hisse Oranları"
   ]
  },
  {
   "cell_type": "code",
   "execution_count": 72,
   "metadata": {},
   "outputs": [
    {
     "data": {
      "text/plain": [
       "['ak.csv',\n",
       " 'deniz.csv',\n",
       " 'garanti.csv',\n",
       " 'halk.csv',\n",
       " 'is.csv',\n",
       " 'vakif.csv',\n",
       " 'yapi.csv']"
      ]
     },
     "execution_count": 72,
     "metadata": {},
     "output_type": "execute_result"
    }
   ],
   "source": [
    "import os\n",
    "os.listdir(\"../Data/hisseler\")"
   ]
  },
  {
   "cell_type": "code",
   "execution_count": 123,
   "metadata": {},
   "outputs": [],
   "source": [
    "banks = [\"akbank\",\"denizbank\",\"garanti\",\"halkbank\",\"is%20bankasi\",\"vakifbank\",\"yapi%20kredi\"]\n",
    "banks_dict = {}\n",
    "path = \"../Data/hisseler/\"\n",
    "index = 0\n",
    "for i in os.listdir(\"../Data/hisseler\")[1:]:\n",
    "    banks_dict[banks[index]] =  pd.read_csv(path+i)\n",
    "    banks_dict[banks[index]].rename(columns={\"Tarih\":\"date\"},inplace=True)\n",
    "    banks_dict[banks[index]].date = pd.to_datetime(banks_dict[banks[index]][\"date\"])\n",
    "    banks_dict[banks[index]].set_index(\"date\",inplace=True)\n",
    "    index +=1"
   ]
  },
  {
   "cell_type": "code",
   "execution_count": 124,
   "metadata": {},
   "outputs": [],
   "source": [
    "haber.date = pd.to_datetime(haber[\"date\"])"
   ]
  },
  {
   "cell_type": "markdown",
   "metadata": {},
   "source": [
    "## Günleri Eşleştirme"
   ]
  },
  {
   "cell_type": "code",
   "execution_count": 284,
   "metadata": {},
   "outputs": [
    {
     "name": "stdout",
     "output_type": "stream",
     "text": [
      "21\n",
      "529\n",
      "54\n",
      "27\n",
      "39\n",
      "55\n",
      "44\n"
     ]
    }
   ],
   "source": [
    "\n",
    "hs = {}\n",
    "for b in banks: \n",
    "    liste = []\n",
    "    liste_date = []\n",
    "    a  = 0\n",
    "    for i in haber[haber.bank==b].date:\n",
    "        tarih = i + pd.Timedelta(days=1)  \n",
    "        try:\n",
    "\n",
    "            liste.append(banks_dict[b].loc[tarih,col].values)\n",
    "            liste_date.append(tarih)\n",
    "        except:\n",
    "            try:\n",
    "                liste.append(banks_dict[b].loc[tarih + pd.Timedelta(days=1),col].values)\n",
    "                liste_date.append(tarih)\n",
    "            except:\n",
    "                try:\n",
    "                    liste.append(banks_dict[b].loc[tarih + pd.Timedelta(days=2),col].values)\n",
    "                    liste_date.append(tarih)\n",
    "                except:\n",
    "                    liste.append([np.nan,np.nan,np.nan,np.nan])\n",
    "                    liste_date.append(np.nan)\n",
    "                    a +=1\n",
    "    #                 try:\n",
    "    #                     liste.append(banks_dict[\"akbank\"].loc[tarih + pd.Timedelta(days=3),col].values)\n",
    "    #                 except:\n",
    "    #                     try:\n",
    "    #                         liste.append(banks_dict[\"akbank\"].loc[tarih + pd.Timedelta(days=4),col].values)\n",
    "    #                     except:\n",
    "    #                         liste.append(np.nan)\n",
    "    hs[b] = [liste,liste_date]\n",
    "    print(a)"
   ]
  },
  {
   "cell_type": "code",
   "execution_count": 244,
   "metadata": {},
   "outputs": [
    {
     "data": {
      "text/plain": [
       "12346"
      ]
     },
     "execution_count": 244,
     "metadata": {},
     "output_type": "execute_result"
    }
   ],
   "source": [
    "len(haber)"
   ]
  },
  {
   "cell_type": "markdown",
   "metadata": {},
   "source": [
    "## Haber ve Günleri Eşleştirme"
   ]
  },
  {
   "cell_type": "code",
   "execution_count": 403,
   "metadata": {},
   "outputs": [],
   "source": [
    "result = pd.DataFrame()\n",
    "for b in banks:\n",
    "    ba = haber[haber.bank==b].reset_index(drop=True)\n",
    "    data = pd.DataFrame(data=hs[b][0],columns=col)\n",
    "    tarih = pd.DataFrame(data=hs[b][1],columns=[\"next_date\"])\n",
    "    conct = pd.concat([ba,tarih,data],axis=1).reset_index(drop=True)\n",
    "    result = pd.concat([result,conct],axis=0).reset_index(drop=True)"
   ]
  },
  {
   "cell_type": "code",
   "execution_count": 409,
   "metadata": {},
   "outputs": [],
   "source": [
    "result.dropna(inplace=True)"
   ]
  },
  {
   "cell_type": "code",
   "execution_count": 410,
   "metadata": {},
   "outputs": [
    {
     "data": {
      "text/plain": [
       "11577"
      ]
     },
     "execution_count": 410,
     "metadata": {},
     "output_type": "execute_result"
    }
   ],
   "source": [
    "len(result)"
   ]
  },
  {
   "cell_type": "code",
   "execution_count": 419,
   "metadata": {},
   "outputs": [],
   "source": [
    "result.to_csv(\"../Data/Labelsız eşleştirilmiş data.csv\",index=False)"
   ]
  },
  {
   "cell_type": "code",
   "execution_count": 412,
   "metadata": {},
   "outputs": [
    {
     "data": {
      "text/html": [
       "<div>\n",
       "<style scoped>\n",
       "    .dataframe tbody tr th:only-of-type {\n",
       "        vertical-align: middle;\n",
       "    }\n",
       "\n",
       "    .dataframe tbody tr th {\n",
       "        vertical-align: top;\n",
       "    }\n",
       "\n",
       "    .dataframe thead th {\n",
       "        text-align: right;\n",
       "    }\n",
       "</style>\n",
       "<table border=\"1\" class=\"dataframe\">\n",
       "  <thead>\n",
       "    <tr style=\"text-align: right;\">\n",
       "      <th></th>\n",
       "      <th>title</th>\n",
       "      <th>content</th>\n",
       "      <th>date</th>\n",
       "      <th>bank</th>\n",
       "      <th>next_date</th>\n",
       "      <th>Şimdi</th>\n",
       "      <th>Açılış</th>\n",
       "      <th>Yüksek</th>\n",
       "      <th>Fark %</th>\n",
       "    </tr>\n",
       "  </thead>\n",
       "  <tbody>\n",
       "    <tr>\n",
       "      <th>0</th>\n",
       "      <td>Endekste 101.000 sağlam destek</td>\n",
       "      <td>\"BIST 100 Endeksi, dünü % 0.23 artışla, 102,43...</td>\n",
       "      <td>2019-03-15</td>\n",
       "      <td>akbank</td>\n",
       "      <td>2019-03-16</td>\n",
       "      <td>6,88</td>\n",
       "      <td>6,73</td>\n",
       "      <td>6,92</td>\n",
       "      <td>2,84%</td>\n",
       "    </tr>\n",
       "    <tr>\n",
       "      <th>1</th>\n",
       "      <td>Bankalar uçarken havayolları iniyor</td>\n",
       "      <td>\"Bankalar uçarken havayolları iniyor Dolar güç...</td>\n",
       "      <td>2019-03-14</td>\n",
       "      <td>akbank</td>\n",
       "      <td>2019-03-15</td>\n",
       "      <td>6,69</td>\n",
       "      <td>6,60</td>\n",
       "      <td>6,72</td>\n",
       "      <td>1,83%</td>\n",
       "    </tr>\n",
       "    <tr>\n",
       "      <th>2</th>\n",
       "      <td>Şirket haberleri ve tavsiyeleri 13/3/2019</td>\n",
       "      <td>Akbank (AKBNK, Öneri \"EKLE\", Nötr):   Banka ta...</td>\n",
       "      <td>2019-03-13</td>\n",
       "      <td>akbank</td>\n",
       "      <td>2019-03-14</td>\n",
       "      <td>6,57</td>\n",
       "      <td>6,61</td>\n",
       "      <td>6,70</td>\n",
       "      <td>-0,61%</td>\n",
       "    </tr>\n",
       "    <tr>\n",
       "      <th>3</th>\n",
       "      <td>Şirket haberleri ve tavsiyeleri 12/3/2019</td>\n",
       "      <td>Alarko Holding (ALARK, Sınırlı Pozitif): Alark...</td>\n",
       "      <td>2019-03-12</td>\n",
       "      <td>akbank</td>\n",
       "      <td>2019-03-13</td>\n",
       "      <td>6,61</td>\n",
       "      <td>6,45</td>\n",
       "      <td>6,66</td>\n",
       "      <td>2,32%</td>\n",
       "    </tr>\n",
       "    <tr>\n",
       "      <th>4</th>\n",
       "      <td>Hazine'nin yeni projesine 12 banka ortak oluyor</td>\n",
       "      <td>Hazine ve Maliye Bakanlığı 10 milyon TL sermay...</td>\n",
       "      <td>2019-03-08</td>\n",
       "      <td>akbank</td>\n",
       "      <td>2019-03-09</td>\n",
       "      <td>7,27</td>\n",
       "      <td>7,15</td>\n",
       "      <td>7,34</td>\n",
       "      <td>1,39%</td>\n",
       "    </tr>\n",
       "  </tbody>\n",
       "</table>\n",
       "</div>"
      ],
      "text/plain": [
       "                                             title  \\\n",
       "0                   Endekste 101.000 sağlam destek   \n",
       "1              Bankalar uçarken havayolları iniyor   \n",
       "2        Şirket haberleri ve tavsiyeleri 13/3/2019   \n",
       "3        Şirket haberleri ve tavsiyeleri 12/3/2019   \n",
       "4  Hazine'nin yeni projesine 12 banka ortak oluyor   \n",
       "\n",
       "                                             content       date    bank  \\\n",
       "0  \"BIST 100 Endeksi, dünü % 0.23 artışla, 102,43... 2019-03-15  akbank   \n",
       "1  \"Bankalar uçarken havayolları iniyor Dolar güç... 2019-03-14  akbank   \n",
       "2  Akbank (AKBNK, Öneri \"EKLE\", Nötr):   Banka ta... 2019-03-13  akbank   \n",
       "3  Alarko Holding (ALARK, Sınırlı Pozitif): Alark... 2019-03-12  akbank   \n",
       "4  Hazine ve Maliye Bakanlığı 10 milyon TL sermay... 2019-03-08  akbank   \n",
       "\n",
       "   next_date Şimdi Açılış Yüksek  Fark %  \n",
       "0 2019-03-16  6,88   6,73   6,92   2,84%  \n",
       "1 2019-03-15  6,69   6,60   6,72   1,83%  \n",
       "2 2019-03-14  6,57   6,61   6,70  -0,61%  \n",
       "3 2019-03-13  6,61   6,45   6,66   2,32%  \n",
       "4 2019-03-09  7,27   7,15   7,34   1,39%  "
      ]
     },
     "execution_count": 412,
     "metadata": {},
     "output_type": "execute_result"
    }
   ],
   "source": [
    "result.head()"
   ]
  },
  {
   "cell_type": "markdown",
   "metadata": {},
   "source": [
    "## Label"
   ]
  },
  {
   "cell_type": "code",
   "execution_count": 413,
   "metadata": {},
   "outputs": [],
   "source": [
    "result[\"Fark %\"]=result[\"Fark %\"].str.replace(\"%\",\"\")\n",
    "result[\"Fark %\"]=result[\"Fark %\"].str.replace(\",\",\".\")"
   ]
  },
  {
   "cell_type": "code",
   "execution_count": 414,
   "metadata": {},
   "outputs": [
    {
     "data": {
      "text/html": [
       "<div>\n",
       "<style scoped>\n",
       "    .dataframe tbody tr th:only-of-type {\n",
       "        vertical-align: middle;\n",
       "    }\n",
       "\n",
       "    .dataframe tbody tr th {\n",
       "        vertical-align: top;\n",
       "    }\n",
       "\n",
       "    .dataframe thead th {\n",
       "        text-align: right;\n",
       "    }\n",
       "</style>\n",
       "<table border=\"1\" class=\"dataframe\">\n",
       "  <thead>\n",
       "    <tr style=\"text-align: right;\">\n",
       "      <th></th>\n",
       "      <th>title</th>\n",
       "      <th>content</th>\n",
       "      <th>date</th>\n",
       "      <th>bank</th>\n",
       "      <th>next_date</th>\n",
       "      <th>Şimdi</th>\n",
       "      <th>Açılış</th>\n",
       "      <th>Yüksek</th>\n",
       "      <th>Fark %</th>\n",
       "    </tr>\n",
       "  </thead>\n",
       "  <tbody>\n",
       "    <tr>\n",
       "      <th>0</th>\n",
       "      <td>Endekste 101.000 sağlam destek</td>\n",
       "      <td>\"BIST 100 Endeksi, dünü % 0.23 artışla, 102,43...</td>\n",
       "      <td>2019-03-15</td>\n",
       "      <td>akbank</td>\n",
       "      <td>2019-03-16</td>\n",
       "      <td>6,88</td>\n",
       "      <td>6,73</td>\n",
       "      <td>6,92</td>\n",
       "      <td>2.84</td>\n",
       "    </tr>\n",
       "    <tr>\n",
       "      <th>1</th>\n",
       "      <td>Bankalar uçarken havayolları iniyor</td>\n",
       "      <td>\"Bankalar uçarken havayolları iniyor Dolar güç...</td>\n",
       "      <td>2019-03-14</td>\n",
       "      <td>akbank</td>\n",
       "      <td>2019-03-15</td>\n",
       "      <td>6,69</td>\n",
       "      <td>6,60</td>\n",
       "      <td>6,72</td>\n",
       "      <td>1.83</td>\n",
       "    </tr>\n",
       "    <tr>\n",
       "      <th>2</th>\n",
       "      <td>Şirket haberleri ve tavsiyeleri 13/3/2019</td>\n",
       "      <td>Akbank (AKBNK, Öneri \"EKLE\", Nötr):   Banka ta...</td>\n",
       "      <td>2019-03-13</td>\n",
       "      <td>akbank</td>\n",
       "      <td>2019-03-14</td>\n",
       "      <td>6,57</td>\n",
       "      <td>6,61</td>\n",
       "      <td>6,70</td>\n",
       "      <td>-0.61</td>\n",
       "    </tr>\n",
       "    <tr>\n",
       "      <th>3</th>\n",
       "      <td>Şirket haberleri ve tavsiyeleri 12/3/2019</td>\n",
       "      <td>Alarko Holding (ALARK, Sınırlı Pozitif): Alark...</td>\n",
       "      <td>2019-03-12</td>\n",
       "      <td>akbank</td>\n",
       "      <td>2019-03-13</td>\n",
       "      <td>6,61</td>\n",
       "      <td>6,45</td>\n",
       "      <td>6,66</td>\n",
       "      <td>2.32</td>\n",
       "    </tr>\n",
       "    <tr>\n",
       "      <th>4</th>\n",
       "      <td>Hazine'nin yeni projesine 12 banka ortak oluyor</td>\n",
       "      <td>Hazine ve Maliye Bakanlığı 10 milyon TL sermay...</td>\n",
       "      <td>2019-03-08</td>\n",
       "      <td>akbank</td>\n",
       "      <td>2019-03-09</td>\n",
       "      <td>7,27</td>\n",
       "      <td>7,15</td>\n",
       "      <td>7,34</td>\n",
       "      <td>1.39</td>\n",
       "    </tr>\n",
       "  </tbody>\n",
       "</table>\n",
       "</div>"
      ],
      "text/plain": [
       "                                             title  \\\n",
       "0                   Endekste 101.000 sağlam destek   \n",
       "1              Bankalar uçarken havayolları iniyor   \n",
       "2        Şirket haberleri ve tavsiyeleri 13/3/2019   \n",
       "3        Şirket haberleri ve tavsiyeleri 12/3/2019   \n",
       "4  Hazine'nin yeni projesine 12 banka ortak oluyor   \n",
       "\n",
       "                                             content       date    bank  \\\n",
       "0  \"BIST 100 Endeksi, dünü % 0.23 artışla, 102,43... 2019-03-15  akbank   \n",
       "1  \"Bankalar uçarken havayolları iniyor Dolar güç... 2019-03-14  akbank   \n",
       "2  Akbank (AKBNK, Öneri \"EKLE\", Nötr):   Banka ta... 2019-03-13  akbank   \n",
       "3  Alarko Holding (ALARK, Sınırlı Pozitif): Alark... 2019-03-12  akbank   \n",
       "4  Hazine ve Maliye Bakanlığı 10 milyon TL sermay... 2019-03-08  akbank   \n",
       "\n",
       "   next_date Şimdi Açılış Yüksek Fark %  \n",
       "0 2019-03-16  6,88   6,73   6,92   2.84  \n",
       "1 2019-03-15  6,69   6,60   6,72   1.83  \n",
       "2 2019-03-14  6,57   6,61   6,70  -0.61  \n",
       "3 2019-03-13  6,61   6,45   6,66   2.32  \n",
       "4 2019-03-09  7,27   7,15   7,34   1.39  "
      ]
     },
     "execution_count": 414,
     "metadata": {},
     "output_type": "execute_result"
    }
   ],
   "source": [
    "result.head()"
   ]
  },
  {
   "cell_type": "code",
   "execution_count": 416,
   "metadata": {},
   "outputs": [],
   "source": [
    "result['Fark %'] = result['Fark %'].astype(float)\n",
    "def classify(fark):\n",
    "    if fark > 1:\n",
    "        return 1\n",
    "    elif fark < -1:\n",
    "        return -1\n",
    "    elif -1< fark < 1:\n",
    "        return 0\n",
    "result[\"label\"] = result.apply(lambda x:classify(x[\"Fark %\"]),axis=1)"
   ]
  },
  {
   "cell_type": "code",
   "execution_count": 417,
   "metadata": {},
   "outputs": [
    {
     "data": {
      "text/html": [
       "<div>\n",
       "<style scoped>\n",
       "    .dataframe tbody tr th:only-of-type {\n",
       "        vertical-align: middle;\n",
       "    }\n",
       "\n",
       "    .dataframe tbody tr th {\n",
       "        vertical-align: top;\n",
       "    }\n",
       "\n",
       "    .dataframe thead th {\n",
       "        text-align: right;\n",
       "    }\n",
       "</style>\n",
       "<table border=\"1\" class=\"dataframe\">\n",
       "  <thead>\n",
       "    <tr style=\"text-align: right;\">\n",
       "      <th></th>\n",
       "      <th>title</th>\n",
       "      <th>content</th>\n",
       "      <th>date</th>\n",
       "      <th>bank</th>\n",
       "      <th>next_date</th>\n",
       "      <th>Şimdi</th>\n",
       "      <th>Açılış</th>\n",
       "      <th>Yüksek</th>\n",
       "      <th>Fark %</th>\n",
       "      <th>label</th>\n",
       "    </tr>\n",
       "  </thead>\n",
       "  <tbody>\n",
       "    <tr>\n",
       "      <th>0</th>\n",
       "      <td>Endekste 101.000 sağlam destek</td>\n",
       "      <td>\"BIST 100 Endeksi, dünü % 0.23 artışla, 102,43...</td>\n",
       "      <td>2019-03-15</td>\n",
       "      <td>akbank</td>\n",
       "      <td>2019-03-16</td>\n",
       "      <td>6,88</td>\n",
       "      <td>6,73</td>\n",
       "      <td>6,92</td>\n",
       "      <td>2.84</td>\n",
       "      <td>1.0</td>\n",
       "    </tr>\n",
       "    <tr>\n",
       "      <th>1</th>\n",
       "      <td>Bankalar uçarken havayolları iniyor</td>\n",
       "      <td>\"Bankalar uçarken havayolları iniyor Dolar güç...</td>\n",
       "      <td>2019-03-14</td>\n",
       "      <td>akbank</td>\n",
       "      <td>2019-03-15</td>\n",
       "      <td>6,69</td>\n",
       "      <td>6,60</td>\n",
       "      <td>6,72</td>\n",
       "      <td>1.83</td>\n",
       "      <td>1.0</td>\n",
       "    </tr>\n",
       "    <tr>\n",
       "      <th>2</th>\n",
       "      <td>Şirket haberleri ve tavsiyeleri 13/3/2019</td>\n",
       "      <td>Akbank (AKBNK, Öneri \"EKLE\", Nötr):   Banka ta...</td>\n",
       "      <td>2019-03-13</td>\n",
       "      <td>akbank</td>\n",
       "      <td>2019-03-14</td>\n",
       "      <td>6,57</td>\n",
       "      <td>6,61</td>\n",
       "      <td>6,70</td>\n",
       "      <td>-0.61</td>\n",
       "      <td>0.0</td>\n",
       "    </tr>\n",
       "    <tr>\n",
       "      <th>3</th>\n",
       "      <td>Şirket haberleri ve tavsiyeleri 12/3/2019</td>\n",
       "      <td>Alarko Holding (ALARK, Sınırlı Pozitif): Alark...</td>\n",
       "      <td>2019-03-12</td>\n",
       "      <td>akbank</td>\n",
       "      <td>2019-03-13</td>\n",
       "      <td>6,61</td>\n",
       "      <td>6,45</td>\n",
       "      <td>6,66</td>\n",
       "      <td>2.32</td>\n",
       "      <td>1.0</td>\n",
       "    </tr>\n",
       "    <tr>\n",
       "      <th>4</th>\n",
       "      <td>Hazine'nin yeni projesine 12 banka ortak oluyor</td>\n",
       "      <td>Hazine ve Maliye Bakanlığı 10 milyon TL sermay...</td>\n",
       "      <td>2019-03-08</td>\n",
       "      <td>akbank</td>\n",
       "      <td>2019-03-09</td>\n",
       "      <td>7,27</td>\n",
       "      <td>7,15</td>\n",
       "      <td>7,34</td>\n",
       "      <td>1.39</td>\n",
       "      <td>1.0</td>\n",
       "    </tr>\n",
       "  </tbody>\n",
       "</table>\n",
       "</div>"
      ],
      "text/plain": [
       "                                             title  \\\n",
       "0                   Endekste 101.000 sağlam destek   \n",
       "1              Bankalar uçarken havayolları iniyor   \n",
       "2        Şirket haberleri ve tavsiyeleri 13/3/2019   \n",
       "3        Şirket haberleri ve tavsiyeleri 12/3/2019   \n",
       "4  Hazine'nin yeni projesine 12 banka ortak oluyor   \n",
       "\n",
       "                                             content       date    bank  \\\n",
       "0  \"BIST 100 Endeksi, dünü % 0.23 artışla, 102,43... 2019-03-15  akbank   \n",
       "1  \"Bankalar uçarken havayolları iniyor Dolar güç... 2019-03-14  akbank   \n",
       "2  Akbank (AKBNK, Öneri \"EKLE\", Nötr):   Banka ta... 2019-03-13  akbank   \n",
       "3  Alarko Holding (ALARK, Sınırlı Pozitif): Alark... 2019-03-12  akbank   \n",
       "4  Hazine ve Maliye Bakanlığı 10 milyon TL sermay... 2019-03-08  akbank   \n",
       "\n",
       "   next_date Şimdi Açılış Yüksek  Fark %  label  \n",
       "0 2019-03-16  6,88   6,73   6,92    2.84    1.0  \n",
       "1 2019-03-15  6,69   6,60   6,72    1.83    1.0  \n",
       "2 2019-03-14  6,57   6,61   6,70   -0.61    0.0  \n",
       "3 2019-03-13  6,61   6,45   6,66    2.32    1.0  \n",
       "4 2019-03-09  7,27   7,15   7,34    1.39    1.0  "
      ]
     },
     "execution_count": 417,
     "metadata": {},
     "output_type": "execute_result"
    }
   ],
   "source": [
    "result.head()"
   ]
  },
  {
   "cell_type": "code",
   "execution_count": 422,
   "metadata": {},
   "outputs": [],
   "source": [
    "result.drop([\"title\",\"date\",\"next_date\",\"Şimdi\",\"Açılış\",\"Yüksek\",\"Fark %\"],axis=1,inplace=True)"
   ]
  },
  {
   "cell_type": "code",
   "execution_count": 424,
   "metadata": {},
   "outputs": [],
   "source": [
    "result.to_csv(\"../Data/Labelled_news.csv\",index=False)"
   ]
  },
  {
   "cell_type": "code",
   "execution_count": 423,
   "metadata": {},
   "outputs": [
    {
     "data": {
      "text/html": [
       "<div>\n",
       "<style scoped>\n",
       "    .dataframe tbody tr th:only-of-type {\n",
       "        vertical-align: middle;\n",
       "    }\n",
       "\n",
       "    .dataframe tbody tr th {\n",
       "        vertical-align: top;\n",
       "    }\n",
       "\n",
       "    .dataframe thead th {\n",
       "        text-align: right;\n",
       "    }\n",
       "</style>\n",
       "<table border=\"1\" class=\"dataframe\">\n",
       "  <thead>\n",
       "    <tr style=\"text-align: right;\">\n",
       "      <th></th>\n",
       "      <th>content</th>\n",
       "      <th>bank</th>\n",
       "      <th>label</th>\n",
       "    </tr>\n",
       "  </thead>\n",
       "  <tbody>\n",
       "    <tr>\n",
       "      <th>0</th>\n",
       "      <td>\"BIST 100 Endeksi, dünü % 0.23 artışla, 102,43...</td>\n",
       "      <td>akbank</td>\n",
       "      <td>1.0</td>\n",
       "    </tr>\n",
       "    <tr>\n",
       "      <th>1</th>\n",
       "      <td>\"Bankalar uçarken havayolları iniyor Dolar güç...</td>\n",
       "      <td>akbank</td>\n",
       "      <td>1.0</td>\n",
       "    </tr>\n",
       "    <tr>\n",
       "      <th>2</th>\n",
       "      <td>Akbank (AKBNK, Öneri \"EKLE\", Nötr):   Banka ta...</td>\n",
       "      <td>akbank</td>\n",
       "      <td>0.0</td>\n",
       "    </tr>\n",
       "    <tr>\n",
       "      <th>3</th>\n",
       "      <td>Alarko Holding (ALARK, Sınırlı Pozitif): Alark...</td>\n",
       "      <td>akbank</td>\n",
       "      <td>1.0</td>\n",
       "    </tr>\n",
       "    <tr>\n",
       "      <th>4</th>\n",
       "      <td>Hazine ve Maliye Bakanlığı 10 milyon TL sermay...</td>\n",
       "      <td>akbank</td>\n",
       "      <td>1.0</td>\n",
       "    </tr>\n",
       "    <tr>\n",
       "      <th>...</th>\n",
       "      <td>...</td>\n",
       "      <td>...</td>\n",
       "      <td>...</td>\n",
       "    </tr>\n",
       "    <tr>\n",
       "      <th>12341</th>\n",
       "      <td>Ziraat Yatırım, Yapı Kredi Bankası hedef fiyat...</td>\n",
       "      <td>yapi%20kredi</td>\n",
       "      <td>0.0</td>\n",
       "    </tr>\n",
       "    <tr>\n",
       "      <th>12342</th>\n",
       "      <td>Ziraat Yatırım, ( www.ziraatyatirim.com.tr ) k...</td>\n",
       "      <td>yapi%20kredi</td>\n",
       "      <td>0.0</td>\n",
       "    </tr>\n",
       "    <tr>\n",
       "      <th>12343</th>\n",
       "      <td>Türk banka hisselerinin dün yüzde 7,4 değer ka...</td>\n",
       "      <td>yapi%20kredi</td>\n",
       "      <td>0.0</td>\n",
       "    </tr>\n",
       "    <tr>\n",
       "      <th>12344</th>\n",
       "      <td>Bugünlerde tüm bankalar yeni yılı planlama tel...</td>\n",
       "      <td>yapi%20kredi</td>\n",
       "      <td>0.0</td>\n",
       "    </tr>\n",
       "    <tr>\n",
       "      <th>12345</th>\n",
       "      <td>Borsadaki BIST 100 firmalarına bakıldığında is...</td>\n",
       "      <td>yapi%20kredi</td>\n",
       "      <td>0.0</td>\n",
       "    </tr>\n",
       "  </tbody>\n",
       "</table>\n",
       "<p>11577 rows × 3 columns</p>\n",
       "</div>"
      ],
      "text/plain": [
       "                                                 content          bank  label\n",
       "0      \"BIST 100 Endeksi, dünü % 0.23 artışla, 102,43...        akbank    1.0\n",
       "1      \"Bankalar uçarken havayolları iniyor Dolar güç...        akbank    1.0\n",
       "2      Akbank (AKBNK, Öneri \"EKLE\", Nötr):   Banka ta...        akbank    0.0\n",
       "3      Alarko Holding (ALARK, Sınırlı Pozitif): Alark...        akbank    1.0\n",
       "4      Hazine ve Maliye Bakanlığı 10 milyon TL sermay...        akbank    1.0\n",
       "...                                                  ...           ...    ...\n",
       "12341  Ziraat Yatırım, Yapı Kredi Bankası hedef fiyat...  yapi%20kredi    0.0\n",
       "12342  Ziraat Yatırım, ( www.ziraatyatirim.com.tr ) k...  yapi%20kredi    0.0\n",
       "12343  Türk banka hisselerinin dün yüzde 7,4 değer ka...  yapi%20kredi    0.0\n",
       "12344  Bugünlerde tüm bankalar yeni yılı planlama tel...  yapi%20kredi    0.0\n",
       "12345  Borsadaki BIST 100 firmalarına bakıldığında is...  yapi%20kredi    0.0\n",
       "\n",
       "[11577 rows x 3 columns]"
      ]
     },
     "execution_count": 423,
     "metadata": {},
     "output_type": "execute_result"
    }
   ],
   "source": [
    "result"
   ]
  },
  {
   "cell_type": "code",
   "execution_count": null,
   "metadata": {},
   "outputs": [],
   "source": []
  }
 ],
 "metadata": {
  "kernelspec": {
   "display_name": "myenv",
   "language": "python",
   "name": "myenv"
  },
  "language_info": {
   "codemirror_mode": {
    "name": "ipython",
    "version": 3
   },
   "file_extension": ".py",
   "mimetype": "text/x-python",
   "name": "python",
   "nbconvert_exporter": "python",
   "pygments_lexer": "ipython3",
   "version": "3.7.6"
  }
 },
 "nbformat": 4,
 "nbformat_minor": 4
}
