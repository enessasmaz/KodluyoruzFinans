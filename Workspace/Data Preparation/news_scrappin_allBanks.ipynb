{
 "cells": [
  {
   "cell_type": "code",
   "execution_count": 1,
   "metadata": {
    "id": "NHi-saK3u9Cw"
   },
   "outputs": [],
   "source": [
    "import requests\n",
    "from bs4 import BeautifulSoup \n",
    "from tqdm import tqdm\n",
    "import pandas as pd"
   ]
  },
  {
   "cell_type": "code",
   "execution_count": 2,
   "metadata": {
    "id": "PMAsaAAdu9C3"
   },
   "outputs": [
    {
     "name": "stderr",
     "output_type": "stream",
     "text": [
      "100%|██████████████████████████████████████████████████████████████████████████████████| 63/63 [00:58<00:00,  1.07it/s]\n"
     ]
    }
   ],
   "source": [
    "#BORSAGÜNDEM\n",
    "arra_borsa=[]\n",
    "for i in tqdm(range(1,64)):\n",
    "    page = requests.get(f\"https://www.borsagundem.com/ara/akbank/{i}\")\n",
    "    sp = BeautifulSoup(page.content,\"html.parser\")\n",
    "    liste = sp.find(\"div\",{\"class\":\"srch\"}).find_all(\"li\")\n",
    "    \n",
    "    for l in liste:      \n",
    "        title = l.strong.text\n",
    "        tarih = l.small.text\n",
    "        saat = tarih[tarih.find(\",\")+2:]\n",
    "        tarih = tarih[:tarih.find(\",\")]\n",
    "        icerik = l.span.text\n",
    "        \n",
    "        arra_borsa.append([title,icerik,tarih,saat])"
   ]
  },
  {
   "cell_type": "code",
   "execution_count": 3,
   "metadata": {
    "id": "FJQL17qou9C7"
   },
   "outputs": [
    {
     "name": "stderr",
     "output_type": "stream",
     "text": [
      " 27%|██████████████████████▋                                                            | 3/11 [00:33<01:33, 11.65s/it]"
     ]
    },
    {
     "name": "stdout",
     "output_type": "stream",
     "text": [
      "http://bigpara.hurriyet.com.tr/haberler/69/haftalik-piyasa-beklentisi_ID986177/\n"
     ]
    },
    {
     "name": "stderr",
     "output_type": "stream",
     "text": [
      "\r",
      " 36%|██████████████████████████████▏                                                    | 4/11 [00:46<01:23, 11.98s/it]"
     ]
    },
    {
     "name": "stdout",
     "output_type": "stream",
     "text": [
      "http://bigpara.hurriyet.com.tr/haberler/ekonomi-haberleri/kredi-kuruluslari-piyasalar_ID986143/\n"
     ]
    },
    {
     "name": "stderr",
     "output_type": "stream",
     "text": [
      "\r",
      " 45%|█████████████████████████████████████▋                                             | 5/11 [00:56<01:08, 11.34s/it]"
     ]
    },
    {
     "name": "stdout",
     "output_type": "stream",
     "text": [
      "http://bigpara.hurriyet.com.tr/haberler/88/odeabank-a-atanamayan-mudur-olayinin-perde-arkasi_ID986070/\n"
     ]
    },
    {
     "name": "stderr",
     "output_type": "stream",
     "text": [
      "\r",
      " 55%|█████████████████████████████████████████████▎                                     | 6/11 [01:05<00:53, 10.70s/it]"
     ]
    },
    {
     "name": "stdout",
     "output_type": "stream",
     "text": [
      "http://bigpara.hurriyet.com.tr/haberler/83/yurticinde-gundem-tcmb-ve-3-ceyrek-finansallari_ID986039/\n",
      "http://bigpara.hurriyet.com.tr/haberler/83/enflasyon-ve-sirket-k-rlari-on-planda-olacak_ID985998/\n"
     ]
    },
    {
     "name": "stderr",
     "output_type": "stream",
     "text": [
      "\r",
      " 64%|████████████████████████████████████████████████████▊                              | 7/11 [01:16<00:42, 10.59s/it]"
     ]
    },
    {
     "name": "stdout",
     "output_type": "stream",
     "text": [
      "http://bigpara.hurriyet.com.tr/haberler/83/1-hisse-bazen-100-hisseden-buyuktur_ID985960/\n"
     ]
    },
    {
     "name": "stderr",
     "output_type": "stream",
     "text": [
      "100%|██████████████████████████████████████████████████████████████████████████████████| 11/11 [01:49<00:00,  9.91s/it]\n"
     ]
    },
    {
     "data": {
      "text/plain": [
       "248"
      ]
     },
     "execution_count": 3,
     "metadata": {},
     "output_type": "execute_result"
    }
   ],
   "source": [
    "#HURRİYET\n",
    "array_hur = []\n",
    "adres = \"http://bigpara.hurriyet.com.tr\"\n",
    "for i in tqdm(range(1,12)):   \n",
    "    page = requests.get(f\"http://bigpara.hurriyet.com.tr/arama/?firstDate=2015-06-01&secondDate=2020-09-28&includeKap=False&page={i}&s=akbank\")\n",
    "    sp = BeautifulSoup(page.content, \"html.parser\")\n",
    "    liste = sp.find(\"div\",{\"class\":\"aramasonuc\"}).find_all(\"li\")\n",
    "    \n",
    "    \n",
    "    for l in liste:\n",
    "        try:\n",
    "            title = l.a.text\n",
    "            icerik = l.find_all(\"a\")[1].text\n",
    "            tarih = l.span.text[1:-1]\n",
    "\n",
    "            link = adres + l.a.get(\"href\")\n",
    "            page_content = requests.get(link)\n",
    "            sp_content = BeautifulSoup(page_content.content, \"html.parser\")\n",
    "            st = sp_content.find(\"div\",{\"class\":\"dtSizeLine\"}).span.text\n",
    "            saat = st[st.find(\"-\")+2:st.find(\"-\")+7]\n",
    "\n",
    "            array_hur.append([title,icerik,tarih,saat])\n",
    "        except:\n",
    "            print(link)\n",
    "            continue\n",
    "len(array_hur)"
   ]
  },
  {
   "cell_type": "code",
   "execution_count": 4,
   "metadata": {
    "id": "CB8NXkQSu9DA"
   },
   "outputs": [
    {
     "name": "stderr",
     "output_type": "stream",
     "text": [
      "100%|██████████████████████████████████████████████████████████████████████████████████| 51/51 [00:28<00:00,  1.78it/s]\n"
     ]
    }
   ],
   "source": [
    "#FİNANS GÜNDEM\n",
    "array_finans = []\n",
    "for i in tqdm(range(1,52)):\n",
    "    page = requests.get(f\"https://www.finansgundem.com/ara/akbank/{i}\")\n",
    "    sp = BeautifulSoup(page.content,\"html.parser\")\n",
    "    liste = sp.find(\"div\",{\"class\":\"srch\"}).find_all(\"li\")\n",
    "    \n",
    "    for l in liste:      \n",
    "        title = l.strong.text\n",
    "        tarih = l.small.text\n",
    "        saat = tarih[tarih.find(\",\")+2:]\n",
    "        tarih = tarih[:tarih.find(\",\")]\n",
    "        icerik = l.span.text\n",
    "        \n",
    "        array_finans.append([title,icerik,tarih,saat])"
   ]
  },
  {
   "cell_type": "code",
   "execution_count": 6,
   "metadata": {
    "id": "y6wlvYTEu9DE"
   },
   "outputs": [],
   "source": [
    "column_names = [\"title\",\"content\",\"date\",\"time\"]\n",
    "data = pd.DataFrame(data=arra_borsa+array_hur+array_finans,columns=column_names)"
   ]
  },
  {
   "cell_type": "code",
   "execution_count": 7,
   "metadata": {},
   "outputs": [
    {
     "data": {
      "text/html": [
       "<div>\n",
       "<style scoped>\n",
       "    .dataframe tbody tr th:only-of-type {\n",
       "        vertical-align: middle;\n",
       "    }\n",
       "\n",
       "    .dataframe tbody tr th {\n",
       "        vertical-align: top;\n",
       "    }\n",
       "\n",
       "    .dataframe thead th {\n",
       "        text-align: right;\n",
       "    }\n",
       "</style>\n",
       "<table border=\"1\" class=\"dataframe\">\n",
       "  <thead>\n",
       "    <tr style=\"text-align: right;\">\n",
       "      <th></th>\n",
       "      <th>title</th>\n",
       "      <th>content</th>\n",
       "      <th>date</th>\n",
       "      <th>time</th>\n",
       "    </tr>\n",
       "  </thead>\n",
       "  <tbody>\n",
       "    <tr>\n",
       "      <th>0</th>\n",
       "      <td>Endekste 101.000 sağlam destek</td>\n",
       "      <td>BIST 100, 103 bini aşağı geçtiğinde hedge şart...</td>\n",
       "      <td>15 Mart 2019</td>\n",
       "      <td>09:27</td>\n",
       "    </tr>\n",
       "    <tr>\n",
       "      <th>1</th>\n",
       "      <td>Analistlerden sanayi verisi yorumları geldi</td>\n",
       "      <td></td>\n",
       "      <td>14 Mart 2019</td>\n",
       "      <td>13:56</td>\n",
       "    </tr>\n",
       "    <tr>\n",
       "      <th>2</th>\n",
       "      <td>Bankalar uçarken havayolları iniyor</td>\n",
       "      <td>BOEING'in üretiminde kusurlu olup olmadığı inc...</td>\n",
       "      <td>14 Mart 2019</td>\n",
       "      <td>10:00</td>\n",
       "    </tr>\n",
       "    <tr>\n",
       "      <th>3</th>\n",
       "      <td>Şirket haberleri ve tavsiyeleri 13/3/2019</td>\n",
       "      <td>AKBNK, EREGL,THYAO, başta olmak üzere günün ön...</td>\n",
       "      <td>13 Mart 2019</td>\n",
       "      <td>08:59</td>\n",
       "    </tr>\n",
       "    <tr>\n",
       "      <th>4</th>\n",
       "      <td>Şirket haberleri ve tavsiyeleri 12/3/2019</td>\n",
       "      <td>ALARK,EKGYO,GOLTS başta olmak üzere günün önem...</td>\n",
       "      <td>12 Mart 2019</td>\n",
       "      <td>09:10</td>\n",
       "    </tr>\n",
       "  </tbody>\n",
       "</table>\n",
       "</div>"
      ],
      "text/plain": [
       "                                         title  \\\n",
       "0               Endekste 101.000 sağlam destek   \n",
       "1  Analistlerden sanayi verisi yorumları geldi   \n",
       "2          Bankalar uçarken havayolları iniyor   \n",
       "3    Şirket haberleri ve tavsiyeleri 13/3/2019   \n",
       "4    Şirket haberleri ve tavsiyeleri 12/3/2019   \n",
       "\n",
       "                                             content          date   time  \n",
       "0  BIST 100, 103 bini aşağı geçtiğinde hedge şart...  15 Mart 2019  09:27  \n",
       "1                                                     14 Mart 2019  13:56  \n",
       "2  BOEING'in üretiminde kusurlu olup olmadığı inc...  14 Mart 2019  10:00  \n",
       "3  AKBNK, EREGL,THYAO, başta olmak üzere günün ön...  13 Mart 2019  08:59  \n",
       "4  ALARK,EKGYO,GOLTS başta olmak üzere günün önem...  12 Mart 2019  09:10  "
      ]
     },
     "execution_count": 7,
     "metadata": {},
     "output_type": "execute_result"
    }
   ],
   "source": [
    "data.head()"
   ]
  },
  {
   "cell_type": "code",
   "execution_count": null,
   "metadata": {},
   "outputs": [],
   "source": []
  },
  {
   "cell_type": "code",
   "execution_count": null,
   "metadata": {
    "id": "8CRcw-SAu9DH"
   },
   "outputs": [],
   "source": [
    "https://www.finansgundem.com/ara"
   ]
  }
 ],
 "metadata": {
  "colab": {
   "name": "news_scraping.ipynb",
   "provenance": []
  },
  "kernelspec": {
   "display_name": "Python 3",
   "language": "python",
   "name": "python3"
  },
  "language_info": {
   "codemirror_mode": {
    "name": "ipython",
    "version": 3
   },
   "file_extension": ".py",
   "mimetype": "text/x-python",
   "name": "python",
   "nbconvert_exporter": "python",
   "pygments_lexer": "ipython3",
   "version": "3.7.6"
  }
 },
 "nbformat": 4,
 "nbformat_minor": 4
}
